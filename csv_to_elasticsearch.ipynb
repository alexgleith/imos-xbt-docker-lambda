{
 "cells": [
  {
   "cell_type": "code",
   "execution_count": null,
   "metadata": {},
   "outputs": [],
   "source": [
    "import os\n",
    "\n",
    "import awswrangler as wr\n",
    "import fsspec\n",
    "import pandas as pd\n",
    "from aodndata.soop.soop_xbt_nrt import parse_bufr_file\n",
    "from elasticsearch import Elasticsearch\n",
    "from elasticsearch.helpers import bulk\n",
    "from elasticsearch_dsl.connections import connections\n"
   ]
  },
  {
   "cell_type": "code",
   "execution_count": null,
   "metadata": {},
   "outputs": [],
   "source": [
    "BUCKET = \"imos-data-lab-raw\"\n",
    "PATH = \"IMOS/SOOP/SOOP-XBT/REALTIME_BUFR\"\n",
    "\n",
    "BUCKET_OPTIMISED = \"imos-data-lab-optimised\"\n",
    "PATH_OPTIMISED = \"TEST_DATA/XBT\""
   ]
  },
  {
   "cell_type": "code",
   "execution_count": null,
   "metadata": {},
   "outputs": [],
   "source": [
    "# Use FSSpec to get a list of files in the bucket at the path\n",
    "fs = fsspec.filesystem('s3')\n",
    "\n",
    "files = ['s3://' + f for f in fs.glob(f\"s3://{BUCKET}/{PATH}/*/*.csv\")]\n",
    "files[0]"
   ]
  },
  {
   "cell_type": "code",
   "execution_count": null,
   "metadata": {},
   "outputs": [],
   "source": [
    "def process_file(file, test=False):\n",
    "    print(f\"Processing file {file}\")\n",
    "    profiles = parse_bufr_file(file)\n",
    "\n",
    "    for profile in profiles:\n",
    "        metadata = {\n",
    "            \"profile_geotime\": profile[\"profile_geotime\"],\n",
    "            \"profile_metadata\": profile[\"profile_metadata\"],\n",
    "        }\n",
    "\n",
    "        out_file = f'{metadata[\"profile_geotime\"][\"date_utc\"]:%Y%m%dT%H%M}_{metadata[\"profile_metadata\"][\"XBT_uniqueid\"]}'\n",
    "        metadata[\"profile_geotime\"][\n",
    "            \"date_utc\"\n",
    "        ] = f'{metadata[\"profile_geotime\"][\"date_utc\"]:%Y-%m-%dT%H:%M:00}'\n",
    "\n",
    "        p = profile[\"profile_data\"]\n",
    "        data_headers = [\"depth\", \"temp\"]\n",
    "        data_headers_array = [\"glob_gtspp\", \"glob_gtspp_depth\", \"glob_gtspp_temp\"]\n",
    "\n",
    "        to_zip = [list(p[var].values) for var in data_headers] + [\n",
    "            list(p[var]) for var in data_headers_array\n",
    "        ]\n",
    "        data = list(zip(*to_zip))\n",
    "\n",
    "        point = f'POINT ({metadata[\"profile_geotime\"][\"longitude\"]} {metadata[\"profile_geotime\"][\"latitude\"]})'\n",
    "        coords = [metadata[\"profile_geotime\"][\"longitude\"], metadata[\"profile_geotime\"][\"latitude\"]]\n",
    "        time = metadata[\"profile_geotime\"][\"date_utc\"]\n",
    "        uid = metadata[\"profile_metadata\"][\"XBT_uniqueid\"]\n",
    "\n",
    "        df = pd.DataFrame(data, columns=data_headers + data_headers_array)\n",
    "        df[\"uid\"] = uid\n",
    "        df[\"geom\"] = point\n",
    "        df[\"datetime\"] = time\n",
    "        df['datetime'] = pd.to_datetime(df.datetime)\n",
    "        for var in data_headers_array:\n",
    "            df[var] = df[var].astype(int)\n",
    "\n",
    "        for row in df.iterrows():\n",
    "            data = row[1]\n",
    "            yield {\n",
    "                \"_index\": \"soop_xbt\",\n",
    "                \"temp\": data.temp,\n",
    "                \"depth\": data.depth,\n",
    "                \"glob_gtspp\": data.glob_gtspp,\n",
    "                \"glob_gtspp_depth\": data.glob_gtspp_depth,\n",
    "                \"glob_gtspp_temp\": data.glob_gtspp_temp,\n",
    "                \"uid\": data.uid,\n",
    "                \"location\": coords,\n",
    "                \"datetime\": data.datetime\n",
    "            }\n"
   ]
  },
  {
   "cell_type": "code",
   "execution_count": null,
   "metadata": {},
   "outputs": [],
   "source": [
    "client = Elasticsearch(\n",
    "    \"https://foss4g-workshop.es.europe-west3.gcp.cloud.es.io\",\n",
    "    http_auth=(\"elastic\", os.environ.get(\"ES_KEY\", \"\")),\n",
    ")\n",
    "\n",
    "client.indices.create(\n",
    "    \"soop_xbt\",\n",
    "    ignore=400,\n",
    "    body={\"mappings\": {\"properties\": {\"location\": {\"type\": \"geo_point\"}}}},\n",
    ")\n",
    "\n",
    "for file in files:\n",
    "    print(f\"Processing file {file}\")\n",
    "    bulk(client, process_file(file))\n",
    "    # break\n",
    "\n"
   ]
  }
 ],
 "metadata": {
  "kernelspec": {
   "display_name": "Python 3.9.13 64-bit",
   "language": "python",
   "name": "python3"
  },
  "language_info": {
   "codemirror_mode": {
    "name": "ipython",
    "version": 3
   },
   "file_extension": ".py",
   "mimetype": "text/x-python",
   "name": "python",
   "nbconvert_exporter": "python",
   "pygments_lexer": "ipython3",
   "version": "3.9.13"
  },
  "orig_nbformat": 4,
  "vscode": {
   "interpreter": {
    "hash": "aee8b7b246df8f9039afb4144a1f6fd8d2ca17a180786b69acc140d282b71a49"
   }
  }
 },
 "nbformat": 4,
 "nbformat_minor": 2
}
