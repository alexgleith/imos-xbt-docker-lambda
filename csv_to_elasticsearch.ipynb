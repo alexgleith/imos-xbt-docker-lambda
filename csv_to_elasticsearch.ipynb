{
 "cells": [
  {
   "cell_type": "code",
   "execution_count": 19,
   "metadata": {},
   "outputs": [],
   "source": [
    "import os\n",
    "\n",
    "import awswrangler as wr\n",
    "import fsspec\n",
    "import pandas as pd\n",
    "from aodndata.soop.soop_xbt_nrt import parse_bufr_file\n",
    "from elasticsearch import Elasticsearch\n",
    "from elasticsearch.helpers import bulk\n",
    "from elasticsearch_dsl.connections import connections\n"
   ]
  },
  {
   "cell_type": "code",
   "execution_count": 3,
   "metadata": {},
   "outputs": [],
   "source": [
    "BUCKET = \"imos-data-lab-raw\"\n",
    "PATH = \"IMOS/SOOP/SOOP-XBT/REALTIME_BUFR\"\n",
    "\n",
    "BUCKET_OPTIMISED = \"imos-data-lab-optimised\"\n",
    "PATH_OPTIMISED = \"TEST_DATA/XBT\""
   ]
  },
  {
   "cell_type": "code",
   "execution_count": 4,
   "metadata": {},
   "outputs": [
    {
     "data": {
      "text/plain": [
       "'s3://imos-data-lab-raw/IMOS/SOOP/SOOP-XBT/REALTIME_BUFR/2020/IOSS01_AMMC_20200901134700_D5LR9.csv'"
      ]
     },
     "execution_count": 4,
     "metadata": {},
     "output_type": "execute_result"
    }
   ],
   "source": [
    "# Use FSSpec to get a list of files in the bucket at the path\n",
    "fs = fsspec.filesystem('s3')\n",
    "\n",
    "files = ['s3://' + f for f in fs.glob(f\"s3://{BUCKET}/{PATH}/*/*.csv\")]\n",
    "files[0]"
   ]
  },
  {
   "cell_type": "code",
   "execution_count": 32,
   "metadata": {},
   "outputs": [],
   "source": [
    "def process_file(file, test=False):\n",
    "    print(f\"Processing file {file}\")\n",
    "    profiles = parse_bufr_file(file)\n",
    "\n",
    "    for profile in profiles:\n",
    "        metadata = {\n",
    "            \"profile_geotime\": profile[\"profile_geotime\"],\n",
    "            \"profile_metadata\": profile[\"profile_metadata\"],\n",
    "        }\n",
    "\n",
    "        out_file = f'{metadata[\"profile_geotime\"][\"date_utc\"]:%Y%m%dT%H%M}_{metadata[\"profile_metadata\"][\"XBT_uniqueid\"]}'\n",
    "        metadata[\"profile_geotime\"][\n",
    "            \"date_utc\"\n",
    "        ] = f'{metadata[\"profile_geotime\"][\"date_utc\"]:%Y-%m-%dT%H:%M:00}'\n",
    "\n",
    "        p = profile[\"profile_data\"]\n",
    "        data_headers = [\"depth\", \"temp\"]\n",
    "        data_headers_array = [\"glob_gtspp\", \"glob_gtspp_depth\", \"glob_gtspp_temp\"]\n",
    "\n",
    "        to_zip = [list(p[var].values) for var in data_headers] + [\n",
    "            list(p[var]) for var in data_headers_array\n",
    "        ]\n",
    "        data = list(zip(*to_zip))\n",
    "\n",
    "        point = f'POINT ({metadata[\"profile_geotime\"][\"longitude\"]} {metadata[\"profile_geotime\"][\"latitude\"]})'\n",
    "        coords = [metadata[\"profile_geotime\"][\"longitude\"], metadata[\"profile_geotime\"][\"latitude\"]]\n",
    "        time = metadata[\"profile_geotime\"][\"date_utc\"]\n",
    "        uid = metadata[\"profile_metadata\"][\"XBT_uniqueid\"]\n",
    "\n",
    "        df = pd.DataFrame(data, columns=data_headers + data_headers_array)\n",
    "        df[\"uid\"] = uid\n",
    "        df[\"geom\"] = point\n",
    "        df[\"datetime\"] = time\n",
    "        df['datetime'] = pd.to_datetime(df.datetime)\n",
    "        for var in data_headers_array:\n",
    "            df[var] = df[var].astype(int)\n",
    "\n",
    "        for row in df.iterrows():\n",
    "            data = row[1]\n",
    "            yield {\n",
    "                \"_index\": \"soop_xbt\",\n",
    "                \"temp\": data.temp,\n",
    "                \"depth\": data.depth,\n",
    "                \"glob_gtspp\": data.glob_gtspp,\n",
    "                \"glob_gtspp_depth\": data.glob_gtspp_depth,\n",
    "                \"glob_gtspp_temp\": data.glob_gtspp_temp,\n",
    "                \"uid\": data.uid,\n",
    "                \"location\": coords,\n",
    "                \"datetime\": data.datetime\n",
    "            }\n"
   ]
  },
  {
   "cell_type": "code",
   "execution_count": 37,
   "metadata": {},
   "outputs": [
    {
     "name": "stdout",
     "output_type": "stream",
     "text": [
      "Processing file s3://imos-data-lab-raw/IMOS/SOOP/SOOP-XBT/REALTIME_BUFR/2020/IOSS01_AMMC_20200901134700_D5LR9.csv\n",
      "Processing file s3://imos-data-lab-raw/IMOS/SOOP/SOOP-XBT/REALTIME_BUFR/2020/IOSS01_AMMC_20200901134700_D5LR9.csv\n"
     ]
    },
    {
     "name": "stderr",
     "output_type": "stream",
     "text": [
      "/usr/local/lib/python3.9/site-packages/aodndata/soop/soop_xbt_nrt.py:190: FutureWarning: The error_bad_lines argument has been deprecated and will be removed in a future version. Use on_bad_lines in the future.\n",
      "\n",
      "\n",
      "  df = pd.read_csv(csv_path, header=None, engine=\"python\", error_bad_lines=False)\n"
     ]
    },
    {
     "name": "stdout",
     "output_type": "stream",
     "text": [
      "Processing file s3://imos-data-lab-raw/IMOS/SOOP/SOOP-XBT/REALTIME_BUFR/2020/IOSS01_AMMC_20200901170100_D5LR9.csv\n",
      "Processing file s3://imos-data-lab-raw/IMOS/SOOP/SOOP-XBT/REALTIME_BUFR/2020/IOSS01_AMMC_20200901170100_D5LR9.csv\n"
     ]
    },
    {
     "name": "stderr",
     "output_type": "stream",
     "text": [
      "/usr/local/lib/python3.9/site-packages/aodndata/soop/soop_xbt_nrt.py:190: FutureWarning: The error_bad_lines argument has been deprecated and will be removed in a future version. Use on_bad_lines in the future.\n",
      "\n",
      "\n",
      "  df = pd.read_csv(csv_path, header=None, engine=\"python\", error_bad_lines=False)\n"
     ]
    },
    {
     "name": "stdout",
     "output_type": "stream",
     "text": [
      "Processing file s3://imos-data-lab-raw/IMOS/SOOP/SOOP-XBT/REALTIME_BUFR/2020/IOSS01_AMMC_20200901210400_D5LR9.csv\n",
      "Processing file s3://imos-data-lab-raw/IMOS/SOOP/SOOP-XBT/REALTIME_BUFR/2020/IOSS01_AMMC_20200901210400_D5LR9.csv\n"
     ]
    },
    {
     "name": "stderr",
     "output_type": "stream",
     "text": [
      "/usr/local/lib/python3.9/site-packages/aodndata/soop/soop_xbt_nrt.py:190: FutureWarning: The error_bad_lines argument has been deprecated and will be removed in a future version. Use on_bad_lines in the future.\n",
      "\n",
      "\n",
      "  df = pd.read_csv(csv_path, header=None, engine=\"python\", error_bad_lines=False)\n"
     ]
    },
    {
     "name": "stdout",
     "output_type": "stream",
     "text": [
      "Processing file s3://imos-data-lab-raw/IMOS/SOOP/SOOP-XBT/REALTIME_BUFR/2020/IOSS01_AMMC_20200902010100_D5LR9.csv\n",
      "Processing file s3://imos-data-lab-raw/IMOS/SOOP/SOOP-XBT/REALTIME_BUFR/2020/IOSS01_AMMC_20200902010100_D5LR9.csv\n"
     ]
    },
    {
     "name": "stderr",
     "output_type": "stream",
     "text": [
      "/usr/local/lib/python3.9/site-packages/aodndata/soop/soop_xbt_nrt.py:190: FutureWarning: The error_bad_lines argument has been deprecated and will be removed in a future version. Use on_bad_lines in the future.\n",
      "\n",
      "\n",
      "  df = pd.read_csv(csv_path, header=None, engine=\"python\", error_bad_lines=False)\n"
     ]
    },
    {
     "name": "stdout",
     "output_type": "stream",
     "text": [
      "Processing file s3://imos-data-lab-raw/IMOS/SOOP/SOOP-XBT/REALTIME_BUFR/2020/IOSS01_AMMC_20200902050000_D5LR9.csv\n",
      "Processing file s3://imos-data-lab-raw/IMOS/SOOP/SOOP-XBT/REALTIME_BUFR/2020/IOSS01_AMMC_20200902050000_D5LR9.csv\n"
     ]
    },
    {
     "name": "stderr",
     "output_type": "stream",
     "text": [
      "/usr/local/lib/python3.9/site-packages/aodndata/soop/soop_xbt_nrt.py:190: FutureWarning: The error_bad_lines argument has been deprecated and will be removed in a future version. Use on_bad_lines in the future.\n",
      "\n",
      "\n",
      "  df = pd.read_csv(csv_path, header=None, engine=\"python\", error_bad_lines=False)\n"
     ]
    },
    {
     "name": "stdout",
     "output_type": "stream",
     "text": [
      "Processing file s3://imos-data-lab-raw/IMOS/SOOP/SOOP-XBT/REALTIME_BUFR/2020/IOSS01_AMMC_20200902085600_D5LR9.csv\n",
      "Processing file s3://imos-data-lab-raw/IMOS/SOOP/SOOP-XBT/REALTIME_BUFR/2020/IOSS01_AMMC_20200902085600_D5LR9.csv\n"
     ]
    },
    {
     "name": "stderr",
     "output_type": "stream",
     "text": [
      "/usr/local/lib/python3.9/site-packages/aodndata/soop/soop_xbt_nrt.py:190: FutureWarning: The error_bad_lines argument has been deprecated and will be removed in a future version. Use on_bad_lines in the future.\n",
      "\n",
      "\n",
      "  df = pd.read_csv(csv_path, header=None, engine=\"python\", error_bad_lines=False)\n"
     ]
    },
    {
     "name": "stdout",
     "output_type": "stream",
     "text": [
      "Processing file s3://imos-data-lab-raw/IMOS/SOOP/SOOP-XBT/REALTIME_BUFR/2020/IOSS01_AMMC_20200902130400_D5LR9.csv\n",
      "Processing file s3://imos-data-lab-raw/IMOS/SOOP/SOOP-XBT/REALTIME_BUFR/2020/IOSS01_AMMC_20200902130400_D5LR9.csv\n"
     ]
    },
    {
     "name": "stderr",
     "output_type": "stream",
     "text": [
      "/usr/local/lib/python3.9/site-packages/aodndata/soop/soop_xbt_nrt.py:190: FutureWarning: The error_bad_lines argument has been deprecated and will be removed in a future version. Use on_bad_lines in the future.\n",
      "\n",
      "\n",
      "  df = pd.read_csv(csv_path, header=None, engine=\"python\", error_bad_lines=False)\n"
     ]
    },
    {
     "name": "stdout",
     "output_type": "stream",
     "text": [
      "Processing file s3://imos-data-lab-raw/IMOS/SOOP/SOOP-XBT/REALTIME_BUFR/2020/IOSS01_AMMC_20200902180000_D5LR9.csv\n",
      "Processing file s3://imos-data-lab-raw/IMOS/SOOP/SOOP-XBT/REALTIME_BUFR/2020/IOSS01_AMMC_20200902180000_D5LR9.csv\n"
     ]
    },
    {
     "name": "stderr",
     "output_type": "stream",
     "text": [
      "/usr/local/lib/python3.9/site-packages/aodndata/soop/soop_xbt_nrt.py:190: FutureWarning: The error_bad_lines argument has been deprecated and will be removed in a future version. Use on_bad_lines in the future.\n",
      "\n",
      "\n",
      "  df = pd.read_csv(csv_path, header=None, engine=\"python\", error_bad_lines=False)\n"
     ]
    },
    {
     "name": "stdout",
     "output_type": "stream",
     "text": [
      "Processing file s3://imos-data-lab-raw/IMOS/SOOP/SOOP-XBT/REALTIME_BUFR/2020/IOSS01_AMMC_20200902220200_D5LR9.csv\n",
      "Processing file s3://imos-data-lab-raw/IMOS/SOOP/SOOP-XBT/REALTIME_BUFR/2020/IOSS01_AMMC_20200902220200_D5LR9.csv\n"
     ]
    },
    {
     "name": "stderr",
     "output_type": "stream",
     "text": [
      "/usr/local/lib/python3.9/site-packages/aodndata/soop/soop_xbt_nrt.py:190: FutureWarning: The error_bad_lines argument has been deprecated and will be removed in a future version. Use on_bad_lines in the future.\n",
      "\n",
      "\n",
      "  df = pd.read_csv(csv_path, header=None, engine=\"python\", error_bad_lines=False)\n"
     ]
    },
    {
     "name": "stdout",
     "output_type": "stream",
     "text": [
      "Processing file s3://imos-data-lab-raw/IMOS/SOOP/SOOP-XBT/REALTIME_BUFR/2020/IOSS01_AMMC_20200903020200_D5LR9.csv\n",
      "Processing file s3://imos-data-lab-raw/IMOS/SOOP/SOOP-XBT/REALTIME_BUFR/2020/IOSS01_AMMC_20200903020200_D5LR9.csv\n"
     ]
    },
    {
     "name": "stderr",
     "output_type": "stream",
     "text": [
      "/usr/local/lib/python3.9/site-packages/aodndata/soop/soop_xbt_nrt.py:190: FutureWarning: The error_bad_lines argument has been deprecated and will be removed in a future version. Use on_bad_lines in the future.\n",
      "\n",
      "\n",
      "  df = pd.read_csv(csv_path, header=None, engine=\"python\", error_bad_lines=False)\n"
     ]
    },
    {
     "name": "stdout",
     "output_type": "stream",
     "text": [
      "Processing file s3://imos-data-lab-raw/IMOS/SOOP/SOOP-XBT/REALTIME_BUFR/2020/IOSS01_AMMC_20200903060000_D5LR9.csv\n",
      "Processing file s3://imos-data-lab-raw/IMOS/SOOP/SOOP-XBT/REALTIME_BUFR/2020/IOSS01_AMMC_20200903060000_D5LR9.csv\n"
     ]
    },
    {
     "name": "stderr",
     "output_type": "stream",
     "text": [
      "/usr/local/lib/python3.9/site-packages/aodndata/soop/soop_xbt_nrt.py:190: FutureWarning: The error_bad_lines argument has been deprecated and will be removed in a future version. Use on_bad_lines in the future.\n",
      "\n",
      "\n",
      "  df = pd.read_csv(csv_path, header=None, engine=\"python\", error_bad_lines=False)\n"
     ]
    },
    {
     "name": "stdout",
     "output_type": "stream",
     "text": [
      "Processing file s3://imos-data-lab-raw/IMOS/SOOP/SOOP-XBT/REALTIME_BUFR/2020/IOSS01_AMMC_20200903060800_D5LR9.csv\n",
      "Processing file s3://imos-data-lab-raw/IMOS/SOOP/SOOP-XBT/REALTIME_BUFR/2020/IOSS01_AMMC_20200903060800_D5LR9.csv\n"
     ]
    },
    {
     "name": "stderr",
     "output_type": "stream",
     "text": [
      "/usr/local/lib/python3.9/site-packages/aodndata/soop/soop_xbt_nrt.py:190: FutureWarning: The error_bad_lines argument has been deprecated and will be removed in a future version. Use on_bad_lines in the future.\n",
      "\n",
      "\n",
      "  df = pd.read_csv(csv_path, header=None, engine=\"python\", error_bad_lines=False)\n"
     ]
    },
    {
     "name": "stdout",
     "output_type": "stream",
     "text": [
      "Processing file s3://imos-data-lab-raw/IMOS/SOOP/SOOP-XBT/REALTIME_BUFR/2020/IOSS01_AMMC_20200903095900_D5LR9.csv\n",
      "Processing file s3://imos-data-lab-raw/IMOS/SOOP/SOOP-XBT/REALTIME_BUFR/2020/IOSS01_AMMC_20200903095900_D5LR9.csv\n"
     ]
    },
    {
     "name": "stderr",
     "output_type": "stream",
     "text": [
      "/usr/local/lib/python3.9/site-packages/aodndata/soop/soop_xbt_nrt.py:190: FutureWarning: The error_bad_lines argument has been deprecated and will be removed in a future version. Use on_bad_lines in the future.\n",
      "\n",
      "\n",
      "  df = pd.read_csv(csv_path, header=None, engine=\"python\", error_bad_lines=False)\n"
     ]
    },
    {
     "name": "stdout",
     "output_type": "stream",
     "text": [
      "Processing file s3://imos-data-lab-raw/IMOS/SOOP/SOOP-XBT/REALTIME_BUFR/2020/IOSS01_AMMC_20200903140100_D5LR9.csv\n",
      "Processing file s3://imos-data-lab-raw/IMOS/SOOP/SOOP-XBT/REALTIME_BUFR/2020/IOSS01_AMMC_20200903140100_D5LR9.csv\n"
     ]
    },
    {
     "name": "stderr",
     "output_type": "stream",
     "text": [
      "/usr/local/lib/python3.9/site-packages/aodndata/soop/soop_xbt_nrt.py:190: FutureWarning: The error_bad_lines argument has been deprecated and will be removed in a future version. Use on_bad_lines in the future.\n",
      "\n",
      "\n",
      "  df = pd.read_csv(csv_path, header=None, engine=\"python\", error_bad_lines=False)\n"
     ]
    },
    {
     "name": "stdout",
     "output_type": "stream",
     "text": [
      "Processing file s3://imos-data-lab-raw/IMOS/SOOP/SOOP-XBT/REALTIME_BUFR/2020/IOSS01_AMMC_20200903172900_D5LR9.csv\n",
      "Processing file s3://imos-data-lab-raw/IMOS/SOOP/SOOP-XBT/REALTIME_BUFR/2020/IOSS01_AMMC_20200903172900_D5LR9.csv\n"
     ]
    },
    {
     "name": "stderr",
     "output_type": "stream",
     "text": [
      "/usr/local/lib/python3.9/site-packages/aodndata/soop/soop_xbt_nrt.py:190: FutureWarning: The error_bad_lines argument has been deprecated and will be removed in a future version. Use on_bad_lines in the future.\n",
      "\n",
      "\n",
      "  df = pd.read_csv(csv_path, header=None, engine=\"python\", error_bad_lines=False)\n"
     ]
    },
    {
     "name": "stdout",
     "output_type": "stream",
     "text": [
      "Processing file s3://imos-data-lab-raw/IMOS/SOOP/SOOP-XBT/REALTIME_BUFR/2020/IOSS01_AMMC_20200906034500_VLMJ.csv\n",
      "Processing file s3://imos-data-lab-raw/IMOS/SOOP/SOOP-XBT/REALTIME_BUFR/2020/IOSS01_AMMC_20200906034500_VLMJ.csv\n"
     ]
    },
    {
     "name": "stderr",
     "output_type": "stream",
     "text": [
      "/usr/local/lib/python3.9/site-packages/aodndata/soop/soop_xbt_nrt.py:190: FutureWarning: The error_bad_lines argument has been deprecated and will be removed in a future version. Use on_bad_lines in the future.\n",
      "\n",
      "\n",
      "  df = pd.read_csv(csv_path, header=None, engine=\"python\", error_bad_lines=False)\n"
     ]
    },
    {
     "name": "stdout",
     "output_type": "stream",
     "text": [
      "Processing file s3://imos-data-lab-raw/IMOS/SOOP/SOOP-XBT/REALTIME_BUFR/2020/IOSS01_AMMC_20200908051000_VLMJ.csv\n",
      "Processing file s3://imos-data-lab-raw/IMOS/SOOP/SOOP-XBT/REALTIME_BUFR/2020/IOSS01_AMMC_20200908051000_VLMJ.csv\n"
     ]
    },
    {
     "name": "stderr",
     "output_type": "stream",
     "text": [
      "/usr/local/lib/python3.9/site-packages/aodndata/soop/soop_xbt_nrt.py:190: FutureWarning: The error_bad_lines argument has been deprecated and will be removed in a future version. Use on_bad_lines in the future.\n",
      "\n",
      "\n",
      "  df = pd.read_csv(csv_path, header=None, engine=\"python\", error_bad_lines=False)\n"
     ]
    },
    {
     "name": "stdout",
     "output_type": "stream",
     "text": [
      "Processing file s3://imos-data-lab-raw/IMOS/SOOP/SOOP-XBT/REALTIME_BUFR/2020/IOSS01_AMMC_20200909061200_VLMJ.csv\n",
      "Processing file s3://imos-data-lab-raw/IMOS/SOOP/SOOP-XBT/REALTIME_BUFR/2020/IOSS01_AMMC_20200909061200_VLMJ.csv\n"
     ]
    },
    {
     "name": "stderr",
     "output_type": "stream",
     "text": [
      "/usr/local/lib/python3.9/site-packages/aodndata/soop/soop_xbt_nrt.py:190: FutureWarning: The error_bad_lines argument has been deprecated and will be removed in a future version. Use on_bad_lines in the future.\n",
      "\n",
      "\n",
      "  df = pd.read_csv(csv_path, header=None, engine=\"python\", error_bad_lines=False)\n"
     ]
    },
    {
     "name": "stdout",
     "output_type": "stream",
     "text": [
      "Processing file s3://imos-data-lab-raw/IMOS/SOOP/SOOP-XBT/REALTIME_BUFR/2020/IOSS01_AMMC_20200909070000_VLMJ.csv\n",
      "Processing file s3://imos-data-lab-raw/IMOS/SOOP/SOOP-XBT/REALTIME_BUFR/2020/IOSS01_AMMC_20200909070000_VLMJ.csv\n"
     ]
    },
    {
     "name": "stderr",
     "output_type": "stream",
     "text": [
      "/usr/local/lib/python3.9/site-packages/aodndata/soop/soop_xbt_nrt.py:190: FutureWarning: The error_bad_lines argument has been deprecated and will be removed in a future version. Use on_bad_lines in the future.\n",
      "\n",
      "\n",
      "  df = pd.read_csv(csv_path, header=None, engine=\"python\", error_bad_lines=False)\n"
     ]
    },
    {
     "name": "stdout",
     "output_type": "stream",
     "text": [
      "Processing file s3://imos-data-lab-raw/IMOS/SOOP/SOOP-XBT/REALTIME_BUFR/2020/IOSS01_AMMC_20200909080100_VLMJ.csv\n",
      "Processing file s3://imos-data-lab-raw/IMOS/SOOP/SOOP-XBT/REALTIME_BUFR/2020/IOSS01_AMMC_20200909080100_VLMJ.csv\n"
     ]
    },
    {
     "name": "stderr",
     "output_type": "stream",
     "text": [
      "/usr/local/lib/python3.9/site-packages/aodndata/soop/soop_xbt_nrt.py:190: FutureWarning: The error_bad_lines argument has been deprecated and will be removed in a future version. Use on_bad_lines in the future.\n",
      "\n",
      "\n",
      "  df = pd.read_csv(csv_path, header=None, engine=\"python\", error_bad_lines=False)\n"
     ]
    },
    {
     "name": "stdout",
     "output_type": "stream",
     "text": [
      "Processing file s3://imos-data-lab-raw/IMOS/SOOP/SOOP-XBT/REALTIME_BUFR/2020/IOSS01_AMMC_20200909090200_VLMJ.csv\n",
      "Processing file s3://imos-data-lab-raw/IMOS/SOOP/SOOP-XBT/REALTIME_BUFR/2020/IOSS01_AMMC_20200909090200_VLMJ.csv\n"
     ]
    },
    {
     "name": "stderr",
     "output_type": "stream",
     "text": [
      "/usr/local/lib/python3.9/site-packages/aodndata/soop/soop_xbt_nrt.py:190: FutureWarning: The error_bad_lines argument has been deprecated and will be removed in a future version. Use on_bad_lines in the future.\n",
      "\n",
      "\n",
      "  df = pd.read_csv(csv_path, header=None, engine=\"python\", error_bad_lines=False)\n"
     ]
    },
    {
     "name": "stdout",
     "output_type": "stream",
     "text": [
      "Processing file s3://imos-data-lab-raw/IMOS/SOOP/SOOP-XBT/REALTIME_BUFR/2020/IOSS01_AMMC_20200909100200_VLMJ.csv\n",
      "Processing file s3://imos-data-lab-raw/IMOS/SOOP/SOOP-XBT/REALTIME_BUFR/2020/IOSS01_AMMC_20200909100200_VLMJ.csv\n"
     ]
    },
    {
     "name": "stderr",
     "output_type": "stream",
     "text": [
      "/usr/local/lib/python3.9/site-packages/aodndata/soop/soop_xbt_nrt.py:190: FutureWarning: The error_bad_lines argument has been deprecated and will be removed in a future version. Use on_bad_lines in the future.\n",
      "\n",
      "\n",
      "  df = pd.read_csv(csv_path, header=None, engine=\"python\", error_bad_lines=False)\n"
     ]
    },
    {
     "name": "stdout",
     "output_type": "stream",
     "text": [
      "Processing file s3://imos-data-lab-raw/IMOS/SOOP/SOOP-XBT/REALTIME_BUFR/2020/IOSS01_AMMC_20200909105800_VLMJ.csv\n",
      "Processing file s3://imos-data-lab-raw/IMOS/SOOP/SOOP-XBT/REALTIME_BUFR/2020/IOSS01_AMMC_20200909105800_VLMJ.csv\n"
     ]
    },
    {
     "name": "stderr",
     "output_type": "stream",
     "text": [
      "/usr/local/lib/python3.9/site-packages/aodndata/soop/soop_xbt_nrt.py:190: FutureWarning: The error_bad_lines argument has been deprecated and will be removed in a future version. Use on_bad_lines in the future.\n",
      "\n",
      "\n",
      "  df = pd.read_csv(csv_path, header=None, engine=\"python\", error_bad_lines=False)\n"
     ]
    },
    {
     "name": "stdout",
     "output_type": "stream",
     "text": [
      "Processing file s3://imos-data-lab-raw/IMOS/SOOP/SOOP-XBT/REALTIME_BUFR/2020/IOSS01_AMMC_20200909115600_VLMJ.csv\n",
      "Processing file s3://imos-data-lab-raw/IMOS/SOOP/SOOP-XBT/REALTIME_BUFR/2020/IOSS01_AMMC_20200909115600_VLMJ.csv\n"
     ]
    },
    {
     "name": "stderr",
     "output_type": "stream",
     "text": [
      "/usr/local/lib/python3.9/site-packages/aodndata/soop/soop_xbt_nrt.py:190: FutureWarning: The error_bad_lines argument has been deprecated and will be removed in a future version. Use on_bad_lines in the future.\n",
      "\n",
      "\n",
      "  df = pd.read_csv(csv_path, header=None, engine=\"python\", error_bad_lines=False)\n"
     ]
    },
    {
     "name": "stdout",
     "output_type": "stream",
     "text": [
      "Processing file s3://imos-data-lab-raw/IMOS/SOOP/SOOP-XBT/REALTIME_BUFR/2020/IOSS01_AMMC_20200909125900_VLMJ.csv\n",
      "Processing file s3://imos-data-lab-raw/IMOS/SOOP/SOOP-XBT/REALTIME_BUFR/2020/IOSS01_AMMC_20200909125900_VLMJ.csv\n"
     ]
    },
    {
     "name": "stderr",
     "output_type": "stream",
     "text": [
      "/usr/local/lib/python3.9/site-packages/aodndata/soop/soop_xbt_nrt.py:190: FutureWarning: The error_bad_lines argument has been deprecated and will be removed in a future version. Use on_bad_lines in the future.\n",
      "\n",
      "\n",
      "  df = pd.read_csv(csv_path, header=None, engine=\"python\", error_bad_lines=False)\n"
     ]
    },
    {
     "name": "stdout",
     "output_type": "stream",
     "text": [
      "Processing file s3://imos-data-lab-raw/IMOS/SOOP/SOOP-XBT/REALTIME_BUFR/2020/IOSS01_AMMC_20200924021400_SXE9SBS.csv\n",
      "Processing file s3://imos-data-lab-raw/IMOS/SOOP/SOOP-XBT/REALTIME_BUFR/2020/IOSS01_AMMC_20200924021400_SXE9SBS.csv\n"
     ]
    },
    {
     "name": "stderr",
     "output_type": "stream",
     "text": [
      "/usr/local/lib/python3.9/site-packages/aodndata/soop/soop_xbt_nrt.py:190: FutureWarning: The error_bad_lines argument has been deprecated and will be removed in a future version. Use on_bad_lines in the future.\n",
      "\n",
      "\n",
      "  df = pd.read_csv(csv_path, header=None, engine=\"python\", error_bad_lines=False)\n"
     ]
    },
    {
     "name": "stdout",
     "output_type": "stream",
     "text": [
      "Processing file s3://imos-data-lab-raw/IMOS/SOOP/SOOP-XBT/REALTIME_BUFR/2020/IOSS01_AMMC_20200924061300_SXE9SBS.csv\n",
      "Processing file s3://imos-data-lab-raw/IMOS/SOOP/SOOP-XBT/REALTIME_BUFR/2020/IOSS01_AMMC_20200924061300_SXE9SBS.csv\n"
     ]
    },
    {
     "name": "stderr",
     "output_type": "stream",
     "text": [
      "/usr/local/lib/python3.9/site-packages/aodndata/soop/soop_xbt_nrt.py:190: FutureWarning: The error_bad_lines argument has been deprecated and will be removed in a future version. Use on_bad_lines in the future.\n",
      "\n",
      "\n",
      "  df = pd.read_csv(csv_path, header=None, engine=\"python\", error_bad_lines=False)\n"
     ]
    },
    {
     "name": "stdout",
     "output_type": "stream",
     "text": [
      "Processing file s3://imos-data-lab-raw/IMOS/SOOP/SOOP-XBT/REALTIME_BUFR/2020/IOSS01_AMMC_20200924101300_SXE9SBS.csv\n",
      "Processing file s3://imos-data-lab-raw/IMOS/SOOP/SOOP-XBT/REALTIME_BUFR/2020/IOSS01_AMMC_20200924101300_SXE9SBS.csv\n"
     ]
    },
    {
     "name": "stderr",
     "output_type": "stream",
     "text": [
      "/usr/local/lib/python3.9/site-packages/aodndata/soop/soop_xbt_nrt.py:190: FutureWarning: The error_bad_lines argument has been deprecated and will be removed in a future version. Use on_bad_lines in the future.\n",
      "\n",
      "\n",
      "  df = pd.read_csv(csv_path, header=None, engine=\"python\", error_bad_lines=False)\n"
     ]
    },
    {
     "name": "stdout",
     "output_type": "stream",
     "text": [
      "Processing file s3://imos-data-lab-raw/IMOS/SOOP/SOOP-XBT/REALTIME_BUFR/2020/IOSS01_AMMC_20200924141500_SXE9SBS.csv\n",
      "Processing file s3://imos-data-lab-raw/IMOS/SOOP/SOOP-XBT/REALTIME_BUFR/2020/IOSS01_AMMC_20200924141500_SXE9SBS.csv\n"
     ]
    },
    {
     "name": "stderr",
     "output_type": "stream",
     "text": [
      "/usr/local/lib/python3.9/site-packages/aodndata/soop/soop_xbt_nrt.py:190: FutureWarning: The error_bad_lines argument has been deprecated and will be removed in a future version. Use on_bad_lines in the future.\n",
      "\n",
      "\n",
      "  df = pd.read_csv(csv_path, header=None, engine=\"python\", error_bad_lines=False)\n"
     ]
    },
    {
     "name": "stdout",
     "output_type": "stream",
     "text": [
      "Processing file s3://imos-data-lab-raw/IMOS/SOOP/SOOP-XBT/REALTIME_BUFR/2020/IOSS01_AMMC_20200924181500_SXE9SBS.csv\n",
      "Processing file s3://imos-data-lab-raw/IMOS/SOOP/SOOP-XBT/REALTIME_BUFR/2020/IOSS01_AMMC_20200924181500_SXE9SBS.csv\n"
     ]
    },
    {
     "name": "stderr",
     "output_type": "stream",
     "text": [
      "/usr/local/lib/python3.9/site-packages/aodndata/soop/soop_xbt_nrt.py:190: FutureWarning: The error_bad_lines argument has been deprecated and will be removed in a future version. Use on_bad_lines in the future.\n",
      "\n",
      "\n",
      "  df = pd.read_csv(csv_path, header=None, engine=\"python\", error_bad_lines=False)\n"
     ]
    },
    {
     "name": "stdout",
     "output_type": "stream",
     "text": [
      "Processing file s3://imos-data-lab-raw/IMOS/SOOP/SOOP-XBT/REALTIME_BUFR/2020/IOSS01_AMMC_20200924221400_SXE9SBS.csv\n",
      "Processing file s3://imos-data-lab-raw/IMOS/SOOP/SOOP-XBT/REALTIME_BUFR/2020/IOSS01_AMMC_20200924221400_SXE9SBS.csv\n"
     ]
    },
    {
     "name": "stderr",
     "output_type": "stream",
     "text": [
      "/usr/local/lib/python3.9/site-packages/aodndata/soop/soop_xbt_nrt.py:190: FutureWarning: The error_bad_lines argument has been deprecated and will be removed in a future version. Use on_bad_lines in the future.\n",
      "\n",
      "\n",
      "  df = pd.read_csv(csv_path, header=None, engine=\"python\", error_bad_lines=False)\n"
     ]
    },
    {
     "name": "stdout",
     "output_type": "stream",
     "text": [
      "Processing file s3://imos-data-lab-raw/IMOS/SOOP/SOOP-XBT/REALTIME_BUFR/2020/IOSS01_AMMC_20200925023900_SXE9SBS.csv\n",
      "Processing file s3://imos-data-lab-raw/IMOS/SOOP/SOOP-XBT/REALTIME_BUFR/2020/IOSS01_AMMC_20200925023900_SXE9SBS.csv\n"
     ]
    },
    {
     "name": "stderr",
     "output_type": "stream",
     "text": [
      "/usr/local/lib/python3.9/site-packages/aodndata/soop/soop_xbt_nrt.py:190: FutureWarning: The error_bad_lines argument has been deprecated and will be removed in a future version. Use on_bad_lines in the future.\n",
      "\n",
      "\n",
      "  df = pd.read_csv(csv_path, header=None, engine=\"python\", error_bad_lines=False)\n"
     ]
    },
    {
     "name": "stdout",
     "output_type": "stream",
     "text": [
      "Processing file s3://imos-data-lab-raw/IMOS/SOOP/SOOP-XBT/REALTIME_BUFR/2020/IOSS01_AMMC_20200925061300_SXE9SBS.csv\n",
      "Processing file s3://imos-data-lab-raw/IMOS/SOOP/SOOP-XBT/REALTIME_BUFR/2020/IOSS01_AMMC_20200925061300_SXE9SBS.csv\n"
     ]
    },
    {
     "name": "stderr",
     "output_type": "stream",
     "text": [
      "/usr/local/lib/python3.9/site-packages/aodndata/soop/soop_xbt_nrt.py:190: FutureWarning: The error_bad_lines argument has been deprecated and will be removed in a future version. Use on_bad_lines in the future.\n",
      "\n",
      "\n",
      "  df = pd.read_csv(csv_path, header=None, engine=\"python\", error_bad_lines=False)\n"
     ]
    },
    {
     "name": "stdout",
     "output_type": "stream",
     "text": [
      "Processing file s3://imos-data-lab-raw/IMOS/SOOP/SOOP-XBT/REALTIME_BUFR/2020/IOSS01_AMMC_20200925101300_SXE9SBS.csv\n",
      "Processing file s3://imos-data-lab-raw/IMOS/SOOP/SOOP-XBT/REALTIME_BUFR/2020/IOSS01_AMMC_20200925101300_SXE9SBS.csv\n"
     ]
    },
    {
     "name": "stderr",
     "output_type": "stream",
     "text": [
      "/usr/local/lib/python3.9/site-packages/aodndata/soop/soop_xbt_nrt.py:190: FutureWarning: The error_bad_lines argument has been deprecated and will be removed in a future version. Use on_bad_lines in the future.\n",
      "\n",
      "\n",
      "  df = pd.read_csv(csv_path, header=None, engine=\"python\", error_bad_lines=False)\n"
     ]
    },
    {
     "name": "stdout",
     "output_type": "stream",
     "text": [
      "Processing file s3://imos-data-lab-raw/IMOS/SOOP/SOOP-XBT/REALTIME_BUFR/2020/IOSS01_AMMC_20200925141100_SXE9SBS.csv\n",
      "Processing file s3://imos-data-lab-raw/IMOS/SOOP/SOOP-XBT/REALTIME_BUFR/2020/IOSS01_AMMC_20200925141100_SXE9SBS.csv\n"
     ]
    },
    {
     "name": "stderr",
     "output_type": "stream",
     "text": [
      "/usr/local/lib/python3.9/site-packages/aodndata/soop/soop_xbt_nrt.py:190: FutureWarning: The error_bad_lines argument has been deprecated and will be removed in a future version. Use on_bad_lines in the future.\n",
      "\n",
      "\n",
      "  df = pd.read_csv(csv_path, header=None, engine=\"python\", error_bad_lines=False)\n"
     ]
    },
    {
     "name": "stdout",
     "output_type": "stream",
     "text": [
      "Processing file s3://imos-data-lab-raw/IMOS/SOOP/SOOP-XBT/REALTIME_BUFR/2020/IOSS01_AMMC_20200925182100_SXE9SBS.csv\n",
      "Processing file s3://imos-data-lab-raw/IMOS/SOOP/SOOP-XBT/REALTIME_BUFR/2020/IOSS01_AMMC_20200925182100_SXE9SBS.csv\n"
     ]
    },
    {
     "name": "stderr",
     "output_type": "stream",
     "text": [
      "/usr/local/lib/python3.9/site-packages/aodndata/soop/soop_xbt_nrt.py:190: FutureWarning: The error_bad_lines argument has been deprecated and will be removed in a future version. Use on_bad_lines in the future.\n",
      "\n",
      "\n",
      "  df = pd.read_csv(csv_path, header=None, engine=\"python\", error_bad_lines=False)\n"
     ]
    },
    {
     "name": "stdout",
     "output_type": "stream",
     "text": [
      "Processing file s3://imos-data-lab-raw/IMOS/SOOP/SOOP-XBT/REALTIME_BUFR/2020/IOSS01_AMMC_20200925221300_SXE9SBS.csv\n",
      "Processing file s3://imos-data-lab-raw/IMOS/SOOP/SOOP-XBT/REALTIME_BUFR/2020/IOSS01_AMMC_20200925221300_SXE9SBS.csv\n"
     ]
    },
    {
     "name": "stderr",
     "output_type": "stream",
     "text": [
      "/usr/local/lib/python3.9/site-packages/aodndata/soop/soop_xbt_nrt.py:190: FutureWarning: The error_bad_lines argument has been deprecated and will be removed in a future version. Use on_bad_lines in the future.\n",
      "\n",
      "\n",
      "  df = pd.read_csv(csv_path, header=None, engine=\"python\", error_bad_lines=False)\n"
     ]
    },
    {
     "name": "stdout",
     "output_type": "stream",
     "text": [
      "Processing file s3://imos-data-lab-raw/IMOS/SOOP/SOOP-XBT/REALTIME_BUFR/2020/IOSS01_AMMC_20201016013400_THVX86C.csv\n",
      "Processing file s3://imos-data-lab-raw/IMOS/SOOP/SOOP-XBT/REALTIME_BUFR/2020/IOSS01_AMMC_20201016013400_THVX86C.csv\n"
     ]
    },
    {
     "name": "stderr",
     "output_type": "stream",
     "text": [
      "/usr/local/lib/python3.9/site-packages/aodndata/soop/soop_xbt_nrt.py:190: FutureWarning: The error_bad_lines argument has been deprecated and will be removed in a future version. Use on_bad_lines in the future.\n",
      "\n",
      "\n",
      "  df = pd.read_csv(csv_path, header=None, engine=\"python\", error_bad_lines=False)\n"
     ]
    },
    {
     "name": "stdout",
     "output_type": "stream",
     "text": [
      "Processing file s3://imos-data-lab-raw/IMOS/SOOP/SOOP-XBT/REALTIME_BUFR/2020/IOSS01_AMMC_20201021013300_XEKXW9W.csv\n",
      "Processing file s3://imos-data-lab-raw/IMOS/SOOP/SOOP-XBT/REALTIME_BUFR/2020/IOSS01_AMMC_20201021013300_XEKXW9W.csv\n"
     ]
    },
    {
     "name": "stderr",
     "output_type": "stream",
     "text": [
      "/usr/local/lib/python3.9/site-packages/aodndata/soop/soop_xbt_nrt.py:190: FutureWarning: The error_bad_lines argument has been deprecated and will be removed in a future version. Use on_bad_lines in the future.\n",
      "\n",
      "\n",
      "  df = pd.read_csv(csv_path, header=None, engine=\"python\", error_bad_lines=False)\n"
     ]
    },
    {
     "name": "stdout",
     "output_type": "stream",
     "text": [
      "Processing file s3://imos-data-lab-raw/IMOS/SOOP/SOOP-XBT/REALTIME_BUFR/2020/IOSS01_AMMC_20201107234800_XEKXW9W.csv\n",
      "Processing file s3://imos-data-lab-raw/IMOS/SOOP/SOOP-XBT/REALTIME_BUFR/2020/IOSS01_AMMC_20201107234800_XEKXW9W.csv\n"
     ]
    },
    {
     "name": "stderr",
     "output_type": "stream",
     "text": [
      "/usr/local/lib/python3.9/site-packages/aodndata/soop/soop_xbt_nrt.py:190: FutureWarning: The error_bad_lines argument has been deprecated and will be removed in a future version. Use on_bad_lines in the future.\n",
      "\n",
      "\n",
      "  df = pd.read_csv(csv_path, header=None, engine=\"python\", error_bad_lines=False)\n"
     ]
    },
    {
     "name": "stdout",
     "output_type": "stream",
     "text": [
      "Processing file s3://imos-data-lab-raw/IMOS/SOOP/SOOP-XBT/REALTIME_BUFR/2020/IOSS01_AMMC_20201108020000_XEKXW9W.csv\n",
      "Processing file s3://imos-data-lab-raw/IMOS/SOOP/SOOP-XBT/REALTIME_BUFR/2020/IOSS01_AMMC_20201108020000_XEKXW9W.csv\n"
     ]
    },
    {
     "name": "stderr",
     "output_type": "stream",
     "text": [
      "/usr/local/lib/python3.9/site-packages/aodndata/soop/soop_xbt_nrt.py:190: FutureWarning: The error_bad_lines argument has been deprecated and will be removed in a future version. Use on_bad_lines in the future.\n",
      "\n",
      "\n",
      "  df = pd.read_csv(csv_path, header=None, engine=\"python\", error_bad_lines=False)\n"
     ]
    },
    {
     "name": "stdout",
     "output_type": "stream",
     "text": [
      "Processing file s3://imos-data-lab-raw/IMOS/SOOP/SOOP-XBT/REALTIME_BUFR/2020/IOSS01_AMMC_20201108052900_XEKXW9W.csv\n",
      "Processing file s3://imos-data-lab-raw/IMOS/SOOP/SOOP-XBT/REALTIME_BUFR/2020/IOSS01_AMMC_20201108052900_XEKXW9W.csv\n"
     ]
    },
    {
     "name": "stderr",
     "output_type": "stream",
     "text": [
      "/usr/local/lib/python3.9/site-packages/aodndata/soop/soop_xbt_nrt.py:190: FutureWarning: The error_bad_lines argument has been deprecated and will be removed in a future version. Use on_bad_lines in the future.\n",
      "\n",
      "\n",
      "  df = pd.read_csv(csv_path, header=None, engine=\"python\", error_bad_lines=False)\n"
     ]
    },
    {
     "name": "stdout",
     "output_type": "stream",
     "text": [
      "Processing file s3://imos-data-lab-raw/IMOS/SOOP/SOOP-XBT/REALTIME_BUFR/2020/IOSS01_AMMC_20201108055200_XEKXW9W.csv\n",
      "Processing file s3://imos-data-lab-raw/IMOS/SOOP/SOOP-XBT/REALTIME_BUFR/2020/IOSS01_AMMC_20201108055200_XEKXW9W.csv\n"
     ]
    },
    {
     "name": "stderr",
     "output_type": "stream",
     "text": [
      "/usr/local/lib/python3.9/site-packages/aodndata/soop/soop_xbt_nrt.py:190: FutureWarning: The error_bad_lines argument has been deprecated and will be removed in a future version. Use on_bad_lines in the future.\n",
      "\n",
      "\n",
      "  df = pd.read_csv(csv_path, header=None, engine=\"python\", error_bad_lines=False)\n"
     ]
    },
    {
     "name": "stdout",
     "output_type": "stream",
     "text": [
      "Processing file s3://imos-data-lab-raw/IMOS/SOOP/SOOP-XBT/REALTIME_BUFR/2020/IOSS01_AMMC_20201108075500_XEKXW9W.csv\n",
      "Processing file s3://imos-data-lab-raw/IMOS/SOOP/SOOP-XBT/REALTIME_BUFR/2020/IOSS01_AMMC_20201108075500_XEKXW9W.csv\n"
     ]
    },
    {
     "name": "stderr",
     "output_type": "stream",
     "text": [
      "/usr/local/lib/python3.9/site-packages/aodndata/soop/soop_xbt_nrt.py:190: FutureWarning: The error_bad_lines argument has been deprecated and will be removed in a future version. Use on_bad_lines in the future.\n",
      "\n",
      "\n",
      "  df = pd.read_csv(csv_path, header=None, engine=\"python\", error_bad_lines=False)\n"
     ]
    },
    {
     "name": "stdout",
     "output_type": "stream",
     "text": [
      "Processing file s3://imos-data-lab-raw/IMOS/SOOP/SOOP-XBT/REALTIME_BUFR/2020/IOSS01_AMMC_20201108100000_XEKXW9W.csv\n",
      "Processing file s3://imos-data-lab-raw/IMOS/SOOP/SOOP-XBT/REALTIME_BUFR/2020/IOSS01_AMMC_20201108100000_XEKXW9W.csv\n"
     ]
    },
    {
     "name": "stderr",
     "output_type": "stream",
     "text": [
      "/usr/local/lib/python3.9/site-packages/aodndata/soop/soop_xbt_nrt.py:190: FutureWarning: The error_bad_lines argument has been deprecated and will be removed in a future version. Use on_bad_lines in the future.\n",
      "\n",
      "\n",
      "  df = pd.read_csv(csv_path, header=None, engine=\"python\", error_bad_lines=False)\n"
     ]
    },
    {
     "name": "stdout",
     "output_type": "stream",
     "text": [
      "Processing file s3://imos-data-lab-raw/IMOS/SOOP/SOOP-XBT/REALTIME_BUFR/2020/IOSS01_AMMC_20201108100400_XEKXW9W.csv\n",
      "Processing file s3://imos-data-lab-raw/IMOS/SOOP/SOOP-XBT/REALTIME_BUFR/2020/IOSS01_AMMC_20201108100400_XEKXW9W.csv\n"
     ]
    },
    {
     "name": "stderr",
     "output_type": "stream",
     "text": [
      "/usr/local/lib/python3.9/site-packages/aodndata/soop/soop_xbt_nrt.py:190: FutureWarning: The error_bad_lines argument has been deprecated and will be removed in a future version. Use on_bad_lines in the future.\n",
      "\n",
      "\n",
      "  df = pd.read_csv(csv_path, header=None, engine=\"python\", error_bad_lines=False)\n"
     ]
    },
    {
     "name": "stdout",
     "output_type": "stream",
     "text": [
      "Processing file s3://imos-data-lab-raw/IMOS/SOOP/SOOP-XBT/REALTIME_BUFR/2020/IOSS01_AMMC_20201108120200_XEKXW9W.csv\n",
      "Processing file s3://imos-data-lab-raw/IMOS/SOOP/SOOP-XBT/REALTIME_BUFR/2020/IOSS01_AMMC_20201108120200_XEKXW9W.csv\n"
     ]
    },
    {
     "name": "stderr",
     "output_type": "stream",
     "text": [
      "/usr/local/lib/python3.9/site-packages/aodndata/soop/soop_xbt_nrt.py:190: FutureWarning: The error_bad_lines argument has been deprecated and will be removed in a future version. Use on_bad_lines in the future.\n",
      "\n",
      "\n",
      "  df = pd.read_csv(csv_path, header=None, engine=\"python\", error_bad_lines=False)\n"
     ]
    },
    {
     "name": "stdout",
     "output_type": "stream",
     "text": [
      "Processing file s3://imos-data-lab-raw/IMOS/SOOP/SOOP-XBT/REALTIME_BUFR/2020/IOSS01_AMMC_20201108134900_XEKXW9W.csv\n",
      "Processing file s3://imos-data-lab-raw/IMOS/SOOP/SOOP-XBT/REALTIME_BUFR/2020/IOSS01_AMMC_20201108134900_XEKXW9W.csv\n"
     ]
    },
    {
     "name": "stderr",
     "output_type": "stream",
     "text": [
      "/usr/local/lib/python3.9/site-packages/aodndata/soop/soop_xbt_nrt.py:190: FutureWarning: The error_bad_lines argument has been deprecated and will be removed in a future version. Use on_bad_lines in the future.\n",
      "\n",
      "\n",
      "  df = pd.read_csv(csv_path, header=None, engine=\"python\", error_bad_lines=False)\n"
     ]
    },
    {
     "name": "stdout",
     "output_type": "stream",
     "text": [
      "Processing file s3://imos-data-lab-raw/IMOS/SOOP/SOOP-XBT/REALTIME_BUFR/2020/IOSS01_AMMC_20201108155900_XEKXW9W.csv\n",
      "Processing file s3://imos-data-lab-raw/IMOS/SOOP/SOOP-XBT/REALTIME_BUFR/2020/IOSS01_AMMC_20201108155900_XEKXW9W.csv\n"
     ]
    },
    {
     "name": "stderr",
     "output_type": "stream",
     "text": [
      "/usr/local/lib/python3.9/site-packages/aodndata/soop/soop_xbt_nrt.py:190: FutureWarning: The error_bad_lines argument has been deprecated and will be removed in a future version. Use on_bad_lines in the future.\n",
      "\n",
      "\n",
      "  df = pd.read_csv(csv_path, header=None, engine=\"python\", error_bad_lines=False)\n"
     ]
    },
    {
     "name": "stdout",
     "output_type": "stream",
     "text": [
      "Processing file s3://imos-data-lab-raw/IMOS/SOOP/SOOP-XBT/REALTIME_BUFR/2020/IOSS01_AMMC_20201108180700_XEKXW9W.csv\n",
      "Processing file s3://imos-data-lab-raw/IMOS/SOOP/SOOP-XBT/REALTIME_BUFR/2020/IOSS01_AMMC_20201108180700_XEKXW9W.csv\n"
     ]
    },
    {
     "name": "stderr",
     "output_type": "stream",
     "text": [
      "/usr/local/lib/python3.9/site-packages/aodndata/soop/soop_xbt_nrt.py:190: FutureWarning: The error_bad_lines argument has been deprecated and will be removed in a future version. Use on_bad_lines in the future.\n",
      "\n",
      "\n",
      "  df = pd.read_csv(csv_path, header=None, engine=\"python\", error_bad_lines=False)\n"
     ]
    },
    {
     "name": "stdout",
     "output_type": "stream",
     "text": [
      "Processing file s3://imos-data-lab-raw/IMOS/SOOP/SOOP-XBT/REALTIME_BUFR/2020/IOSS01_AMMC_20201108195400_XEKXW9W.csv\n",
      "Processing file s3://imos-data-lab-raw/IMOS/SOOP/SOOP-XBT/REALTIME_BUFR/2020/IOSS01_AMMC_20201108195400_XEKXW9W.csv\n"
     ]
    },
    {
     "name": "stderr",
     "output_type": "stream",
     "text": [
      "/usr/local/lib/python3.9/site-packages/aodndata/soop/soop_xbt_nrt.py:190: FutureWarning: The error_bad_lines argument has been deprecated and will be removed in a future version. Use on_bad_lines in the future.\n",
      "\n",
      "\n",
      "  df = pd.read_csv(csv_path, header=None, engine=\"python\", error_bad_lines=False)\n"
     ]
    },
    {
     "name": "stdout",
     "output_type": "stream",
     "text": [
      "Processing file s3://imos-data-lab-raw/IMOS/SOOP/SOOP-XBT/REALTIME_BUFR/2020/IOSS01_AMMC_20201108215700_XEKXW9W.csv\n",
      "Processing file s3://imos-data-lab-raw/IMOS/SOOP/SOOP-XBT/REALTIME_BUFR/2020/IOSS01_AMMC_20201108215700_XEKXW9W.csv\n"
     ]
    },
    {
     "name": "stderr",
     "output_type": "stream",
     "text": [
      "/usr/local/lib/python3.9/site-packages/aodndata/soop/soop_xbt_nrt.py:190: FutureWarning: The error_bad_lines argument has been deprecated and will be removed in a future version. Use on_bad_lines in the future.\n",
      "\n",
      "\n",
      "  df = pd.read_csv(csv_path, header=None, engine=\"python\", error_bad_lines=False)\n"
     ]
    },
    {
     "name": "stdout",
     "output_type": "stream",
     "text": [
      "Processing file s3://imos-data-lab-raw/IMOS/SOOP/SOOP-XBT/REALTIME_BUFR/2020/IOSS01_AMMC_20201108235700_XEKXW9W.csv\n",
      "Processing file s3://imos-data-lab-raw/IMOS/SOOP/SOOP-XBT/REALTIME_BUFR/2020/IOSS01_AMMC_20201108235700_XEKXW9W.csv\n"
     ]
    },
    {
     "name": "stderr",
     "output_type": "stream",
     "text": [
      "/usr/local/lib/python3.9/site-packages/aodndata/soop/soop_xbt_nrt.py:190: FutureWarning: The error_bad_lines argument has been deprecated and will be removed in a future version. Use on_bad_lines in the future.\n",
      "\n",
      "\n",
      "  df = pd.read_csv(csv_path, header=None, engine=\"python\", error_bad_lines=False)\n"
     ]
    },
    {
     "name": "stdout",
     "output_type": "stream",
     "text": [
      "Processing file s3://imos-data-lab-raw/IMOS/SOOP/SOOP-XBT/REALTIME_BUFR/2020/IOSS01_AMMC_20201109020900_XEKXW9W.csv\n",
      "Processing file s3://imos-data-lab-raw/IMOS/SOOP/SOOP-XBT/REALTIME_BUFR/2020/IOSS01_AMMC_20201109020900_XEKXW9W.csv\n"
     ]
    },
    {
     "name": "stderr",
     "output_type": "stream",
     "text": [
      "/usr/local/lib/python3.9/site-packages/aodndata/soop/soop_xbt_nrt.py:190: FutureWarning: The error_bad_lines argument has been deprecated and will be removed in a future version. Use on_bad_lines in the future.\n",
      "\n",
      "\n",
      "  df = pd.read_csv(csv_path, header=None, engine=\"python\", error_bad_lines=False)\n"
     ]
    },
    {
     "name": "stdout",
     "output_type": "stream",
     "text": [
      "Processing file s3://imos-data-lab-raw/IMOS/SOOP/SOOP-XBT/REALTIME_BUFR/2020/IOSS01_AMMC_20201109030300_XEKXW9W.csv\n",
      "Processing file s3://imos-data-lab-raw/IMOS/SOOP/SOOP-XBT/REALTIME_BUFR/2020/IOSS01_AMMC_20201109030300_XEKXW9W.csv\n"
     ]
    },
    {
     "name": "stderr",
     "output_type": "stream",
     "text": [
      "/usr/local/lib/python3.9/site-packages/aodndata/soop/soop_xbt_nrt.py:190: FutureWarning: The error_bad_lines argument has been deprecated and will be removed in a future version. Use on_bad_lines in the future.\n",
      "\n",
      "\n",
      "  df = pd.read_csv(csv_path, header=None, engine=\"python\", error_bad_lines=False)\n"
     ]
    },
    {
     "name": "stdout",
     "output_type": "stream",
     "text": [
      "Processing file s3://imos-data-lab-raw/IMOS/SOOP/SOOP-XBT/REALTIME_BUFR/2020/IOSS01_AMMC_20201109040300_XEKXW9W.csv\n",
      "Processing file s3://imos-data-lab-raw/IMOS/SOOP/SOOP-XBT/REALTIME_BUFR/2020/IOSS01_AMMC_20201109040300_XEKXW9W.csv\n"
     ]
    },
    {
     "name": "stderr",
     "output_type": "stream",
     "text": [
      "/usr/local/lib/python3.9/site-packages/aodndata/soop/soop_xbt_nrt.py:190: FutureWarning: The error_bad_lines argument has been deprecated and will be removed in a future version. Use on_bad_lines in the future.\n",
      "\n",
      "\n",
      "  df = pd.read_csv(csv_path, header=None, engine=\"python\", error_bad_lines=False)\n"
     ]
    },
    {
     "name": "stdout",
     "output_type": "stream",
     "text": [
      "Processing file s3://imos-data-lab-raw/IMOS/SOOP/SOOP-XBT/REALTIME_BUFR/2020/IOSS01_AMMC_20201109050000_XEKXW9W.csv\n",
      "Processing file s3://imos-data-lab-raw/IMOS/SOOP/SOOP-XBT/REALTIME_BUFR/2020/IOSS01_AMMC_20201109050000_XEKXW9W.csv\n"
     ]
    },
    {
     "name": "stderr",
     "output_type": "stream",
     "text": [
      "/usr/local/lib/python3.9/site-packages/aodndata/soop/soop_xbt_nrt.py:190: FutureWarning: The error_bad_lines argument has been deprecated and will be removed in a future version. Use on_bad_lines in the future.\n",
      "\n",
      "\n",
      "  df = pd.read_csv(csv_path, header=None, engine=\"python\", error_bad_lines=False)\n"
     ]
    },
    {
     "name": "stdout",
     "output_type": "stream",
     "text": [
      "Processing file s3://imos-data-lab-raw/IMOS/SOOP/SOOP-XBT/REALTIME_BUFR/2020/IOSS01_AMMC_20201109055800_XEKXW9W.csv\n",
      "Processing file s3://imos-data-lab-raw/IMOS/SOOP/SOOP-XBT/REALTIME_BUFR/2020/IOSS01_AMMC_20201109055800_XEKXW9W.csv\n"
     ]
    },
    {
     "name": "stderr",
     "output_type": "stream",
     "text": [
      "/usr/local/lib/python3.9/site-packages/aodndata/soop/soop_xbt_nrt.py:190: FutureWarning: The error_bad_lines argument has been deprecated and will be removed in a future version. Use on_bad_lines in the future.\n",
      "\n",
      "\n",
      "  df = pd.read_csv(csv_path, header=None, engine=\"python\", error_bad_lines=False)\n"
     ]
    },
    {
     "name": "stdout",
     "output_type": "stream",
     "text": [
      "Processing file s3://imos-data-lab-raw/IMOS/SOOP/SOOP-XBT/REALTIME_BUFR/2020/IOSS01_AMMC_20201109065700_XEKXW9W.csv\n",
      "Processing file s3://imos-data-lab-raw/IMOS/SOOP/SOOP-XBT/REALTIME_BUFR/2020/IOSS01_AMMC_20201109065700_XEKXW9W.csv\n"
     ]
    },
    {
     "name": "stderr",
     "output_type": "stream",
     "text": [
      "/usr/local/lib/python3.9/site-packages/aodndata/soop/soop_xbt_nrt.py:190: FutureWarning: The error_bad_lines argument has been deprecated and will be removed in a future version. Use on_bad_lines in the future.\n",
      "\n",
      "\n",
      "  df = pd.read_csv(csv_path, header=None, engine=\"python\", error_bad_lines=False)\n"
     ]
    },
    {
     "name": "stdout",
     "output_type": "stream",
     "text": [
      "Processing file s3://imos-data-lab-raw/IMOS/SOOP/SOOP-XBT/REALTIME_BUFR/2020/IOSS01_AMMC_20201109080400_XEKXW9W.csv\n",
      "Processing file s3://imos-data-lab-raw/IMOS/SOOP/SOOP-XBT/REALTIME_BUFR/2020/IOSS01_AMMC_20201109080400_XEKXW9W.csv\n"
     ]
    },
    {
     "name": "stderr",
     "output_type": "stream",
     "text": [
      "/usr/local/lib/python3.9/site-packages/aodndata/soop/soop_xbt_nrt.py:190: FutureWarning: The error_bad_lines argument has been deprecated and will be removed in a future version. Use on_bad_lines in the future.\n",
      "\n",
      "\n",
      "  df = pd.read_csv(csv_path, header=None, engine=\"python\", error_bad_lines=False)\n"
     ]
    },
    {
     "name": "stdout",
     "output_type": "stream",
     "text": [
      "Processing file s3://imos-data-lab-raw/IMOS/SOOP/SOOP-XBT/REALTIME_BUFR/2020/IOSS01_AMMC_20201109085800_XEKXW9W.csv\n",
      "Processing file s3://imos-data-lab-raw/IMOS/SOOP/SOOP-XBT/REALTIME_BUFR/2020/IOSS01_AMMC_20201109085800_XEKXW9W.csv\n"
     ]
    },
    {
     "name": "stderr",
     "output_type": "stream",
     "text": [
      "/usr/local/lib/python3.9/site-packages/aodndata/soop/soop_xbt_nrt.py:190: FutureWarning: The error_bad_lines argument has been deprecated and will be removed in a future version. Use on_bad_lines in the future.\n",
      "\n",
      "\n",
      "  df = pd.read_csv(csv_path, header=None, engine=\"python\", error_bad_lines=False)\n"
     ]
    },
    {
     "name": "stdout",
     "output_type": "stream",
     "text": [
      "Processing file s3://imos-data-lab-raw/IMOS/SOOP/SOOP-XBT/REALTIME_BUFR/2020/IOSS01_AMMC_20201109095100_XEKXW9W.csv\n",
      "Processing file s3://imos-data-lab-raw/IMOS/SOOP/SOOP-XBT/REALTIME_BUFR/2020/IOSS01_AMMC_20201109095100_XEKXW9W.csv\n"
     ]
    },
    {
     "name": "stderr",
     "output_type": "stream",
     "text": [
      "/usr/local/lib/python3.9/site-packages/aodndata/soop/soop_xbt_nrt.py:190: FutureWarning: The error_bad_lines argument has been deprecated and will be removed in a future version. Use on_bad_lines in the future.\n",
      "\n",
      "\n",
      "  df = pd.read_csv(csv_path, header=None, engine=\"python\", error_bad_lines=False)\n"
     ]
    },
    {
     "name": "stdout",
     "output_type": "stream",
     "text": [
      "Processing file s3://imos-data-lab-raw/IMOS/SOOP/SOOP-XBT/REALTIME_BUFR/2020/IOSS01_AMMC_20201109110100_XEKXW9W.csv\n",
      "Processing file s3://imos-data-lab-raw/IMOS/SOOP/SOOP-XBT/REALTIME_BUFR/2020/IOSS01_AMMC_20201109110100_XEKXW9W.csv\n"
     ]
    },
    {
     "name": "stderr",
     "output_type": "stream",
     "text": [
      "/usr/local/lib/python3.9/site-packages/aodndata/soop/soop_xbt_nrt.py:190: FutureWarning: The error_bad_lines argument has been deprecated and will be removed in a future version. Use on_bad_lines in the future.\n",
      "\n",
      "\n",
      "  df = pd.read_csv(csv_path, header=None, engine=\"python\", error_bad_lines=False)\n"
     ]
    },
    {
     "name": "stdout",
     "output_type": "stream",
     "text": [
      "Processing file s3://imos-data-lab-raw/IMOS/SOOP/SOOP-XBT/REALTIME_BUFR/2020/IOSS01_AMMC_20201109115800_XEKXW9W.csv\n",
      "Processing file s3://imos-data-lab-raw/IMOS/SOOP/SOOP-XBT/REALTIME_BUFR/2020/IOSS01_AMMC_20201109115800_XEKXW9W.csv\n"
     ]
    },
    {
     "name": "stderr",
     "output_type": "stream",
     "text": [
      "/usr/local/lib/python3.9/site-packages/aodndata/soop/soop_xbt_nrt.py:190: FutureWarning: The error_bad_lines argument has been deprecated and will be removed in a future version. Use on_bad_lines in the future.\n",
      "\n",
      "\n",
      "  df = pd.read_csv(csv_path, header=None, engine=\"python\", error_bad_lines=False)\n"
     ]
    },
    {
     "name": "stdout",
     "output_type": "stream",
     "text": [
      "Processing file s3://imos-data-lab-raw/IMOS/SOOP/SOOP-XBT/REALTIME_BUFR/2020/IOSS01_AMMC_20201109120400_XEKXW9W.csv\n",
      "Processing file s3://imos-data-lab-raw/IMOS/SOOP/SOOP-XBT/REALTIME_BUFR/2020/IOSS01_AMMC_20201109120400_XEKXW9W.csv\n"
     ]
    },
    {
     "name": "stderr",
     "output_type": "stream",
     "text": [
      "/usr/local/lib/python3.9/site-packages/aodndata/soop/soop_xbt_nrt.py:190: FutureWarning: The error_bad_lines argument has been deprecated and will be removed in a future version. Use on_bad_lines in the future.\n",
      "\n",
      "\n",
      "  df = pd.read_csv(csv_path, header=None, engine=\"python\", error_bad_lines=False)\n"
     ]
    },
    {
     "name": "stdout",
     "output_type": "stream",
     "text": [
      "Processing file s3://imos-data-lab-raw/IMOS/SOOP/SOOP-XBT/REALTIME_BUFR/2020/IOSS01_AMMC_20201109125400_XEKXW9W.csv\n",
      "Processing file s3://imos-data-lab-raw/IMOS/SOOP/SOOP-XBT/REALTIME_BUFR/2020/IOSS01_AMMC_20201109125400_XEKXW9W.csv\n"
     ]
    },
    {
     "name": "stderr",
     "output_type": "stream",
     "text": [
      "/usr/local/lib/python3.9/site-packages/aodndata/soop/soop_xbt_nrt.py:190: FutureWarning: The error_bad_lines argument has been deprecated and will be removed in a future version. Use on_bad_lines in the future.\n",
      "\n",
      "\n",
      "  df = pd.read_csv(csv_path, header=None, engine=\"python\", error_bad_lines=False)\n"
     ]
    },
    {
     "name": "stdout",
     "output_type": "stream",
     "text": [
      "Processing file s3://imos-data-lab-raw/IMOS/SOOP/SOOP-XBT/REALTIME_BUFR/2020/IOSS01_AMMC_20201109140200_XEKXW9W.csv\n",
      "Processing file s3://imos-data-lab-raw/IMOS/SOOP/SOOP-XBT/REALTIME_BUFR/2020/IOSS01_AMMC_20201109140200_XEKXW9W.csv\n"
     ]
    },
    {
     "name": "stderr",
     "output_type": "stream",
     "text": [
      "/usr/local/lib/python3.9/site-packages/aodndata/soop/soop_xbt_nrt.py:190: FutureWarning: The error_bad_lines argument has been deprecated and will be removed in a future version. Use on_bad_lines in the future.\n",
      "\n",
      "\n",
      "  df = pd.read_csv(csv_path, header=None, engine=\"python\", error_bad_lines=False)\n"
     ]
    },
    {
     "name": "stdout",
     "output_type": "stream",
     "text": [
      "Processing file s3://imos-data-lab-raw/IMOS/SOOP/SOOP-XBT/REALTIME_BUFR/2020/IOSS01_AMMC_20201109145800_XEKXW9W.csv\n",
      "Processing file s3://imos-data-lab-raw/IMOS/SOOP/SOOP-XBT/REALTIME_BUFR/2020/IOSS01_AMMC_20201109145800_XEKXW9W.csv\n"
     ]
    },
    {
     "name": "stderr",
     "output_type": "stream",
     "text": [
      "/usr/local/lib/python3.9/site-packages/aodndata/soop/soop_xbt_nrt.py:190: FutureWarning: The error_bad_lines argument has been deprecated and will be removed in a future version. Use on_bad_lines in the future.\n",
      "\n",
      "\n",
      "  df = pd.read_csv(csv_path, header=None, engine=\"python\", error_bad_lines=False)\n"
     ]
    },
    {
     "name": "stdout",
     "output_type": "stream",
     "text": [
      "Processing file s3://imos-data-lab-raw/IMOS/SOOP/SOOP-XBT/REALTIME_BUFR/2020/IOSS01_AMMC_20201109150600_XEKXW9W.csv\n",
      "Processing file s3://imos-data-lab-raw/IMOS/SOOP/SOOP-XBT/REALTIME_BUFR/2020/IOSS01_AMMC_20201109150600_XEKXW9W.csv\n"
     ]
    },
    {
     "name": "stderr",
     "output_type": "stream",
     "text": [
      "/usr/local/lib/python3.9/site-packages/aodndata/soop/soop_xbt_nrt.py:190: FutureWarning: The error_bad_lines argument has been deprecated and will be removed in a future version. Use on_bad_lines in the future.\n",
      "\n",
      "\n",
      "  df = pd.read_csv(csv_path, header=None, engine=\"python\", error_bad_lines=False)\n"
     ]
    },
    {
     "name": "stdout",
     "output_type": "stream",
     "text": [
      "Processing file s3://imos-data-lab-raw/IMOS/SOOP/SOOP-XBT/REALTIME_BUFR/2020/IOSS01_AMMC_20201109155800_XEKXW9W.csv\n",
      "Processing file s3://imos-data-lab-raw/IMOS/SOOP/SOOP-XBT/REALTIME_BUFR/2020/IOSS01_AMMC_20201109155800_XEKXW9W.csv\n"
     ]
    },
    {
     "name": "stderr",
     "output_type": "stream",
     "text": [
      "/usr/local/lib/python3.9/site-packages/aodndata/soop/soop_xbt_nrt.py:190: FutureWarning: The error_bad_lines argument has been deprecated and will be removed in a future version. Use on_bad_lines in the future.\n",
      "\n",
      "\n",
      "  df = pd.read_csv(csv_path, header=None, engine=\"python\", error_bad_lines=False)\n"
     ]
    },
    {
     "name": "stdout",
     "output_type": "stream",
     "text": [
      "Processing file s3://imos-data-lab-raw/IMOS/SOOP/SOOP-XBT/REALTIME_BUFR/2020/IOSS01_AMMC_20201109165900_XEKXW9W.csv\n",
      "Processing file s3://imos-data-lab-raw/IMOS/SOOP/SOOP-XBT/REALTIME_BUFR/2020/IOSS01_AMMC_20201109165900_XEKXW9W.csv\n"
     ]
    },
    {
     "name": "stderr",
     "output_type": "stream",
     "text": [
      "/usr/local/lib/python3.9/site-packages/aodndata/soop/soop_xbt_nrt.py:190: FutureWarning: The error_bad_lines argument has been deprecated and will be removed in a future version. Use on_bad_lines in the future.\n",
      "\n",
      "\n",
      "  df = pd.read_csv(csv_path, header=None, engine=\"python\", error_bad_lines=False)\n"
     ]
    },
    {
     "name": "stdout",
     "output_type": "stream",
     "text": [
      "Processing file s3://imos-data-lab-raw/IMOS/SOOP/SOOP-XBT/REALTIME_BUFR/2020/IOSS01_AMMC_20201109170600_XEKXW9W.csv\n",
      "Processing file s3://imos-data-lab-raw/IMOS/SOOP/SOOP-XBT/REALTIME_BUFR/2020/IOSS01_AMMC_20201109170600_XEKXW9W.csv\n"
     ]
    },
    {
     "name": "stderr",
     "output_type": "stream",
     "text": [
      "/usr/local/lib/python3.9/site-packages/aodndata/soop/soop_xbt_nrt.py:190: FutureWarning: The error_bad_lines argument has been deprecated and will be removed in a future version. Use on_bad_lines in the future.\n",
      "\n",
      "\n",
      "  df = pd.read_csv(csv_path, header=None, engine=\"python\", error_bad_lines=False)\n"
     ]
    },
    {
     "name": "stdout",
     "output_type": "stream",
     "text": [
      "Processing file s3://imos-data-lab-raw/IMOS/SOOP/SOOP-XBT/REALTIME_BUFR/2020/IOSS01_AMMC_20201109180600_XEKXW9W.csv\n",
      "Processing file s3://imos-data-lab-raw/IMOS/SOOP/SOOP-XBT/REALTIME_BUFR/2020/IOSS01_AMMC_20201109180600_XEKXW9W.csv\n"
     ]
    },
    {
     "name": "stderr",
     "output_type": "stream",
     "text": [
      "/usr/local/lib/python3.9/site-packages/aodndata/soop/soop_xbt_nrt.py:190: FutureWarning: The error_bad_lines argument has been deprecated and will be removed in a future version. Use on_bad_lines in the future.\n",
      "\n",
      "\n",
      "  df = pd.read_csv(csv_path, header=None, engine=\"python\", error_bad_lines=False)\n"
     ]
    },
    {
     "name": "stdout",
     "output_type": "stream",
     "text": [
      "Processing file s3://imos-data-lab-raw/IMOS/SOOP/SOOP-XBT/REALTIME_BUFR/2020/IOSS01_AMMC_20201109185900_XEKXW9W.csv\n",
      "Processing file s3://imos-data-lab-raw/IMOS/SOOP/SOOP-XBT/REALTIME_BUFR/2020/IOSS01_AMMC_20201109185900_XEKXW9W.csv\n"
     ]
    },
    {
     "name": "stderr",
     "output_type": "stream",
     "text": [
      "/usr/local/lib/python3.9/site-packages/aodndata/soop/soop_xbt_nrt.py:190: FutureWarning: The error_bad_lines argument has been deprecated and will be removed in a future version. Use on_bad_lines in the future.\n",
      "\n",
      "\n",
      "  df = pd.read_csv(csv_path, header=None, engine=\"python\", error_bad_lines=False)\n"
     ]
    },
    {
     "name": "stdout",
     "output_type": "stream",
     "text": [
      "Processing file s3://imos-data-lab-raw/IMOS/SOOP/SOOP-XBT/REALTIME_BUFR/2020/IOSS01_AMMC_20201109200000_XEKXW9W.csv\n",
      "Processing file s3://imos-data-lab-raw/IMOS/SOOP/SOOP-XBT/REALTIME_BUFR/2020/IOSS01_AMMC_20201109200000_XEKXW9W.csv\n"
     ]
    },
    {
     "name": "stderr",
     "output_type": "stream",
     "text": [
      "/usr/local/lib/python3.9/site-packages/aodndata/soop/soop_xbt_nrt.py:190: FutureWarning: The error_bad_lines argument has been deprecated and will be removed in a future version. Use on_bad_lines in the future.\n",
      "\n",
      "\n",
      "  df = pd.read_csv(csv_path, header=None, engine=\"python\", error_bad_lines=False)\n"
     ]
    },
    {
     "name": "stdout",
     "output_type": "stream",
     "text": [
      "Processing file s3://imos-data-lab-raw/IMOS/SOOP/SOOP-XBT/REALTIME_BUFR/2020/IOSS01_AMMC_20201109200800_XEKXW9W.csv\n",
      "Processing file s3://imos-data-lab-raw/IMOS/SOOP/SOOP-XBT/REALTIME_BUFR/2020/IOSS01_AMMC_20201109200800_XEKXW9W.csv\n"
     ]
    },
    {
     "name": "stderr",
     "output_type": "stream",
     "text": [
      "/usr/local/lib/python3.9/site-packages/aodndata/soop/soop_xbt_nrt.py:190: FutureWarning: The error_bad_lines argument has been deprecated and will be removed in a future version. Use on_bad_lines in the future.\n",
      "\n",
      "\n",
      "  df = pd.read_csv(csv_path, header=None, engine=\"python\", error_bad_lines=False)\n"
     ]
    },
    {
     "name": "stdout",
     "output_type": "stream",
     "text": [
      "Processing file s3://imos-data-lab-raw/IMOS/SOOP/SOOP-XBT/REALTIME_BUFR/2020/IOSS01_AMMC_20201109210600_XEKXW9W.csv\n",
      "Processing file s3://imos-data-lab-raw/IMOS/SOOP/SOOP-XBT/REALTIME_BUFR/2020/IOSS01_AMMC_20201109210600_XEKXW9W.csv\n"
     ]
    },
    {
     "name": "stderr",
     "output_type": "stream",
     "text": [
      "/usr/local/lib/python3.9/site-packages/aodndata/soop/soop_xbt_nrt.py:190: FutureWarning: The error_bad_lines argument has been deprecated and will be removed in a future version. Use on_bad_lines in the future.\n",
      "\n",
      "\n",
      "  df = pd.read_csv(csv_path, header=None, engine=\"python\", error_bad_lines=False)\n"
     ]
    },
    {
     "name": "stdout",
     "output_type": "stream",
     "text": [
      "Processing file s3://imos-data-lab-raw/IMOS/SOOP/SOOP-XBT/REALTIME_BUFR/2020/IOSS01_AMMC_20201109215900_XEKXW9W.csv\n",
      "Processing file s3://imos-data-lab-raw/IMOS/SOOP/SOOP-XBT/REALTIME_BUFR/2020/IOSS01_AMMC_20201109215900_XEKXW9W.csv\n"
     ]
    },
    {
     "name": "stderr",
     "output_type": "stream",
     "text": [
      "/usr/local/lib/python3.9/site-packages/aodndata/soop/soop_xbt_nrt.py:190: FutureWarning: The error_bad_lines argument has been deprecated and will be removed in a future version. Use on_bad_lines in the future.\n",
      "\n",
      "\n",
      "  df = pd.read_csv(csv_path, header=None, engine=\"python\", error_bad_lines=False)\n"
     ]
    },
    {
     "name": "stdout",
     "output_type": "stream",
     "text": [
      "Processing file s3://imos-data-lab-raw/IMOS/SOOP/SOOP-XBT/REALTIME_BUFR/2020/IOSS01_AMMC_20201109230300_XEKXW9W.csv\n",
      "Processing file s3://imos-data-lab-raw/IMOS/SOOP/SOOP-XBT/REALTIME_BUFR/2020/IOSS01_AMMC_20201109230300_XEKXW9W.csv\n"
     ]
    },
    {
     "name": "stderr",
     "output_type": "stream",
     "text": [
      "/usr/local/lib/python3.9/site-packages/aodndata/soop/soop_xbt_nrt.py:190: FutureWarning: The error_bad_lines argument has been deprecated and will be removed in a future version. Use on_bad_lines in the future.\n",
      "\n",
      "\n",
      "  df = pd.read_csv(csv_path, header=None, engine=\"python\", error_bad_lines=False)\n"
     ]
    },
    {
     "name": "stdout",
     "output_type": "stream",
     "text": [
      "Processing file s3://imos-data-lab-raw/IMOS/SOOP/SOOP-XBT/REALTIME_BUFR/2020/IOSS01_AMMC_20201109231000_XEKXW9W.csv\n",
      "Processing file s3://imos-data-lab-raw/IMOS/SOOP/SOOP-XBT/REALTIME_BUFR/2020/IOSS01_AMMC_20201109231000_XEKXW9W.csv\n"
     ]
    },
    {
     "name": "stderr",
     "output_type": "stream",
     "text": [
      "/usr/local/lib/python3.9/site-packages/aodndata/soop/soop_xbt_nrt.py:190: FutureWarning: The error_bad_lines argument has been deprecated and will be removed in a future version. Use on_bad_lines in the future.\n",
      "\n",
      "\n",
      "  df = pd.read_csv(csv_path, header=None, engine=\"python\", error_bad_lines=False)\n"
     ]
    },
    {
     "name": "stdout",
     "output_type": "stream",
     "text": [
      "Processing file s3://imos-data-lab-raw/IMOS/SOOP/SOOP-XBT/REALTIME_BUFR/2020/IOSS01_AMMC_20201109231400_XEKXW9W.csv\n",
      "Processing file s3://imos-data-lab-raw/IMOS/SOOP/SOOP-XBT/REALTIME_BUFR/2020/IOSS01_AMMC_20201109231400_XEKXW9W.csv\n"
     ]
    },
    {
     "name": "stderr",
     "output_type": "stream",
     "text": [
      "/usr/local/lib/python3.9/site-packages/aodndata/soop/soop_xbt_nrt.py:190: FutureWarning: The error_bad_lines argument has been deprecated and will be removed in a future version. Use on_bad_lines in the future.\n",
      "\n",
      "\n",
      "  df = pd.read_csv(csv_path, header=None, engine=\"python\", error_bad_lines=False)\n"
     ]
    },
    {
     "name": "stdout",
     "output_type": "stream",
     "text": [
      "Processing file s3://imos-data-lab-raw/IMOS/SOOP/SOOP-XBT/REALTIME_BUFR/2020/IOSS01_AMMC_20201109231800_XEKXW9W.csv\n",
      "Processing file s3://imos-data-lab-raw/IMOS/SOOP/SOOP-XBT/REALTIME_BUFR/2020/IOSS01_AMMC_20201109231800_XEKXW9W.csv\n"
     ]
    },
    {
     "name": "stderr",
     "output_type": "stream",
     "text": [
      "/usr/local/lib/python3.9/site-packages/aodndata/soop/soop_xbt_nrt.py:190: FutureWarning: The error_bad_lines argument has been deprecated and will be removed in a future version. Use on_bad_lines in the future.\n",
      "\n",
      "\n",
      "  df = pd.read_csv(csv_path, header=None, engine=\"python\", error_bad_lines=False)\n"
     ]
    },
    {
     "name": "stdout",
     "output_type": "stream",
     "text": [
      "Processing file s3://imos-data-lab-raw/IMOS/SOOP/SOOP-XBT/REALTIME_BUFR/2020/IOSS01_AMMC_20201109235300_XEKXW9W.csv\n",
      "Processing file s3://imos-data-lab-raw/IMOS/SOOP/SOOP-XBT/REALTIME_BUFR/2020/IOSS01_AMMC_20201109235300_XEKXW9W.csv\n"
     ]
    },
    {
     "name": "stderr",
     "output_type": "stream",
     "text": [
      "/usr/local/lib/python3.9/site-packages/aodndata/soop/soop_xbt_nrt.py:190: FutureWarning: The error_bad_lines argument has been deprecated and will be removed in a future version. Use on_bad_lines in the future.\n",
      "\n",
      "\n",
      "  df = pd.read_csv(csv_path, header=None, engine=\"python\", error_bad_lines=False)\n"
     ]
    },
    {
     "name": "stdout",
     "output_type": "stream",
     "text": [
      "Processing file s3://imos-data-lab-raw/IMOS/SOOP/SOOP-XBT/REALTIME_BUFR/2020/IOSS01_AMMC_20201110015800_XEKXW9W.csv\n",
      "Processing file s3://imos-data-lab-raw/IMOS/SOOP/SOOP-XBT/REALTIME_BUFR/2020/IOSS01_AMMC_20201110015800_XEKXW9W.csv\n"
     ]
    },
    {
     "name": "stderr",
     "output_type": "stream",
     "text": [
      "/usr/local/lib/python3.9/site-packages/aodndata/soop/soop_xbt_nrt.py:190: FutureWarning: The error_bad_lines argument has been deprecated and will be removed in a future version. Use on_bad_lines in the future.\n",
      "\n",
      "\n",
      "  df = pd.read_csv(csv_path, header=None, engine=\"python\", error_bad_lines=False)\n"
     ]
    },
    {
     "name": "stdout",
     "output_type": "stream",
     "text": [
      "Processing file s3://imos-data-lab-raw/IMOS/SOOP/SOOP-XBT/REALTIME_BUFR/2020/IOSS01_AMMC_20201110020500_XEKXW9W.csv\n",
      "Processing file s3://imos-data-lab-raw/IMOS/SOOP/SOOP-XBT/REALTIME_BUFR/2020/IOSS01_AMMC_20201110020500_XEKXW9W.csv\n"
     ]
    },
    {
     "name": "stderr",
     "output_type": "stream",
     "text": [
      "/usr/local/lib/python3.9/site-packages/aodndata/soop/soop_xbt_nrt.py:190: FutureWarning: The error_bad_lines argument has been deprecated and will be removed in a future version. Use on_bad_lines in the future.\n",
      "\n",
      "\n",
      "  df = pd.read_csv(csv_path, header=None, engine=\"python\", error_bad_lines=False)\n"
     ]
    },
    {
     "name": "stdout",
     "output_type": "stream",
     "text": [
      "Processing file s3://imos-data-lab-raw/IMOS/SOOP/SOOP-XBT/REALTIME_BUFR/2020/IOSS01_AMMC_20201110035900_XEKXW9W.csv\n",
      "Processing file s3://imos-data-lab-raw/IMOS/SOOP/SOOP-XBT/REALTIME_BUFR/2020/IOSS01_AMMC_20201110035900_XEKXW9W.csv\n"
     ]
    },
    {
     "name": "stderr",
     "output_type": "stream",
     "text": [
      "/usr/local/lib/python3.9/site-packages/aodndata/soop/soop_xbt_nrt.py:190: FutureWarning: The error_bad_lines argument has been deprecated and will be removed in a future version. Use on_bad_lines in the future.\n",
      "\n",
      "\n",
      "  df = pd.read_csv(csv_path, header=None, engine=\"python\", error_bad_lines=False)\n"
     ]
    },
    {
     "name": "stdout",
     "output_type": "stream",
     "text": [
      "Processing file s3://imos-data-lab-raw/IMOS/SOOP/SOOP-XBT/REALTIME_BUFR/2020/IOSS01_AMMC_20201110060300_XEKXW9W.csv\n",
      "Processing file s3://imos-data-lab-raw/IMOS/SOOP/SOOP-XBT/REALTIME_BUFR/2020/IOSS01_AMMC_20201110060300_XEKXW9W.csv\n"
     ]
    },
    {
     "name": "stderr",
     "output_type": "stream",
     "text": [
      "/usr/local/lib/python3.9/site-packages/aodndata/soop/soop_xbt_nrt.py:190: FutureWarning: The error_bad_lines argument has been deprecated and will be removed in a future version. Use on_bad_lines in the future.\n",
      "\n",
      "\n",
      "  df = pd.read_csv(csv_path, header=None, engine=\"python\", error_bad_lines=False)\n"
     ]
    },
    {
     "name": "stdout",
     "output_type": "stream",
     "text": [
      "Processing file s3://imos-data-lab-raw/IMOS/SOOP/SOOP-XBT/REALTIME_BUFR/2020/IOSS01_AMMC_20201110075900_XEKXW9W.csv\n",
      "Processing file s3://imos-data-lab-raw/IMOS/SOOP/SOOP-XBT/REALTIME_BUFR/2020/IOSS01_AMMC_20201110075900_XEKXW9W.csv\n"
     ]
    },
    {
     "name": "stderr",
     "output_type": "stream",
     "text": [
      "/usr/local/lib/python3.9/site-packages/aodndata/soop/soop_xbt_nrt.py:190: FutureWarning: The error_bad_lines argument has been deprecated and will be removed in a future version. Use on_bad_lines in the future.\n",
      "\n",
      "\n",
      "  df = pd.read_csv(csv_path, header=None, engine=\"python\", error_bad_lines=False)\n"
     ]
    },
    {
     "name": "stdout",
     "output_type": "stream",
     "text": [
      "Processing file s3://imos-data-lab-raw/IMOS/SOOP/SOOP-XBT/REALTIME_BUFR/2020/IOSS01_AMMC_20201110081000_XEKXW9W.csv\n",
      "Processing file s3://imos-data-lab-raw/IMOS/SOOP/SOOP-XBT/REALTIME_BUFR/2020/IOSS01_AMMC_20201110081000_XEKXW9W.csv\n"
     ]
    },
    {
     "name": "stderr",
     "output_type": "stream",
     "text": [
      "/usr/local/lib/python3.9/site-packages/aodndata/soop/soop_xbt_nrt.py:190: FutureWarning: The error_bad_lines argument has been deprecated and will be removed in a future version. Use on_bad_lines in the future.\n",
      "\n",
      "\n",
      "  df = pd.read_csv(csv_path, header=None, engine=\"python\", error_bad_lines=False)\n"
     ]
    },
    {
     "name": "stdout",
     "output_type": "stream",
     "text": [
      "Processing file s3://imos-data-lab-raw/IMOS/SOOP/SOOP-XBT/REALTIME_BUFR/2020/IOSS01_AMMC_20201110094900_XEKXW9W.csv\n",
      "Processing file s3://imos-data-lab-raw/IMOS/SOOP/SOOP-XBT/REALTIME_BUFR/2020/IOSS01_AMMC_20201110094900_XEKXW9W.csv\n"
     ]
    },
    {
     "name": "stderr",
     "output_type": "stream",
     "text": [
      "/usr/local/lib/python3.9/site-packages/aodndata/soop/soop_xbt_nrt.py:190: FutureWarning: The error_bad_lines argument has been deprecated and will be removed in a future version. Use on_bad_lines in the future.\n",
      "\n",
      "\n",
      "  df = pd.read_csv(csv_path, header=None, engine=\"python\", error_bad_lines=False)\n"
     ]
    },
    {
     "name": "stdout",
     "output_type": "stream",
     "text": [
      "Processing file s3://imos-data-lab-raw/IMOS/SOOP/SOOP-XBT/REALTIME_BUFR/2020/IOSS01_AMMC_20201110120000_XEKXW9W.csv\n",
      "Processing file s3://imos-data-lab-raw/IMOS/SOOP/SOOP-XBT/REALTIME_BUFR/2020/IOSS01_AMMC_20201110120000_XEKXW9W.csv\n"
     ]
    },
    {
     "name": "stderr",
     "output_type": "stream",
     "text": [
      "/usr/local/lib/python3.9/site-packages/aodndata/soop/soop_xbt_nrt.py:190: FutureWarning: The error_bad_lines argument has been deprecated and will be removed in a future version. Use on_bad_lines in the future.\n",
      "\n",
      "\n",
      "  df = pd.read_csv(csv_path, header=None, engine=\"python\", error_bad_lines=False)\n"
     ]
    },
    {
     "name": "stdout",
     "output_type": "stream",
     "text": [
      "Processing file s3://imos-data-lab-raw/IMOS/SOOP/SOOP-XBT/REALTIME_BUFR/2020/IOSS01_AMMC_20201110120400_XEKXW9W.csv\n",
      "Processing file s3://imos-data-lab-raw/IMOS/SOOP/SOOP-XBT/REALTIME_BUFR/2020/IOSS01_AMMC_20201110120400_XEKXW9W.csv\n"
     ]
    },
    {
     "name": "stderr",
     "output_type": "stream",
     "text": [
      "/usr/local/lib/python3.9/site-packages/aodndata/soop/soop_xbt_nrt.py:190: FutureWarning: The error_bad_lines argument has been deprecated and will be removed in a future version. Use on_bad_lines in the future.\n",
      "\n",
      "\n",
      "  df = pd.read_csv(csv_path, header=None, engine=\"python\", error_bad_lines=False)\n"
     ]
    },
    {
     "name": "stdout",
     "output_type": "stream",
     "text": [
      "Processing file s3://imos-data-lab-raw/IMOS/SOOP/SOOP-XBT/REALTIME_BUFR/2020/IOSS01_AMMC_20201110135600_XEKXW9W.csv\n",
      "Processing file s3://imos-data-lab-raw/IMOS/SOOP/SOOP-XBT/REALTIME_BUFR/2020/IOSS01_AMMC_20201110135600_XEKXW9W.csv\n"
     ]
    },
    {
     "name": "stderr",
     "output_type": "stream",
     "text": [
      "/usr/local/lib/python3.9/site-packages/aodndata/soop/soop_xbt_nrt.py:190: FutureWarning: The error_bad_lines argument has been deprecated and will be removed in a future version. Use on_bad_lines in the future.\n",
      "\n",
      "\n",
      "  df = pd.read_csv(csv_path, header=None, engine=\"python\", error_bad_lines=False)\n"
     ]
    },
    {
     "name": "stdout",
     "output_type": "stream",
     "text": [
      "Processing file s3://imos-data-lab-raw/IMOS/SOOP/SOOP-XBT/REALTIME_BUFR/2020/IOSS01_AMMC_20201110155700_XEKXW9W.csv\n",
      "Processing file s3://imos-data-lab-raw/IMOS/SOOP/SOOP-XBT/REALTIME_BUFR/2020/IOSS01_AMMC_20201110155700_XEKXW9W.csv\n"
     ]
    },
    {
     "name": "stderr",
     "output_type": "stream",
     "text": [
      "/usr/local/lib/python3.9/site-packages/aodndata/soop/soop_xbt_nrt.py:190: FutureWarning: The error_bad_lines argument has been deprecated and will be removed in a future version. Use on_bad_lines in the future.\n",
      "\n",
      "\n",
      "  df = pd.read_csv(csv_path, header=None, engine=\"python\", error_bad_lines=False)\n"
     ]
    },
    {
     "name": "stdout",
     "output_type": "stream",
     "text": [
      "Processing file s3://imos-data-lab-raw/IMOS/SOOP/SOOP-XBT/REALTIME_BUFR/2020/IOSS01_AMMC_20201110175200_XEKXW9W.csv\n",
      "Processing file s3://imos-data-lab-raw/IMOS/SOOP/SOOP-XBT/REALTIME_BUFR/2020/IOSS01_AMMC_20201110175200_XEKXW9W.csv\n"
     ]
    },
    {
     "name": "stderr",
     "output_type": "stream",
     "text": [
      "/usr/local/lib/python3.9/site-packages/aodndata/soop/soop_xbt_nrt.py:190: FutureWarning: The error_bad_lines argument has been deprecated and will be removed in a future version. Use on_bad_lines in the future.\n",
      "\n",
      "\n",
      "  df = pd.read_csv(csv_path, header=None, engine=\"python\", error_bad_lines=False)\n"
     ]
    },
    {
     "name": "stdout",
     "output_type": "stream",
     "text": [
      "Processing file s3://imos-data-lab-raw/IMOS/SOOP/SOOP-XBT/REALTIME_BUFR/2020/IOSS01_AMMC_20201110201400_XEKXW9W.csv\n",
      "Processing file s3://imos-data-lab-raw/IMOS/SOOP/SOOP-XBT/REALTIME_BUFR/2020/IOSS01_AMMC_20201110201400_XEKXW9W.csv\n"
     ]
    },
    {
     "name": "stderr",
     "output_type": "stream",
     "text": [
      "/usr/local/lib/python3.9/site-packages/aodndata/soop/soop_xbt_nrt.py:190: FutureWarning: The error_bad_lines argument has been deprecated and will be removed in a future version. Use on_bad_lines in the future.\n",
      "\n",
      "\n",
      "  df = pd.read_csv(csv_path, header=None, engine=\"python\", error_bad_lines=False)\n"
     ]
    },
    {
     "name": "stdout",
     "output_type": "stream",
     "text": [
      "Processing file s3://imos-data-lab-raw/IMOS/SOOP/SOOP-XBT/REALTIME_BUFR/2020/IOSS01_AMMC_20201110215100_XEKXW9W.csv\n",
      "Processing file s3://imos-data-lab-raw/IMOS/SOOP/SOOP-XBT/REALTIME_BUFR/2020/IOSS01_AMMC_20201110215100_XEKXW9W.csv\n"
     ]
    },
    {
     "name": "stderr",
     "output_type": "stream",
     "text": [
      "/usr/local/lib/python3.9/site-packages/aodndata/soop/soop_xbt_nrt.py:190: FutureWarning: The error_bad_lines argument has been deprecated and will be removed in a future version. Use on_bad_lines in the future.\n",
      "\n",
      "\n",
      "  df = pd.read_csv(csv_path, header=None, engine=\"python\", error_bad_lines=False)\n"
     ]
    },
    {
     "name": "stdout",
     "output_type": "stream",
     "text": [
      "Processing file s3://imos-data-lab-raw/IMOS/SOOP/SOOP-XBT/REALTIME_BUFR/2020/IOSS01_AMMC_20201110215400_XEKXW9W.csv\n",
      "Processing file s3://imos-data-lab-raw/IMOS/SOOP/SOOP-XBT/REALTIME_BUFR/2020/IOSS01_AMMC_20201110215400_XEKXW9W.csv\n"
     ]
    },
    {
     "name": "stderr",
     "output_type": "stream",
     "text": [
      "/usr/local/lib/python3.9/site-packages/aodndata/soop/soop_xbt_nrt.py:190: FutureWarning: The error_bad_lines argument has been deprecated and will be removed in a future version. Use on_bad_lines in the future.\n",
      "\n",
      "\n",
      "  df = pd.read_csv(csv_path, header=None, engine=\"python\", error_bad_lines=False)\n"
     ]
    },
    {
     "name": "stdout",
     "output_type": "stream",
     "text": [
      "Processing file s3://imos-data-lab-raw/IMOS/SOOP/SOOP-XBT/REALTIME_BUFR/2020/IOSS01_AMMC_20201110235500_XEKXW9W.csv\n",
      "Processing file s3://imos-data-lab-raw/IMOS/SOOP/SOOP-XBT/REALTIME_BUFR/2020/IOSS01_AMMC_20201110235500_XEKXW9W.csv\n"
     ]
    },
    {
     "name": "stderr",
     "output_type": "stream",
     "text": [
      "/usr/local/lib/python3.9/site-packages/aodndata/soop/soop_xbt_nrt.py:190: FutureWarning: The error_bad_lines argument has been deprecated and will be removed in a future version. Use on_bad_lines in the future.\n",
      "\n",
      "\n",
      "  df = pd.read_csv(csv_path, header=None, engine=\"python\", error_bad_lines=False)\n"
     ]
    },
    {
     "name": "stdout",
     "output_type": "stream",
     "text": [
      "Processing file s3://imos-data-lab-raw/IMOS/SOOP/SOOP-XBT/REALTIME_BUFR/2020/IOSS01_AMMC_20201110235800_XEKXW9W.csv\n",
      "Processing file s3://imos-data-lab-raw/IMOS/SOOP/SOOP-XBT/REALTIME_BUFR/2020/IOSS01_AMMC_20201110235800_XEKXW9W.csv\n"
     ]
    },
    {
     "name": "stderr",
     "output_type": "stream",
     "text": [
      "/usr/local/lib/python3.9/site-packages/aodndata/soop/soop_xbt_nrt.py:190: FutureWarning: The error_bad_lines argument has been deprecated and will be removed in a future version. Use on_bad_lines in the future.\n",
      "\n",
      "\n",
      "  df = pd.read_csv(csv_path, header=None, engine=\"python\", error_bad_lines=False)\n"
     ]
    },
    {
     "name": "stdout",
     "output_type": "stream",
     "text": [
      "Processing file s3://imos-data-lab-raw/IMOS/SOOP/SOOP-XBT/REALTIME_BUFR/2020/IOSS01_AMMC_20201111020000_XEKXW9W.csv\n",
      "Processing file s3://imos-data-lab-raw/IMOS/SOOP/SOOP-XBT/REALTIME_BUFR/2020/IOSS01_AMMC_20201111020000_XEKXW9W.csv\n"
     ]
    },
    {
     "name": "stderr",
     "output_type": "stream",
     "text": [
      "/usr/local/lib/python3.9/site-packages/aodndata/soop/soop_xbt_nrt.py:190: FutureWarning: The error_bad_lines argument has been deprecated and will be removed in a future version. Use on_bad_lines in the future.\n",
      "\n",
      "\n",
      "  df = pd.read_csv(csv_path, header=None, engine=\"python\", error_bad_lines=False)\n"
     ]
    },
    {
     "name": "stdout",
     "output_type": "stream",
     "text": [
      "Processing file s3://imos-data-lab-raw/IMOS/SOOP/SOOP-XBT/REALTIME_BUFR/2020/IOSS01_AMMC_20201111020500_XEKXW9W.csv\n",
      "Processing file s3://imos-data-lab-raw/IMOS/SOOP/SOOP-XBT/REALTIME_BUFR/2020/IOSS01_AMMC_20201111020500_XEKXW9W.csv\n"
     ]
    },
    {
     "name": "stderr",
     "output_type": "stream",
     "text": [
      "/usr/local/lib/python3.9/site-packages/aodndata/soop/soop_xbt_nrt.py:190: FutureWarning: The error_bad_lines argument has been deprecated and will be removed in a future version. Use on_bad_lines in the future.\n",
      "\n",
      "\n",
      "  df = pd.read_csv(csv_path, header=None, engine=\"python\", error_bad_lines=False)\n"
     ]
    },
    {
     "name": "stdout",
     "output_type": "stream",
     "text": [
      "Processing file s3://imos-data-lab-raw/IMOS/SOOP/SOOP-XBT/REALTIME_BUFR/2020/IOSS01_AMMC_20201111040200_XEKXW9W.csv\n",
      "Processing file s3://imos-data-lab-raw/IMOS/SOOP/SOOP-XBT/REALTIME_BUFR/2020/IOSS01_AMMC_20201111040200_XEKXW9W.csv\n"
     ]
    },
    {
     "name": "stderr",
     "output_type": "stream",
     "text": [
      "/usr/local/lib/python3.9/site-packages/aodndata/soop/soop_xbt_nrt.py:190: FutureWarning: The error_bad_lines argument has been deprecated and will be removed in a future version. Use on_bad_lines in the future.\n",
      "\n",
      "\n",
      "  df = pd.read_csv(csv_path, header=None, engine=\"python\", error_bad_lines=False)\n"
     ]
    },
    {
     "name": "stdout",
     "output_type": "stream",
     "text": [
      "Processing file s3://imos-data-lab-raw/IMOS/SOOP/SOOP-XBT/REALTIME_BUFR/2020/IOSS01_AMMC_20201111055600_XEKXW9W.csv\n",
      "Processing file s3://imos-data-lab-raw/IMOS/SOOP/SOOP-XBT/REALTIME_BUFR/2020/IOSS01_AMMC_20201111055600_XEKXW9W.csv\n"
     ]
    },
    {
     "name": "stderr",
     "output_type": "stream",
     "text": [
      "/usr/local/lib/python3.9/site-packages/aodndata/soop/soop_xbt_nrt.py:190: FutureWarning: The error_bad_lines argument has been deprecated and will be removed in a future version. Use on_bad_lines in the future.\n",
      "\n",
      "\n",
      "  df = pd.read_csv(csv_path, header=None, engine=\"python\", error_bad_lines=False)\n"
     ]
    },
    {
     "name": "stdout",
     "output_type": "stream",
     "text": [
      "Processing file s3://imos-data-lab-raw/IMOS/SOOP/SOOP-XBT/REALTIME_BUFR/2020/IOSS01_AMMC_20201111060700_XEKXW9W.csv\n",
      "Processing file s3://imos-data-lab-raw/IMOS/SOOP/SOOP-XBT/REALTIME_BUFR/2020/IOSS01_AMMC_20201111060700_XEKXW9W.csv\n"
     ]
    },
    {
     "name": "stderr",
     "output_type": "stream",
     "text": [
      "/usr/local/lib/python3.9/site-packages/aodndata/soop/soop_xbt_nrt.py:190: FutureWarning: The error_bad_lines argument has been deprecated and will be removed in a future version. Use on_bad_lines in the future.\n",
      "\n",
      "\n",
      "  df = pd.read_csv(csv_path, header=None, engine=\"python\", error_bad_lines=False)\n"
     ]
    },
    {
     "name": "stdout",
     "output_type": "stream",
     "text": [
      "Processing file s3://imos-data-lab-raw/IMOS/SOOP/SOOP-XBT/REALTIME_BUFR/2020/IOSS01_AMMC_20201111080600_XEKXW9W.csv\n",
      "Processing file s3://imos-data-lab-raw/IMOS/SOOP/SOOP-XBT/REALTIME_BUFR/2020/IOSS01_AMMC_20201111080600_XEKXW9W.csv\n"
     ]
    },
    {
     "name": "stderr",
     "output_type": "stream",
     "text": [
      "/usr/local/lib/python3.9/site-packages/aodndata/soop/soop_xbt_nrt.py:190: FutureWarning: The error_bad_lines argument has been deprecated and will be removed in a future version. Use on_bad_lines in the future.\n",
      "\n",
      "\n",
      "  df = pd.read_csv(csv_path, header=None, engine=\"python\", error_bad_lines=False)\n"
     ]
    },
    {
     "name": "stdout",
     "output_type": "stream",
     "text": [
      "Processing file s3://imos-data-lab-raw/IMOS/SOOP/SOOP-XBT/REALTIME_BUFR/2020/IOSS01_AMMC_20201111094700_XEKXW9W.csv\n",
      "Processing file s3://imos-data-lab-raw/IMOS/SOOP/SOOP-XBT/REALTIME_BUFR/2020/IOSS01_AMMC_20201111094700_XEKXW9W.csv\n"
     ]
    },
    {
     "name": "stderr",
     "output_type": "stream",
     "text": [
      "/usr/local/lib/python3.9/site-packages/aodndata/soop/soop_xbt_nrt.py:190: FutureWarning: The error_bad_lines argument has been deprecated and will be removed in a future version. Use on_bad_lines in the future.\n",
      "\n",
      "\n",
      "  df = pd.read_csv(csv_path, header=None, engine=\"python\", error_bad_lines=False)\n"
     ]
    },
    {
     "name": "stdout",
     "output_type": "stream",
     "text": [
      "Processing file s3://imos-data-lab-raw/IMOS/SOOP/SOOP-XBT/REALTIME_BUFR/2020/IOSS01_AMMC_20201111120000_XEKXW9W.csv\n",
      "Processing file s3://imos-data-lab-raw/IMOS/SOOP/SOOP-XBT/REALTIME_BUFR/2020/IOSS01_AMMC_20201111120000_XEKXW9W.csv\n"
     ]
    },
    {
     "name": "stderr",
     "output_type": "stream",
     "text": [
      "/usr/local/lib/python3.9/site-packages/aodndata/soop/soop_xbt_nrt.py:190: FutureWarning: The error_bad_lines argument has been deprecated and will be removed in a future version. Use on_bad_lines in the future.\n",
      "\n",
      "\n",
      "  df = pd.read_csv(csv_path, header=None, engine=\"python\", error_bad_lines=False)\n"
     ]
    },
    {
     "name": "stdout",
     "output_type": "stream",
     "text": [
      "Processing file s3://imos-data-lab-raw/IMOS/SOOP/SOOP-XBT/REALTIME_BUFR/2020/IOSS01_AMMC_20201111120700_XEKXW9W.csv\n",
      "Processing file s3://imos-data-lab-raw/IMOS/SOOP/SOOP-XBT/REALTIME_BUFR/2020/IOSS01_AMMC_20201111120700_XEKXW9W.csv\n"
     ]
    },
    {
     "name": "stderr",
     "output_type": "stream",
     "text": [
      "/usr/local/lib/python3.9/site-packages/aodndata/soop/soop_xbt_nrt.py:190: FutureWarning: The error_bad_lines argument has been deprecated and will be removed in a future version. Use on_bad_lines in the future.\n",
      "\n",
      "\n",
      "  df = pd.read_csv(csv_path, header=None, engine=\"python\", error_bad_lines=False)\n"
     ]
    },
    {
     "name": "stdout",
     "output_type": "stream",
     "text": [
      "Processing file s3://imos-data-lab-raw/IMOS/SOOP/SOOP-XBT/REALTIME_BUFR/2020/IOSS01_AMMC_20201111134700_XEKXW9W.csv\n",
      "Processing file s3://imos-data-lab-raw/IMOS/SOOP/SOOP-XBT/REALTIME_BUFR/2020/IOSS01_AMMC_20201111134700_XEKXW9W.csv\n"
     ]
    },
    {
     "name": "stderr",
     "output_type": "stream",
     "text": [
      "/usr/local/lib/python3.9/site-packages/aodndata/soop/soop_xbt_nrt.py:190: FutureWarning: The error_bad_lines argument has been deprecated and will be removed in a future version. Use on_bad_lines in the future.\n",
      "\n",
      "\n",
      "  df = pd.read_csv(csv_path, header=None, engine=\"python\", error_bad_lines=False)\n"
     ]
    },
    {
     "name": "stdout",
     "output_type": "stream",
     "text": [
      "Processing file s3://imos-data-lab-raw/IMOS/SOOP/SOOP-XBT/REALTIME_BUFR/2020/IOSS01_AMMC_20201111211500_XEKXW9W.csv\n",
      "Processing file s3://imos-data-lab-raw/IMOS/SOOP/SOOP-XBT/REALTIME_BUFR/2020/IOSS01_AMMC_20201111211500_XEKXW9W.csv\n"
     ]
    },
    {
     "name": "stderr",
     "output_type": "stream",
     "text": [
      "/usr/local/lib/python3.9/site-packages/aodndata/soop/soop_xbt_nrt.py:190: FutureWarning: The error_bad_lines argument has been deprecated and will be removed in a future version. Use on_bad_lines in the future.\n",
      "\n",
      "\n",
      "  df = pd.read_csv(csv_path, header=None, engine=\"python\", error_bad_lines=False)\n"
     ]
    },
    {
     "name": "stdout",
     "output_type": "stream",
     "text": [
      "Processing file s3://imos-data-lab-raw/IMOS/SOOP/SOOP-XBT/REALTIME_BUFR/2020/IOSS01_AMMC_20201112022200_XEKXW9W.csv\n",
      "Processing file s3://imos-data-lab-raw/IMOS/SOOP/SOOP-XBT/REALTIME_BUFR/2020/IOSS01_AMMC_20201112022200_XEKXW9W.csv\n"
     ]
    },
    {
     "name": "stderr",
     "output_type": "stream",
     "text": [
      "/usr/local/lib/python3.9/site-packages/aodndata/soop/soop_xbt_nrt.py:190: FutureWarning: The error_bad_lines argument has been deprecated and will be removed in a future version. Use on_bad_lines in the future.\n",
      "\n",
      "\n",
      "  df = pd.read_csv(csv_path, header=None, engine=\"python\", error_bad_lines=False)\n"
     ]
    },
    {
     "name": "stdout",
     "output_type": "stream",
     "text": [
      "Processing file s3://imos-data-lab-raw/IMOS/SOOP/SOOP-XBT/REALTIME_BUFR/2020/IOSS01_AMMC_20201112035600_XEKXW9W.csv\n",
      "Processing file s3://imos-data-lab-raw/IMOS/SOOP/SOOP-XBT/REALTIME_BUFR/2020/IOSS01_AMMC_20201112035600_XEKXW9W.csv\n"
     ]
    },
    {
     "name": "stderr",
     "output_type": "stream",
     "text": [
      "/usr/local/lib/python3.9/site-packages/aodndata/soop/soop_xbt_nrt.py:190: FutureWarning: The error_bad_lines argument has been deprecated and will be removed in a future version. Use on_bad_lines in the future.\n",
      "\n",
      "\n",
      "  df = pd.read_csv(csv_path, header=None, engine=\"python\", error_bad_lines=False)\n"
     ]
    },
    {
     "name": "stdout",
     "output_type": "stream",
     "text": [
      "Processing file s3://imos-data-lab-raw/IMOS/SOOP/SOOP-XBT/REALTIME_BUFR/2020/IOSS01_AMMC_20201112061800_XEKXW9W.csv\n",
      "Processing file s3://imos-data-lab-raw/IMOS/SOOP/SOOP-XBT/REALTIME_BUFR/2020/IOSS01_AMMC_20201112061800_XEKXW9W.csv\n"
     ]
    },
    {
     "name": "stderr",
     "output_type": "stream",
     "text": [
      "/usr/local/lib/python3.9/site-packages/aodndata/soop/soop_xbt_nrt.py:190: FutureWarning: The error_bad_lines argument has been deprecated and will be removed in a future version. Use on_bad_lines in the future.\n",
      "\n",
      "\n",
      "  df = pd.read_csv(csv_path, header=None, engine=\"python\", error_bad_lines=False)\n"
     ]
    },
    {
     "name": "stdout",
     "output_type": "stream",
     "text": [
      "Processing file s3://imos-data-lab-raw/IMOS/SOOP/SOOP-XBT/REALTIME_BUFR/2020/IOSS01_AMMC_20201112095300_XEKXW9W.csv\n",
      "Processing file s3://imos-data-lab-raw/IMOS/SOOP/SOOP-XBT/REALTIME_BUFR/2020/IOSS01_AMMC_20201112095300_XEKXW9W.csv\n"
     ]
    },
    {
     "name": "stderr",
     "output_type": "stream",
     "text": [
      "/usr/local/lib/python3.9/site-packages/aodndata/soop/soop_xbt_nrt.py:190: FutureWarning: The error_bad_lines argument has been deprecated and will be removed in a future version. Use on_bad_lines in the future.\n",
      "\n",
      "\n",
      "  df = pd.read_csv(csv_path, header=None, engine=\"python\", error_bad_lines=False)\n"
     ]
    },
    {
     "name": "stdout",
     "output_type": "stream",
     "text": [
      "Processing file s3://imos-data-lab-raw/IMOS/SOOP/SOOP-XBT/REALTIME_BUFR/2020/IOSS01_AMMC_20201113063600_XEKXW9W.csv\n",
      "Processing file s3://imos-data-lab-raw/IMOS/SOOP/SOOP-XBT/REALTIME_BUFR/2020/IOSS01_AMMC_20201113063600_XEKXW9W.csv\n"
     ]
    },
    {
     "name": "stderr",
     "output_type": "stream",
     "text": [
      "/usr/local/lib/python3.9/site-packages/aodndata/soop/soop_xbt_nrt.py:190: FutureWarning: The error_bad_lines argument has been deprecated and will be removed in a future version. Use on_bad_lines in the future.\n",
      "\n",
      "\n",
      "  df = pd.read_csv(csv_path, header=None, engine=\"python\", error_bad_lines=False)\n"
     ]
    },
    {
     "name": "stdout",
     "output_type": "stream",
     "text": [
      "Processing file s3://imos-data-lab-raw/IMOS/SOOP/SOOP-XBT/REALTIME_BUFR/2020/IOSS01_AMMC_20201113094500_XEKXW9W.csv\n",
      "Processing file s3://imos-data-lab-raw/IMOS/SOOP/SOOP-XBT/REALTIME_BUFR/2020/IOSS01_AMMC_20201113094500_XEKXW9W.csv\n"
     ]
    },
    {
     "name": "stderr",
     "output_type": "stream",
     "text": [
      "/usr/local/lib/python3.9/site-packages/aodndata/soop/soop_xbt_nrt.py:190: FutureWarning: The error_bad_lines argument has been deprecated and will be removed in a future version. Use on_bad_lines in the future.\n",
      "\n",
      "\n",
      "  df = pd.read_csv(csv_path, header=None, engine=\"python\", error_bad_lines=False)\n"
     ]
    },
    {
     "name": "stdout",
     "output_type": "stream",
     "text": [
      "Processing file s3://imos-data-lab-raw/IMOS/SOOP/SOOP-XBT/REALTIME_BUFR/2020/IOSS01_AMMC_20201119125400_XEKXW9W.csv\n",
      "Processing file s3://imos-data-lab-raw/IMOS/SOOP/SOOP-XBT/REALTIME_BUFR/2020/IOSS01_AMMC_20201119125400_XEKXW9W.csv\n"
     ]
    },
    {
     "name": "stderr",
     "output_type": "stream",
     "text": [
      "/usr/local/lib/python3.9/site-packages/aodndata/soop/soop_xbt_nrt.py:190: FutureWarning: The error_bad_lines argument has been deprecated and will be removed in a future version. Use on_bad_lines in the future.\n",
      "\n",
      "\n",
      "  df = pd.read_csv(csv_path, header=None, engine=\"python\", error_bad_lines=False)\n"
     ]
    },
    {
     "name": "stdout",
     "output_type": "stream",
     "text": [
      "Processing file s3://imos-data-lab-raw/IMOS/SOOP/SOOP-XBT/REALTIME_BUFR/2020/IOSS01_AMMC_20201119160900_XEKXW9W.csv\n",
      "Processing file s3://imos-data-lab-raw/IMOS/SOOP/SOOP-XBT/REALTIME_BUFR/2020/IOSS01_AMMC_20201119160900_XEKXW9W.csv\n"
     ]
    },
    {
     "name": "stderr",
     "output_type": "stream",
     "text": [
      "/usr/local/lib/python3.9/site-packages/aodndata/soop/soop_xbt_nrt.py:190: FutureWarning: The error_bad_lines argument has been deprecated and will be removed in a future version. Use on_bad_lines in the future.\n",
      "\n",
      "\n",
      "  df = pd.read_csv(csv_path, header=None, engine=\"python\", error_bad_lines=False)\n"
     ]
    },
    {
     "name": "stdout",
     "output_type": "stream",
     "text": [
      "Processing file s3://imos-data-lab-raw/IMOS/SOOP/SOOP-XBT/REALTIME_BUFR/2020/IOSS01_AMMC_20201119202900_XEKXW9W.csv\n",
      "Processing file s3://imos-data-lab-raw/IMOS/SOOP/SOOP-XBT/REALTIME_BUFR/2020/IOSS01_AMMC_20201119202900_XEKXW9W.csv\n"
     ]
    },
    {
     "name": "stderr",
     "output_type": "stream",
     "text": [
      "/usr/local/lib/python3.9/site-packages/aodndata/soop/soop_xbt_nrt.py:190: FutureWarning: The error_bad_lines argument has been deprecated and will be removed in a future version. Use on_bad_lines in the future.\n",
      "\n",
      "\n",
      "  df = pd.read_csv(csv_path, header=None, engine=\"python\", error_bad_lines=False)\n"
     ]
    },
    {
     "name": "stdout",
     "output_type": "stream",
     "text": [
      "Processing file s3://imos-data-lab-raw/IMOS/SOOP/SOOP-XBT/REALTIME_BUFR/2020/IOSS01_AMMC_20201120005600_XEKXW9W.csv\n",
      "Processing file s3://imos-data-lab-raw/IMOS/SOOP/SOOP-XBT/REALTIME_BUFR/2020/IOSS01_AMMC_20201120005600_XEKXW9W.csv\n"
     ]
    },
    {
     "name": "stderr",
     "output_type": "stream",
     "text": [
      "/usr/local/lib/python3.9/site-packages/aodndata/soop/soop_xbt_nrt.py:190: FutureWarning: The error_bad_lines argument has been deprecated and will be removed in a future version. Use on_bad_lines in the future.\n",
      "\n",
      "\n",
      "  df = pd.read_csv(csv_path, header=None, engine=\"python\", error_bad_lines=False)\n"
     ]
    },
    {
     "name": "stdout",
     "output_type": "stream",
     "text": [
      "Processing file s3://imos-data-lab-raw/IMOS/SOOP/SOOP-XBT/REALTIME_BUFR/2020/IOSS01_AMMC_20201120032100_XEKXW9W.csv\n",
      "Processing file s3://imos-data-lab-raw/IMOS/SOOP/SOOP-XBT/REALTIME_BUFR/2020/IOSS01_AMMC_20201120032100_XEKXW9W.csv\n"
     ]
    },
    {
     "name": "stderr",
     "output_type": "stream",
     "text": [
      "/usr/local/lib/python3.9/site-packages/aodndata/soop/soop_xbt_nrt.py:190: FutureWarning: The error_bad_lines argument has been deprecated and will be removed in a future version. Use on_bad_lines in the future.\n",
      "\n",
      "\n",
      "  df = pd.read_csv(csv_path, header=None, engine=\"python\", error_bad_lines=False)\n"
     ]
    },
    {
     "name": "stdout",
     "output_type": "stream",
     "text": [
      "Processing file s3://imos-data-lab-raw/IMOS/SOOP/SOOP-XBT/REALTIME_BUFR/2020/IOSS01_AMMC_20201120051600_XEKXW9W.csv\n",
      "Processing file s3://imos-data-lab-raw/IMOS/SOOP/SOOP-XBT/REALTIME_BUFR/2020/IOSS01_AMMC_20201120051600_XEKXW9W.csv\n"
     ]
    },
    {
     "name": "stderr",
     "output_type": "stream",
     "text": [
      "/usr/local/lib/python3.9/site-packages/aodndata/soop/soop_xbt_nrt.py:190: FutureWarning: The error_bad_lines argument has been deprecated and will be removed in a future version. Use on_bad_lines in the future.\n",
      "\n",
      "\n",
      "  df = pd.read_csv(csv_path, header=None, engine=\"python\", error_bad_lines=False)\n"
     ]
    },
    {
     "name": "stdout",
     "output_type": "stream",
     "text": [
      "Processing file s3://imos-data-lab-raw/IMOS/SOOP/SOOP-XBT/REALTIME_BUFR/2020/IOSS01_AMMC_20201120071400_XEKXW9W.csv\n",
      "Processing file s3://imos-data-lab-raw/IMOS/SOOP/SOOP-XBT/REALTIME_BUFR/2020/IOSS01_AMMC_20201120071400_XEKXW9W.csv\n"
     ]
    },
    {
     "name": "stderr",
     "output_type": "stream",
     "text": [
      "/usr/local/lib/python3.9/site-packages/aodndata/soop/soop_xbt_nrt.py:190: FutureWarning: The error_bad_lines argument has been deprecated and will be removed in a future version. Use on_bad_lines in the future.\n",
      "\n",
      "\n",
      "  df = pd.read_csv(csv_path, header=None, engine=\"python\", error_bad_lines=False)\n"
     ]
    },
    {
     "name": "stdout",
     "output_type": "stream",
     "text": [
      "Processing file s3://imos-data-lab-raw/IMOS/SOOP/SOOP-XBT/REALTIME_BUFR/2020/IOSS01_AMMC_20201120105700_XEKXW9W.csv\n",
      "Processing file s3://imos-data-lab-raw/IMOS/SOOP/SOOP-XBT/REALTIME_BUFR/2020/IOSS01_AMMC_20201120105700_XEKXW9W.csv\n"
     ]
    },
    {
     "name": "stderr",
     "output_type": "stream",
     "text": [
      "/usr/local/lib/python3.9/site-packages/aodndata/soop/soop_xbt_nrt.py:190: FutureWarning: The error_bad_lines argument has been deprecated and will be removed in a future version. Use on_bad_lines in the future.\n",
      "\n",
      "\n",
      "  df = pd.read_csv(csv_path, header=None, engine=\"python\", error_bad_lines=False)\n"
     ]
    },
    {
     "name": "stdout",
     "output_type": "stream",
     "text": [
      "Processing file s3://imos-data-lab-raw/IMOS/SOOP/SOOP-XBT/REALTIME_BUFR/2020/IOSS01_AMMC_20201120205500_XEKXW9W.csv\n",
      "Processing file s3://imos-data-lab-raw/IMOS/SOOP/SOOP-XBT/REALTIME_BUFR/2020/IOSS01_AMMC_20201120205500_XEKXW9W.csv\n"
     ]
    },
    {
     "name": "stderr",
     "output_type": "stream",
     "text": [
      "/usr/local/lib/python3.9/site-packages/aodndata/soop/soop_xbt_nrt.py:190: FutureWarning: The error_bad_lines argument has been deprecated and will be removed in a future version. Use on_bad_lines in the future.\n",
      "\n",
      "\n",
      "  df = pd.read_csv(csv_path, header=None, engine=\"python\", error_bad_lines=False)\n"
     ]
    },
    {
     "name": "stdout",
     "output_type": "stream",
     "text": [
      "Processing file s3://imos-data-lab-raw/IMOS/SOOP/SOOP-XBT/REALTIME_BUFR/2020/IOSS01_AMMC_20201120231700_XEKXW9W.csv\n",
      "Processing file s3://imos-data-lab-raw/IMOS/SOOP/SOOP-XBT/REALTIME_BUFR/2020/IOSS01_AMMC_20201120231700_XEKXW9W.csv\n"
     ]
    },
    {
     "name": "stderr",
     "output_type": "stream",
     "text": [
      "/usr/local/lib/python3.9/site-packages/aodndata/soop/soop_xbt_nrt.py:190: FutureWarning: The error_bad_lines argument has been deprecated and will be removed in a future version. Use on_bad_lines in the future.\n",
      "\n",
      "\n",
      "  df = pd.read_csv(csv_path, header=None, engine=\"python\", error_bad_lines=False)\n"
     ]
    },
    {
     "name": "stdout",
     "output_type": "stream",
     "text": [
      "Processing file s3://imos-data-lab-raw/IMOS/SOOP/SOOP-XBT/REALTIME_BUFR/2020/IOSS01_AMMC_20201121010500_XEKXW9W.csv\n",
      "Processing file s3://imos-data-lab-raw/IMOS/SOOP/SOOP-XBT/REALTIME_BUFR/2020/IOSS01_AMMC_20201121010500_XEKXW9W.csv\n"
     ]
    },
    {
     "name": "stderr",
     "output_type": "stream",
     "text": [
      "/usr/local/lib/python3.9/site-packages/aodndata/soop/soop_xbt_nrt.py:190: FutureWarning: The error_bad_lines argument has been deprecated and will be removed in a future version. Use on_bad_lines in the future.\n",
      "\n",
      "\n",
      "  df = pd.read_csv(csv_path, header=None, engine=\"python\", error_bad_lines=False)\n"
     ]
    },
    {
     "name": "stdout",
     "output_type": "stream",
     "text": [
      "Processing file s3://imos-data-lab-raw/IMOS/SOOP/SOOP-XBT/REALTIME_BUFR/2020/IOSS01_AMMC_20201121031800_XEKXW9W.csv\n",
      "Processing file s3://imos-data-lab-raw/IMOS/SOOP/SOOP-XBT/REALTIME_BUFR/2020/IOSS01_AMMC_20201121031800_XEKXW9W.csv\n"
     ]
    },
    {
     "name": "stderr",
     "output_type": "stream",
     "text": [
      "/usr/local/lib/python3.9/site-packages/aodndata/soop/soop_xbt_nrt.py:190: FutureWarning: The error_bad_lines argument has been deprecated and will be removed in a future version. Use on_bad_lines in the future.\n",
      "\n",
      "\n",
      "  df = pd.read_csv(csv_path, header=None, engine=\"python\", error_bad_lines=False)\n"
     ]
    },
    {
     "name": "stdout",
     "output_type": "stream",
     "text": [
      "Processing file s3://imos-data-lab-raw/IMOS/SOOP/SOOP-XBT/REALTIME_BUFR/2020/IOSS01_AMMC_20201121032200_XEKXW9W.csv\n",
      "Processing file s3://imos-data-lab-raw/IMOS/SOOP/SOOP-XBT/REALTIME_BUFR/2020/IOSS01_AMMC_20201121032200_XEKXW9W.csv\n"
     ]
    },
    {
     "name": "stderr",
     "output_type": "stream",
     "text": [
      "/usr/local/lib/python3.9/site-packages/aodndata/soop/soop_xbt_nrt.py:190: FutureWarning: The error_bad_lines argument has been deprecated and will be removed in a future version. Use on_bad_lines in the future.\n",
      "\n",
      "\n",
      "  df = pd.read_csv(csv_path, header=None, engine=\"python\", error_bad_lines=False)\n"
     ]
    },
    {
     "name": "stdout",
     "output_type": "stream",
     "text": [
      "Processing file s3://imos-data-lab-raw/IMOS/SOOP/SOOP-XBT/REALTIME_BUFR/2020/IOSS01_AMMC_20201121050300_XEKXW9W.csv\n",
      "Processing file s3://imos-data-lab-raw/IMOS/SOOP/SOOP-XBT/REALTIME_BUFR/2020/IOSS01_AMMC_20201121050300_XEKXW9W.csv\n"
     ]
    },
    {
     "name": "stderr",
     "output_type": "stream",
     "text": [
      "/usr/local/lib/python3.9/site-packages/aodndata/soop/soop_xbt_nrt.py:190: FutureWarning: The error_bad_lines argument has been deprecated and will be removed in a future version. Use on_bad_lines in the future.\n",
      "\n",
      "\n",
      "  df = pd.read_csv(csv_path, header=None, engine=\"python\", error_bad_lines=False)\n"
     ]
    },
    {
     "name": "stdout",
     "output_type": "stream",
     "text": [
      "Processing file s3://imos-data-lab-raw/IMOS/SOOP/SOOP-XBT/REALTIME_BUFR/2020/IOSS01_AMMC_20201121070200_XEKXW9W.csv\n",
      "Processing file s3://imos-data-lab-raw/IMOS/SOOP/SOOP-XBT/REALTIME_BUFR/2020/IOSS01_AMMC_20201121070200_XEKXW9W.csv\n"
     ]
    },
    {
     "name": "stderr",
     "output_type": "stream",
     "text": [
      "/usr/local/lib/python3.9/site-packages/aodndata/soop/soop_xbt_nrt.py:190: FutureWarning: The error_bad_lines argument has been deprecated and will be removed in a future version. Use on_bad_lines in the future.\n",
      "\n",
      "\n",
      "  df = pd.read_csv(csv_path, header=None, engine=\"python\", error_bad_lines=False)\n"
     ]
    },
    {
     "name": "stdout",
     "output_type": "stream",
     "text": [
      "Processing file s3://imos-data-lab-raw/IMOS/SOOP/SOOP-XBT/REALTIME_BUFR/2020/IOSS01_AMMC_20201121090100_XEKXW9W.csv\n",
      "Processing file s3://imos-data-lab-raw/IMOS/SOOP/SOOP-XBT/REALTIME_BUFR/2020/IOSS01_AMMC_20201121090100_XEKXW9W.csv\n"
     ]
    },
    {
     "name": "stderr",
     "output_type": "stream",
     "text": [
      "/usr/local/lib/python3.9/site-packages/aodndata/soop/soop_xbt_nrt.py:190: FutureWarning: The error_bad_lines argument has been deprecated and will be removed in a future version. Use on_bad_lines in the future.\n",
      "\n",
      "\n",
      "  df = pd.read_csv(csv_path, header=None, engine=\"python\", error_bad_lines=False)\n"
     ]
    },
    {
     "name": "stdout",
     "output_type": "stream",
     "text": [
      "Processing file s3://imos-data-lab-raw/IMOS/SOOP/SOOP-XBT/REALTIME_BUFR/2020/IOSS01_AMMC_20201121110300_XEKXW9W.csv\n",
      "Processing file s3://imos-data-lab-raw/IMOS/SOOP/SOOP-XBT/REALTIME_BUFR/2020/IOSS01_AMMC_20201121110300_XEKXW9W.csv\n"
     ]
    },
    {
     "name": "stderr",
     "output_type": "stream",
     "text": [
      "/usr/local/lib/python3.9/site-packages/aodndata/soop/soop_xbt_nrt.py:190: FutureWarning: The error_bad_lines argument has been deprecated and will be removed in a future version. Use on_bad_lines in the future.\n",
      "\n",
      "\n",
      "  df = pd.read_csv(csv_path, header=None, engine=\"python\", error_bad_lines=False)\n"
     ]
    },
    {
     "name": "stdout",
     "output_type": "stream",
     "text": [
      "Processing file s3://imos-data-lab-raw/IMOS/SOOP/SOOP-XBT/REALTIME_BUFR/2020/IOSS01_AMMC_20201121111300_XEKXW9W.csv\n",
      "Processing file s3://imos-data-lab-raw/IMOS/SOOP/SOOP-XBT/REALTIME_BUFR/2020/IOSS01_AMMC_20201121111300_XEKXW9W.csv\n"
     ]
    },
    {
     "name": "stderr",
     "output_type": "stream",
     "text": [
      "/usr/local/lib/python3.9/site-packages/aodndata/soop/soop_xbt_nrt.py:190: FutureWarning: The error_bad_lines argument has been deprecated and will be removed in a future version. Use on_bad_lines in the future.\n",
      "\n",
      "\n",
      "  df = pd.read_csv(csv_path, header=None, engine=\"python\", error_bad_lines=False)\n"
     ]
    },
    {
     "name": "stdout",
     "output_type": "stream",
     "text": [
      "Processing file s3://imos-data-lab-raw/IMOS/SOOP/SOOP-XBT/REALTIME_BUFR/2020/IOSS01_AMMC_20201121130400_XEKXW9W.csv\n",
      "Processing file s3://imos-data-lab-raw/IMOS/SOOP/SOOP-XBT/REALTIME_BUFR/2020/IOSS01_AMMC_20201121130400_XEKXW9W.csv\n"
     ]
    },
    {
     "name": "stderr",
     "output_type": "stream",
     "text": [
      "/usr/local/lib/python3.9/site-packages/aodndata/soop/soop_xbt_nrt.py:190: FutureWarning: The error_bad_lines argument has been deprecated and will be removed in a future version. Use on_bad_lines in the future.\n",
      "\n",
      "\n",
      "  df = pd.read_csv(csv_path, header=None, engine=\"python\", error_bad_lines=False)\n"
     ]
    },
    {
     "name": "stdout",
     "output_type": "stream",
     "text": [
      "Processing file s3://imos-data-lab-raw/IMOS/SOOP/SOOP-XBT/REALTIME_BUFR/2020/IOSS01_AMMC_20201121144700_XEKXW9W.csv\n",
      "Processing file s3://imos-data-lab-raw/IMOS/SOOP/SOOP-XBT/REALTIME_BUFR/2020/IOSS01_AMMC_20201121144700_XEKXW9W.csv\n"
     ]
    },
    {
     "name": "stderr",
     "output_type": "stream",
     "text": [
      "/usr/local/lib/python3.9/site-packages/aodndata/soop/soop_xbt_nrt.py:190: FutureWarning: The error_bad_lines argument has been deprecated and will be removed in a future version. Use on_bad_lines in the future.\n",
      "\n",
      "\n",
      "  df = pd.read_csv(csv_path, header=None, engine=\"python\", error_bad_lines=False)\n"
     ]
    },
    {
     "name": "stdout",
     "output_type": "stream",
     "text": [
      "Processing file s3://imos-data-lab-raw/IMOS/SOOP/SOOP-XBT/REALTIME_BUFR/2020/IOSS01_AMMC_20201121181600_XEKXW9W.csv\n",
      "Processing file s3://imos-data-lab-raw/IMOS/SOOP/SOOP-XBT/REALTIME_BUFR/2020/IOSS01_AMMC_20201121181600_XEKXW9W.csv\n"
     ]
    },
    {
     "name": "stderr",
     "output_type": "stream",
     "text": [
      "/usr/local/lib/python3.9/site-packages/aodndata/soop/soop_xbt_nrt.py:190: FutureWarning: The error_bad_lines argument has been deprecated and will be removed in a future version. Use on_bad_lines in the future.\n",
      "\n",
      "\n",
      "  df = pd.read_csv(csv_path, header=None, engine=\"python\", error_bad_lines=False)\n"
     ]
    },
    {
     "name": "stdout",
     "output_type": "stream",
     "text": [
      "Processing file s3://imos-data-lab-raw/IMOS/SOOP/SOOP-XBT/REALTIME_BUFR/2020/IOSS01_AMMC_20201121214800_XEKXW9W.csv\n",
      "Processing file s3://imos-data-lab-raw/IMOS/SOOP/SOOP-XBT/REALTIME_BUFR/2020/IOSS01_AMMC_20201121214800_XEKXW9W.csv\n"
     ]
    },
    {
     "name": "stderr",
     "output_type": "stream",
     "text": [
      "/usr/local/lib/python3.9/site-packages/aodndata/soop/soop_xbt_nrt.py:190: FutureWarning: The error_bad_lines argument has been deprecated and will be removed in a future version. Use on_bad_lines in the future.\n",
      "\n",
      "\n",
      "  df = pd.read_csv(csv_path, header=None, engine=\"python\", error_bad_lines=False)\n"
     ]
    },
    {
     "name": "stdout",
     "output_type": "stream",
     "text": [
      "Processing file s3://imos-data-lab-raw/IMOS/SOOP/SOOP-XBT/REALTIME_BUFR/2020/IOSS01_AMMC_20201121230000_XEKXW9W.csv\n",
      "Processing file s3://imos-data-lab-raw/IMOS/SOOP/SOOP-XBT/REALTIME_BUFR/2020/IOSS01_AMMC_20201121230000_XEKXW9W.csv\n"
     ]
    },
    {
     "name": "stderr",
     "output_type": "stream",
     "text": [
      "/usr/local/lib/python3.9/site-packages/aodndata/soop/soop_xbt_nrt.py:190: FutureWarning: The error_bad_lines argument has been deprecated and will be removed in a future version. Use on_bad_lines in the future.\n",
      "\n",
      "\n",
      "  df = pd.read_csv(csv_path, header=None, engine=\"python\", error_bad_lines=False)\n"
     ]
    },
    {
     "name": "stdout",
     "output_type": "stream",
     "text": [
      "Processing file s3://imos-data-lab-raw/IMOS/SOOP/SOOP-XBT/REALTIME_BUFR/2020/IOSS01_AMMC_20201122005800_XEKXW9W.csv\n",
      "Processing file s3://imos-data-lab-raw/IMOS/SOOP/SOOP-XBT/REALTIME_BUFR/2020/IOSS01_AMMC_20201122005800_XEKXW9W.csv\n"
     ]
    },
    {
     "name": "stderr",
     "output_type": "stream",
     "text": [
      "/usr/local/lib/python3.9/site-packages/aodndata/soop/soop_xbt_nrt.py:190: FutureWarning: The error_bad_lines argument has been deprecated and will be removed in a future version. Use on_bad_lines in the future.\n",
      "\n",
      "\n",
      "  df = pd.read_csv(csv_path, header=None, engine=\"python\", error_bad_lines=False)\n"
     ]
    },
    {
     "name": "stdout",
     "output_type": "stream",
     "text": [
      "Processing file s3://imos-data-lab-raw/IMOS/SOOP/SOOP-XBT/REALTIME_BUFR/2020/IOSS01_AMMC_20201122030100_XEKXW9W.csv\n",
      "Processing file s3://imos-data-lab-raw/IMOS/SOOP/SOOP-XBT/REALTIME_BUFR/2020/IOSS01_AMMC_20201122030100_XEKXW9W.csv\n"
     ]
    },
    {
     "name": "stderr",
     "output_type": "stream",
     "text": [
      "/usr/local/lib/python3.9/site-packages/aodndata/soop/soop_xbt_nrt.py:190: FutureWarning: The error_bad_lines argument has been deprecated and will be removed in a future version. Use on_bad_lines in the future.\n",
      "\n",
      "\n",
      "  df = pd.read_csv(csv_path, header=None, engine=\"python\", error_bad_lines=False)\n"
     ]
    },
    {
     "name": "stdout",
     "output_type": "stream",
     "text": [
      "Processing file s3://imos-data-lab-raw/IMOS/SOOP/SOOP-XBT/REALTIME_BUFR/2020/IOSS01_AMMC_20201122050700_XEKXW9W.csv\n",
      "Processing file s3://imos-data-lab-raw/IMOS/SOOP/SOOP-XBT/REALTIME_BUFR/2020/IOSS01_AMMC_20201122050700_XEKXW9W.csv\n"
     ]
    },
    {
     "name": "stderr",
     "output_type": "stream",
     "text": [
      "/usr/local/lib/python3.9/site-packages/aodndata/soop/soop_xbt_nrt.py:190: FutureWarning: The error_bad_lines argument has been deprecated and will be removed in a future version. Use on_bad_lines in the future.\n",
      "\n",
      "\n",
      "  df = pd.read_csv(csv_path, header=None, engine=\"python\", error_bad_lines=False)\n"
     ]
    },
    {
     "name": "stdout",
     "output_type": "stream",
     "text": [
      "Processing file s3://imos-data-lab-raw/IMOS/SOOP/SOOP-XBT/REALTIME_BUFR/2020/IOSS01_AMMC_20201122085900_XEKXW9W.csv\n",
      "Processing file s3://imos-data-lab-raw/IMOS/SOOP/SOOP-XBT/REALTIME_BUFR/2020/IOSS01_AMMC_20201122085900_XEKXW9W.csv\n"
     ]
    },
    {
     "name": "stderr",
     "output_type": "stream",
     "text": [
      "/usr/local/lib/python3.9/site-packages/aodndata/soop/soop_xbt_nrt.py:190: FutureWarning: The error_bad_lines argument has been deprecated and will be removed in a future version. Use on_bad_lines in the future.\n",
      "\n",
      "\n",
      "  df = pd.read_csv(csv_path, header=None, engine=\"python\", error_bad_lines=False)\n"
     ]
    },
    {
     "name": "stdout",
     "output_type": "stream",
     "text": [
      "Processing file s3://imos-data-lab-raw/IMOS/SOOP/SOOP-XBT/REALTIME_BUFR/2020/IOSS01_AMMC_20201122110200_XEKXW9W.csv\n",
      "Processing file s3://imos-data-lab-raw/IMOS/SOOP/SOOP-XBT/REALTIME_BUFR/2020/IOSS01_AMMC_20201122110200_XEKXW9W.csv\n"
     ]
    },
    {
     "name": "stderr",
     "output_type": "stream",
     "text": [
      "/usr/local/lib/python3.9/site-packages/aodndata/soop/soop_xbt_nrt.py:190: FutureWarning: The error_bad_lines argument has been deprecated and will be removed in a future version. Use on_bad_lines in the future.\n",
      "\n",
      "\n",
      "  df = pd.read_csv(csv_path, header=None, engine=\"python\", error_bad_lines=False)\n"
     ]
    },
    {
     "name": "stdout",
     "output_type": "stream",
     "text": [
      "Processing file s3://imos-data-lab-raw/IMOS/SOOP/SOOP-XBT/REALTIME_BUFR/2020/IOSS01_AMMC_20201122110700_XEKXW9W.csv\n",
      "Processing file s3://imos-data-lab-raw/IMOS/SOOP/SOOP-XBT/REALTIME_BUFR/2020/IOSS01_AMMC_20201122110700_XEKXW9W.csv\n"
     ]
    },
    {
     "name": "stderr",
     "output_type": "stream",
     "text": [
      "/usr/local/lib/python3.9/site-packages/aodndata/soop/soop_xbt_nrt.py:190: FutureWarning: The error_bad_lines argument has been deprecated and will be removed in a future version. Use on_bad_lines in the future.\n",
      "\n",
      "\n",
      "  df = pd.read_csv(csv_path, header=None, engine=\"python\", error_bad_lines=False)\n"
     ]
    },
    {
     "name": "stdout",
     "output_type": "stream",
     "text": [
      "Processing file s3://imos-data-lab-raw/IMOS/SOOP/SOOP-XBT/REALTIME_BUFR/2020/IOSS01_AMMC_20201122130000_XEKXW9W.csv\n",
      "Processing file s3://imos-data-lab-raw/IMOS/SOOP/SOOP-XBT/REALTIME_BUFR/2020/IOSS01_AMMC_20201122130000_XEKXW9W.csv\n"
     ]
    },
    {
     "name": "stderr",
     "output_type": "stream",
     "text": [
      "/usr/local/lib/python3.9/site-packages/aodndata/soop/soop_xbt_nrt.py:190: FutureWarning: The error_bad_lines argument has been deprecated and will be removed in a future version. Use on_bad_lines in the future.\n",
      "\n",
      "\n",
      "  df = pd.read_csv(csv_path, header=None, engine=\"python\", error_bad_lines=False)\n"
     ]
    },
    {
     "name": "stdout",
     "output_type": "stream",
     "text": [
      "Processing file s3://imos-data-lab-raw/IMOS/SOOP/SOOP-XBT/REALTIME_BUFR/2020/IOSS01_AMMC_20201122130600_XEKXW9W.csv\n",
      "Processing file s3://imos-data-lab-raw/IMOS/SOOP/SOOP-XBT/REALTIME_BUFR/2020/IOSS01_AMMC_20201122130600_XEKXW9W.csv\n"
     ]
    },
    {
     "name": "stderr",
     "output_type": "stream",
     "text": [
      "/usr/local/lib/python3.9/site-packages/aodndata/soop/soop_xbt_nrt.py:190: FutureWarning: The error_bad_lines argument has been deprecated and will be removed in a future version. Use on_bad_lines in the future.\n",
      "\n",
      "\n",
      "  df = pd.read_csv(csv_path, header=None, engine=\"python\", error_bad_lines=False)\n"
     ]
    },
    {
     "name": "stdout",
     "output_type": "stream",
     "text": [
      "Processing file s3://imos-data-lab-raw/IMOS/SOOP/SOOP-XBT/REALTIME_BUFR/2020/IOSS01_AMMC_20201122144700_XEKXW9W.csv\n",
      "Processing file s3://imos-data-lab-raw/IMOS/SOOP/SOOP-XBT/REALTIME_BUFR/2020/IOSS01_AMMC_20201122144700_XEKXW9W.csv\n"
     ]
    },
    {
     "name": "stderr",
     "output_type": "stream",
     "text": [
      "/usr/local/lib/python3.9/site-packages/aodndata/soop/soop_xbt_nrt.py:190: FutureWarning: The error_bad_lines argument has been deprecated and will be removed in a future version. Use on_bad_lines in the future.\n",
      "\n",
      "\n",
      "  df = pd.read_csv(csv_path, header=None, engine=\"python\", error_bad_lines=False)\n"
     ]
    },
    {
     "name": "stdout",
     "output_type": "stream",
     "text": [
      "Processing file s3://imos-data-lab-raw/IMOS/SOOP/SOOP-XBT/REALTIME_BUFR/2020/IOSS01_AMMC_20201122170400_XEKXW9W.csv\n",
      "Processing file s3://imos-data-lab-raw/IMOS/SOOP/SOOP-XBT/REALTIME_BUFR/2020/IOSS01_AMMC_20201122170400_XEKXW9W.csv\n"
     ]
    },
    {
     "name": "stderr",
     "output_type": "stream",
     "text": [
      "/usr/local/lib/python3.9/site-packages/aodndata/soop/soop_xbt_nrt.py:190: FutureWarning: The error_bad_lines argument has been deprecated and will be removed in a future version. Use on_bad_lines in the future.\n",
      "\n",
      "\n",
      "  df = pd.read_csv(csv_path, header=None, engine=\"python\", error_bad_lines=False)\n"
     ]
    },
    {
     "ename": "PermissionError",
     "evalue": "The provided token has expired.",
     "output_type": "error",
     "traceback": [
      "\u001b[0;31m---------------------------------------------------------------------------\u001b[0m",
      "\u001b[0;31mClientError\u001b[0m                               Traceback (most recent call last)",
      "File \u001b[0;32m/usr/local/lib/python3.9/site-packages/s3fs/core.py:110\u001b[0m, in \u001b[0;36m_error_wrapper\u001b[0;34m(func, args, kwargs, retries)\u001b[0m\n\u001b[1;32m    109\u001b[0m \u001b[39mtry\u001b[39;00m:\n\u001b[0;32m--> 110\u001b[0m     \u001b[39mreturn\u001b[39;00m \u001b[39mawait\u001b[39;00m func(\u001b[39m*\u001b[39margs, \u001b[39m*\u001b[39m\u001b[39m*\u001b[39mkwargs)\n\u001b[1;32m    111\u001b[0m \u001b[39mexcept\u001b[39;00m S3_RETRYABLE_ERRORS \u001b[39mas\u001b[39;00m e:\n",
      "File \u001b[0;32m/usr/local/lib/python3.9/site-packages/aiobotocore/client.py:265\u001b[0m, in \u001b[0;36mAioBaseClient._make_api_call\u001b[0;34m(self, operation_name, api_params)\u001b[0m\n\u001b[1;32m    264\u001b[0m     error_class \u001b[39m=\u001b[39m \u001b[39mself\u001b[39m\u001b[39m.\u001b[39mexceptions\u001b[39m.\u001b[39mfrom_code(error_code)\n\u001b[0;32m--> 265\u001b[0m     \u001b[39mraise\u001b[39;00m error_class(parsed_response, operation_name)\n\u001b[1;32m    266\u001b[0m \u001b[39melse\u001b[39;00m:\n",
      "\u001b[0;31mClientError\u001b[0m: An error occurred (ExpiredToken) when calling the GetObject operation: The provided token has expired.",
      "\nThe above exception was the direct cause of the following exception:\n",
      "\u001b[0;31mPermissionError\u001b[0m                           Traceback (most recent call last)",
      "\u001b[1;32m/Users/alex/git/aodn/xbt-dockerfile/csv_to_elasticsearch.ipynb Cell 5\u001b[0m in \u001b[0;36m<cell line: 12>\u001b[0;34m()\u001b[0m\n\u001b[1;32m     <a href='vscode-notebook-cell:/Users/alex/git/aodn/xbt-dockerfile/csv_to_elasticsearch.ipynb#X14sZmlsZQ%3D%3D?line=11'>12</a>\u001b[0m \u001b[39mfor\u001b[39;00m file \u001b[39min\u001b[39;00m files:\n\u001b[1;32m     <a href='vscode-notebook-cell:/Users/alex/git/aodn/xbt-dockerfile/csv_to_elasticsearch.ipynb#X14sZmlsZQ%3D%3D?line=12'>13</a>\u001b[0m     \u001b[39mprint\u001b[39m(\u001b[39mf\u001b[39m\u001b[39m\"\u001b[39m\u001b[39mProcessing file \u001b[39m\u001b[39m{\u001b[39;00mfile\u001b[39m}\u001b[39;00m\u001b[39m\"\u001b[39m)\n\u001b[0;32m---> <a href='vscode-notebook-cell:/Users/alex/git/aodn/xbt-dockerfile/csv_to_elasticsearch.ipynb#X14sZmlsZQ%3D%3D?line=13'>14</a>\u001b[0m     bulk(client, process_file(file))\n",
      "File \u001b[0;32m/usr/local/lib/python3.9/site-packages/elasticsearch/helpers/actions.py:410\u001b[0m, in \u001b[0;36mbulk\u001b[0;34m(client, actions, stats_only, ignore_status, *args, **kwargs)\u001b[0m\n\u001b[1;32m    408\u001b[0m \u001b[39m# make streaming_bulk yield successful results so we can count them\u001b[39;00m\n\u001b[1;32m    409\u001b[0m kwargs[\u001b[39m\"\u001b[39m\u001b[39myield_ok\u001b[39m\u001b[39m\"\u001b[39m] \u001b[39m=\u001b[39m \u001b[39mTrue\u001b[39;00m\n\u001b[0;32m--> 410\u001b[0m \u001b[39mfor\u001b[39;00m ok, item \u001b[39min\u001b[39;00m streaming_bulk(\n\u001b[1;32m    411\u001b[0m     client, actions, ignore_status\u001b[39m=\u001b[39mignore_status, \u001b[39m*\u001b[39margs, \u001b[39m*\u001b[39m\u001b[39m*\u001b[39mkwargs\n\u001b[1;32m    412\u001b[0m ):\n\u001b[1;32m    413\u001b[0m     \u001b[39m# go through request-response pairs and detect failures\u001b[39;00m\n\u001b[1;32m    414\u001b[0m     \u001b[39mif\u001b[39;00m \u001b[39mnot\u001b[39;00m ok:\n\u001b[1;32m    415\u001b[0m         \u001b[39mif\u001b[39;00m \u001b[39mnot\u001b[39;00m stats_only:\n",
      "File \u001b[0;32m/usr/local/lib/python3.9/site-packages/elasticsearch/helpers/actions.py:319\u001b[0m, in \u001b[0;36mstreaming_bulk\u001b[0;34m(client, actions, chunk_size, max_chunk_bytes, raise_on_error, expand_action_callback, raise_on_exception, max_retries, initial_backoff, max_backoff, yield_ok, ignore_status, *args, **kwargs)\u001b[0m\n\u001b[1;32m    284\u001b[0m \u001b[39m\"\"\"\u001b[39;00m\n\u001b[1;32m    285\u001b[0m \u001b[39mStreaming bulk consumes actions from the iterable passed in and yields\u001b[39;00m\n\u001b[1;32m    286\u001b[0m \u001b[39mresults per action. For non-streaming usecases use\u001b[39;00m\n\u001b[0;32m   (...)\u001b[0m\n\u001b[1;32m    315\u001b[0m \u001b[39m:arg ignore_status: list of HTTP status code that you want to ignore\u001b[39;00m\n\u001b[1;32m    316\u001b[0m \u001b[39m\"\"\"\u001b[39;00m\n\u001b[1;32m    317\u001b[0m actions \u001b[39m=\u001b[39m \u001b[39mmap\u001b[39m(expand_action_callback, actions)\n\u001b[0;32m--> 319\u001b[0m \u001b[39mfor\u001b[39;00m bulk_data, bulk_actions \u001b[39min\u001b[39;00m _chunk_actions(\n\u001b[1;32m    320\u001b[0m     actions, chunk_size, max_chunk_bytes, client\u001b[39m.\u001b[39mtransport\u001b[39m.\u001b[39mserializer\n\u001b[1;32m    321\u001b[0m ):\n\u001b[1;32m    323\u001b[0m     \u001b[39mfor\u001b[39;00m attempt \u001b[39min\u001b[39;00m \u001b[39mrange\u001b[39m(max_retries \u001b[39m+\u001b[39m \u001b[39m1\u001b[39m):\n\u001b[1;32m    324\u001b[0m         to_retry, to_retry_data \u001b[39m=\u001b[39m [], []\n",
      "File \u001b[0;32m/usr/local/lib/python3.9/site-packages/elasticsearch/helpers/actions.py:155\u001b[0m, in \u001b[0;36m_chunk_actions\u001b[0;34m(actions, chunk_size, max_chunk_bytes, serializer)\u001b[0m\n\u001b[1;32m    148\u001b[0m \u001b[39m\"\"\"\u001b[39;00m\n\u001b[1;32m    149\u001b[0m \u001b[39mSplit actions into chunks by number or size, serialize them into strings in\u001b[39;00m\n\u001b[1;32m    150\u001b[0m \u001b[39mthe process.\u001b[39;00m\n\u001b[1;32m    151\u001b[0m \u001b[39m\"\"\"\u001b[39;00m\n\u001b[1;32m    152\u001b[0m chunker \u001b[39m=\u001b[39m _ActionChunker(\n\u001b[1;32m    153\u001b[0m     chunk_size\u001b[39m=\u001b[39mchunk_size, max_chunk_bytes\u001b[39m=\u001b[39mmax_chunk_bytes, serializer\u001b[39m=\u001b[39mserializer\n\u001b[1;32m    154\u001b[0m )\n\u001b[0;32m--> 155\u001b[0m \u001b[39mfor\u001b[39;00m action, data \u001b[39min\u001b[39;00m actions:\n\u001b[1;32m    156\u001b[0m     ret \u001b[39m=\u001b[39m chunker\u001b[39m.\u001b[39mfeed(action, data)\n\u001b[1;32m    157\u001b[0m     \u001b[39mif\u001b[39;00m ret:\n",
      "\u001b[1;32m/Users/alex/git/aodn/xbt-dockerfile/csv_to_elasticsearch.ipynb Cell 5\u001b[0m in \u001b[0;36mprocess_file\u001b[0;34m(file, test)\u001b[0m\n\u001b[1;32m      <a href='vscode-notebook-cell:/Users/alex/git/aodn/xbt-dockerfile/csv_to_elasticsearch.ipynb#X14sZmlsZQ%3D%3D?line=0'>1</a>\u001b[0m \u001b[39mdef\u001b[39;00m \u001b[39mprocess_file\u001b[39m(file, test\u001b[39m=\u001b[39m\u001b[39mFalse\u001b[39;00m):\n\u001b[1;32m      <a href='vscode-notebook-cell:/Users/alex/git/aodn/xbt-dockerfile/csv_to_elasticsearch.ipynb#X14sZmlsZQ%3D%3D?line=1'>2</a>\u001b[0m     \u001b[39mprint\u001b[39m(\u001b[39mf\u001b[39m\u001b[39m\"\u001b[39m\u001b[39mProcessing file \u001b[39m\u001b[39m{\u001b[39;00mfile\u001b[39m}\u001b[39;00m\u001b[39m\"\u001b[39m)\n\u001b[0;32m----> <a href='vscode-notebook-cell:/Users/alex/git/aodn/xbt-dockerfile/csv_to_elasticsearch.ipynb#X14sZmlsZQ%3D%3D?line=2'>3</a>\u001b[0m     profiles \u001b[39m=\u001b[39m parse_bufr_file(file)\n\u001b[1;32m      <a href='vscode-notebook-cell:/Users/alex/git/aodn/xbt-dockerfile/csv_to_elasticsearch.ipynb#X14sZmlsZQ%3D%3D?line=4'>5</a>\u001b[0m     \u001b[39mfor\u001b[39;00m profile \u001b[39min\u001b[39;00m profiles:\n\u001b[1;32m      <a href='vscode-notebook-cell:/Users/alex/git/aodn/xbt-dockerfile/csv_to_elasticsearch.ipynb#X14sZmlsZQ%3D%3D?line=5'>6</a>\u001b[0m         metadata \u001b[39m=\u001b[39m {\n\u001b[1;32m      <a href='vscode-notebook-cell:/Users/alex/git/aodn/xbt-dockerfile/csv_to_elasticsearch.ipynb#X14sZmlsZQ%3D%3D?line=6'>7</a>\u001b[0m             \u001b[39m\"\u001b[39m\u001b[39mprofile_geotime\u001b[39m\u001b[39m\"\u001b[39m: profile[\u001b[39m\"\u001b[39m\u001b[39mprofile_geotime\u001b[39m\u001b[39m\"\u001b[39m],\n\u001b[1;32m      <a href='vscode-notebook-cell:/Users/alex/git/aodn/xbt-dockerfile/csv_to_elasticsearch.ipynb#X14sZmlsZQ%3D%3D?line=7'>8</a>\u001b[0m             \u001b[39m\"\u001b[39m\u001b[39mprofile_metadata\u001b[39m\u001b[39m\"\u001b[39m: profile[\u001b[39m\"\u001b[39m\u001b[39mprofile_metadata\u001b[39m\u001b[39m\"\u001b[39m],\n\u001b[1;32m      <a href='vscode-notebook-cell:/Users/alex/git/aodn/xbt-dockerfile/csv_to_elasticsearch.ipynb#X14sZmlsZQ%3D%3D?line=8'>9</a>\u001b[0m         }\n",
      "File \u001b[0;32m/usr/local/lib/python3.9/site-packages/aodndata/soop/soop_xbt_nrt.py:202\u001b[0m, in \u001b[0;36mparse_bufr_file\u001b[0;34m(csv_path)\u001b[0m\n\u001b[1;32m    195\u001b[0m \u001b[39mdef\u001b[39;00m \u001b[39mparse_bufr_file\u001b[39m(csv_path):\n\u001b[1;32m    196\u001b[0m     \u001b[39m\"\"\"\u001b[39;00m\n\u001b[1;32m    197\u001b[0m \u001b[39m    Parse a BUFR file containing 1 or more profiles\u001b[39;00m\n\u001b[1;32m    198\u001b[0m \u001b[39m    :param csv_path: input BUFR file in csv format\u001b[39;00m\n\u001b[1;32m    199\u001b[0m \u001b[39m    :return: data array (each array value is a different profile) containing various dictionaries\u001b[39;00m\n\u001b[1;32m    200\u001b[0m \u001b[39m             keys: 'profile_data', 'profile_geotime', 'profile_metadata'\u001b[39;00m\n\u001b[1;32m    201\u001b[0m \u001b[39m    \"\"\"\u001b[39;00m\n\u001b[0;32m--> 202\u001b[0m     df \u001b[39m=\u001b[39m _bufr_to_pd(csv_path)\n\u001b[1;32m    204\u001b[0m     \u001b[39m# find all profiles in BUFR file\u001b[39;00m\n\u001b[1;32m    205\u001b[0m     idx_profs \u001b[39m=\u001b[39m (\n\u001b[1;32m    206\u001b[0m         df[\u001b[39m\"\u001b[39m\u001b[39mrow\u001b[39m\u001b[39m\"\u001b[39m]\n\u001b[1;32m    207\u001b[0m         \u001b[39m.\u001b[39mloc[df[\u001b[39m\"\u001b[39m\u001b[39mid\u001b[39m\u001b[39m\"\u001b[39m] \u001b[39m==\u001b[39m BUFR_VAR[\u001b[39m\"\u001b[39m\u001b[39mmetadata\u001b[39m\u001b[39m\"\u001b[39m][\u001b[39m\"\u001b[39m\u001b[39mXBT_uniqueid\u001b[39m\u001b[39m\"\u001b[39m]]\n\u001b[1;32m    208\u001b[0m         \u001b[39m.\u001b[39mindex\u001b[39m.\u001b[39mvalues\u001b[39m.\u001b[39mastype(\u001b[39mint\u001b[39m)\n\u001b[1;32m    209\u001b[0m     )\n",
      "File \u001b[0;32m/usr/local/lib/python3.9/site-packages/aodndata/soop/soop_xbt_nrt.py:190\u001b[0m, in \u001b[0;36m_bufr_to_pd\u001b[0;34m(csv_path)\u001b[0m\n\u001b[1;32m    184\u001b[0m \u001b[39mdef\u001b[39;00m \u001b[39m_bufr_to_pd\u001b[39m(csv_path):\n\u001b[1;32m    185\u001b[0m     \u001b[39m\"\"\"\u001b[39;00m\n\u001b[1;32m    186\u001b[0m \u001b[39m    read a BUFR CSV file and store into a panda dataframe\u001b[39;00m\n\u001b[1;32m    187\u001b[0m \u001b[39m    :param csv_path:\u001b[39;00m\n\u001b[1;32m    188\u001b[0m \u001b[39m    :return: pandas dataframe\u001b[39;00m\n\u001b[1;32m    189\u001b[0m \u001b[39m    \"\"\"\u001b[39;00m\n\u001b[0;32m--> 190\u001b[0m     df \u001b[39m=\u001b[39m pd\u001b[39m.\u001b[39;49mread_csv(csv_path, header\u001b[39m=\u001b[39;49m\u001b[39mNone\u001b[39;49;00m, engine\u001b[39m=\u001b[39;49m\u001b[39m\"\u001b[39;49m\u001b[39mpython\u001b[39;49m\u001b[39m\"\u001b[39;49m, error_bad_lines\u001b[39m=\u001b[39;49m\u001b[39mFalse\u001b[39;49;00m)\n\u001b[1;32m    191\u001b[0m     df\u001b[39m.\u001b[39mcolumns \u001b[39m=\u001b[39m [\u001b[39m\"\u001b[39m\u001b[39mrow\u001b[39m\u001b[39m\"\u001b[39m, \u001b[39m\"\u001b[39m\u001b[39mid\u001b[39m\u001b[39m\"\u001b[39m, \u001b[39m\"\u001b[39m\u001b[39mid_name\u001b[39m\u001b[39m\"\u001b[39m, \u001b[39m\"\u001b[39m\u001b[39mid_value\u001b[39m\u001b[39m\"\u001b[39m]\n\u001b[1;32m    192\u001b[0m     \u001b[39mreturn\u001b[39;00m df\n",
      "File \u001b[0;32m/usr/local/lib/python3.9/site-packages/pandas/util/_decorators.py:311\u001b[0m, in \u001b[0;36mdeprecate_nonkeyword_arguments.<locals>.decorate.<locals>.wrapper\u001b[0;34m(*args, **kwargs)\u001b[0m\n\u001b[1;32m    305\u001b[0m \u001b[39mif\u001b[39;00m \u001b[39mlen\u001b[39m(args) \u001b[39m>\u001b[39m num_allow_args:\n\u001b[1;32m    306\u001b[0m     warnings\u001b[39m.\u001b[39mwarn(\n\u001b[1;32m    307\u001b[0m         msg\u001b[39m.\u001b[39mformat(arguments\u001b[39m=\u001b[39marguments),\n\u001b[1;32m    308\u001b[0m         \u001b[39mFutureWarning\u001b[39;00m,\n\u001b[1;32m    309\u001b[0m         stacklevel\u001b[39m=\u001b[39mstacklevel,\n\u001b[1;32m    310\u001b[0m     )\n\u001b[0;32m--> 311\u001b[0m \u001b[39mreturn\u001b[39;00m func(\u001b[39m*\u001b[39;49margs, \u001b[39m*\u001b[39;49m\u001b[39m*\u001b[39;49mkwargs)\n",
      "File \u001b[0;32m/usr/local/lib/python3.9/site-packages/pandas/io/parsers/readers.py:680\u001b[0m, in \u001b[0;36mread_csv\u001b[0;34m(filepath_or_buffer, sep, delimiter, header, names, index_col, usecols, squeeze, prefix, mangle_dupe_cols, dtype, engine, converters, true_values, false_values, skipinitialspace, skiprows, skipfooter, nrows, na_values, keep_default_na, na_filter, verbose, skip_blank_lines, parse_dates, infer_datetime_format, keep_date_col, date_parser, dayfirst, cache_dates, iterator, chunksize, compression, thousands, decimal, lineterminator, quotechar, quoting, doublequote, escapechar, comment, encoding, encoding_errors, dialect, error_bad_lines, warn_bad_lines, on_bad_lines, delim_whitespace, low_memory, memory_map, float_precision, storage_options)\u001b[0m\n\u001b[1;32m    665\u001b[0m kwds_defaults \u001b[39m=\u001b[39m _refine_defaults_read(\n\u001b[1;32m    666\u001b[0m     dialect,\n\u001b[1;32m    667\u001b[0m     delimiter,\n\u001b[0;32m   (...)\u001b[0m\n\u001b[1;32m    676\u001b[0m     defaults\u001b[39m=\u001b[39m{\u001b[39m\"\u001b[39m\u001b[39mdelimiter\u001b[39m\u001b[39m\"\u001b[39m: \u001b[39m\"\u001b[39m\u001b[39m,\u001b[39m\u001b[39m\"\u001b[39m},\n\u001b[1;32m    677\u001b[0m )\n\u001b[1;32m    678\u001b[0m kwds\u001b[39m.\u001b[39mupdate(kwds_defaults)\n\u001b[0;32m--> 680\u001b[0m \u001b[39mreturn\u001b[39;00m _read(filepath_or_buffer, kwds)\n",
      "File \u001b[0;32m/usr/local/lib/python3.9/site-packages/pandas/io/parsers/readers.py:575\u001b[0m, in \u001b[0;36m_read\u001b[0;34m(filepath_or_buffer, kwds)\u001b[0m\n\u001b[1;32m    572\u001b[0m _validate_names(kwds\u001b[39m.\u001b[39mget(\u001b[39m\"\u001b[39m\u001b[39mnames\u001b[39m\u001b[39m\"\u001b[39m, \u001b[39mNone\u001b[39;00m))\n\u001b[1;32m    574\u001b[0m \u001b[39m# Create the parser.\u001b[39;00m\n\u001b[0;32m--> 575\u001b[0m parser \u001b[39m=\u001b[39m TextFileReader(filepath_or_buffer, \u001b[39m*\u001b[39;49m\u001b[39m*\u001b[39;49mkwds)\n\u001b[1;32m    577\u001b[0m \u001b[39mif\u001b[39;00m chunksize \u001b[39mor\u001b[39;00m iterator:\n\u001b[1;32m    578\u001b[0m     \u001b[39mreturn\u001b[39;00m parser\n",
      "File \u001b[0;32m/usr/local/lib/python3.9/site-packages/pandas/io/parsers/readers.py:934\u001b[0m, in \u001b[0;36mTextFileReader.__init__\u001b[0;34m(self, f, engine, **kwds)\u001b[0m\n\u001b[1;32m    931\u001b[0m     \u001b[39mself\u001b[39m\u001b[39m.\u001b[39moptions[\u001b[39m\"\u001b[39m\u001b[39mhas_index_names\u001b[39m\u001b[39m\"\u001b[39m] \u001b[39m=\u001b[39m kwds[\u001b[39m\"\u001b[39m\u001b[39mhas_index_names\u001b[39m\u001b[39m\"\u001b[39m]\n\u001b[1;32m    933\u001b[0m \u001b[39mself\u001b[39m\u001b[39m.\u001b[39mhandles: IOHandles \u001b[39m|\u001b[39m \u001b[39mNone\u001b[39;00m \u001b[39m=\u001b[39m \u001b[39mNone\u001b[39;00m\n\u001b[0;32m--> 934\u001b[0m \u001b[39mself\u001b[39m\u001b[39m.\u001b[39m_engine \u001b[39m=\u001b[39m \u001b[39mself\u001b[39;49m\u001b[39m.\u001b[39;49m_make_engine(f, \u001b[39mself\u001b[39;49m\u001b[39m.\u001b[39;49mengine)\n",
      "File \u001b[0;32m/usr/local/lib/python3.9/site-packages/pandas/io/parsers/readers.py:1236\u001b[0m, in \u001b[0;36mTextFileReader._make_engine\u001b[0;34m(self, f, engine)\u001b[0m\n\u001b[1;32m   1233\u001b[0m     \u001b[39mraise\u001b[39;00m \u001b[39mValueError\u001b[39;00m(msg)\n\u001b[1;32m   1235\u001b[0m \u001b[39mtry\u001b[39;00m:\n\u001b[0;32m-> 1236\u001b[0m     \u001b[39mreturn\u001b[39;00m mapping[engine](f, \u001b[39m*\u001b[39;49m\u001b[39m*\u001b[39;49m\u001b[39mself\u001b[39;49m\u001b[39m.\u001b[39;49moptions)\n\u001b[1;32m   1237\u001b[0m \u001b[39mexcept\u001b[39;00m \u001b[39mException\u001b[39;00m:\n\u001b[1;32m   1238\u001b[0m     \u001b[39mif\u001b[39;00m \u001b[39mself\u001b[39m\u001b[39m.\u001b[39mhandles \u001b[39mis\u001b[39;00m \u001b[39mnot\u001b[39;00m \u001b[39mNone\u001b[39;00m:\n",
      "File \u001b[0;32m/usr/local/lib/python3.9/site-packages/pandas/io/parsers/python_parser.py:115\u001b[0m, in \u001b[0;36mPythonParser.__init__\u001b[0;34m(self, f, **kwds)\u001b[0m\n\u001b[1;32m    109\u001b[0m \u001b[39mself\u001b[39m\u001b[39m.\u001b[39m_col_indices: \u001b[39mlist\u001b[39m[\u001b[39mint\u001b[39m] \u001b[39m|\u001b[39m \u001b[39mNone\u001b[39;00m \u001b[39m=\u001b[39m \u001b[39mNone\u001b[39;00m\n\u001b[1;32m    110\u001b[0m columns: \u001b[39mlist\u001b[39m[\u001b[39mlist\u001b[39m[Scalar \u001b[39m|\u001b[39m \u001b[39mNone\u001b[39;00m]]\n\u001b[1;32m    111\u001b[0m (\n\u001b[1;32m    112\u001b[0m     columns,\n\u001b[1;32m    113\u001b[0m     \u001b[39mself\u001b[39m\u001b[39m.\u001b[39mnum_original_columns,\n\u001b[1;32m    114\u001b[0m     \u001b[39mself\u001b[39m\u001b[39m.\u001b[39munnamed_cols,\n\u001b[0;32m--> 115\u001b[0m ) \u001b[39m=\u001b[39m \u001b[39mself\u001b[39;49m\u001b[39m.\u001b[39;49m_infer_columns()\n\u001b[1;32m    117\u001b[0m \u001b[39m# Now self.columns has the set of columns that we will process.\u001b[39;00m\n\u001b[1;32m    118\u001b[0m \u001b[39m# The original set is stored in self.original_columns.\u001b[39;00m\n\u001b[1;32m    119\u001b[0m \u001b[39m# error: Cannot determine type of 'index_names'\u001b[39;00m\n\u001b[1;32m    120\u001b[0m \u001b[39mself\u001b[39m\u001b[39m.\u001b[39mcolumns: \u001b[39mlist\u001b[39m[Hashable]\n",
      "File \u001b[0;32m/usr/local/lib/python3.9/site-packages/pandas/io/parsers/python_parser.py:501\u001b[0m, in \u001b[0;36mPythonParser._infer_columns\u001b[0;34m(self)\u001b[0m\n\u001b[1;32m    499\u001b[0m \u001b[39melse\u001b[39;00m:\n\u001b[1;32m    500\u001b[0m     \u001b[39mtry\u001b[39;00m:\n\u001b[0;32m--> 501\u001b[0m         line \u001b[39m=\u001b[39m \u001b[39mself\u001b[39;49m\u001b[39m.\u001b[39;49m_buffered_line()\n\u001b[1;32m    503\u001b[0m     \u001b[39mexcept\u001b[39;00m \u001b[39mStopIteration\u001b[39;00m \u001b[39mas\u001b[39;00m err:\n\u001b[1;32m    504\u001b[0m         \u001b[39mif\u001b[39;00m \u001b[39mnot\u001b[39;00m names:\n",
      "File \u001b[0;32m/usr/local/lib/python3.9/site-packages/pandas/io/parsers/python_parser.py:596\u001b[0m, in \u001b[0;36mPythonParser._buffered_line\u001b[0;34m(self)\u001b[0m\n\u001b[1;32m    594\u001b[0m     \u001b[39mreturn\u001b[39;00m \u001b[39mself\u001b[39m\u001b[39m.\u001b[39mbuf[\u001b[39m0\u001b[39m]\n\u001b[1;32m    595\u001b[0m \u001b[39melse\u001b[39;00m:\n\u001b[0;32m--> 596\u001b[0m     \u001b[39mreturn\u001b[39;00m \u001b[39mself\u001b[39;49m\u001b[39m.\u001b[39;49m_next_line()\n",
      "File \u001b[0;32m/usr/local/lib/python3.9/site-packages/pandas/io/parsers/python_parser.py:696\u001b[0m, in \u001b[0;36mPythonParser._next_line\u001b[0;34m(self)\u001b[0m\n\u001b[1;32m    693\u001b[0m     \u001b[39mnext\u001b[39m(\u001b[39mself\u001b[39m\u001b[39m.\u001b[39mdata)\n\u001b[1;32m    695\u001b[0m \u001b[39mwhile\u001b[39;00m \u001b[39mTrue\u001b[39;00m:\n\u001b[0;32m--> 696\u001b[0m     orig_line \u001b[39m=\u001b[39m \u001b[39mself\u001b[39;49m\u001b[39m.\u001b[39;49m_next_iter_line(row_num\u001b[39m=\u001b[39;49m\u001b[39mself\u001b[39;49m\u001b[39m.\u001b[39;49mpos \u001b[39m+\u001b[39;49m \u001b[39m1\u001b[39;49m)\n\u001b[1;32m    697\u001b[0m     \u001b[39mself\u001b[39m\u001b[39m.\u001b[39mpos \u001b[39m+\u001b[39m\u001b[39m=\u001b[39m \u001b[39m1\u001b[39m\n\u001b[1;32m    699\u001b[0m     \u001b[39mif\u001b[39;00m orig_line \u001b[39mis\u001b[39;00m \u001b[39mnot\u001b[39;00m \u001b[39mNone\u001b[39;00m:\n",
      "File \u001b[0;32m/usr/local/lib/python3.9/site-packages/pandas/io/parsers/python_parser.py:760\u001b[0m, in \u001b[0;36mPythonParser._next_iter_line\u001b[0;34m(self, row_num)\u001b[0m\n\u001b[1;32m    757\u001b[0m \u001b[39mtry\u001b[39;00m:\n\u001b[1;32m    758\u001b[0m     \u001b[39m# assert for mypy, data is Iterator[str] or None, would error in next\u001b[39;00m\n\u001b[1;32m    759\u001b[0m     \u001b[39massert\u001b[39;00m \u001b[39mself\u001b[39m\u001b[39m.\u001b[39mdata \u001b[39mis\u001b[39;00m \u001b[39mnot\u001b[39;00m \u001b[39mNone\u001b[39;00m\n\u001b[0;32m--> 760\u001b[0m     line \u001b[39m=\u001b[39m \u001b[39mnext\u001b[39;49m(\u001b[39mself\u001b[39;49m\u001b[39m.\u001b[39;49mdata)\n\u001b[1;32m    761\u001b[0m     \u001b[39m# for mypy\u001b[39;00m\n\u001b[1;32m    762\u001b[0m     \u001b[39massert\u001b[39;00m \u001b[39misinstance\u001b[39m(line, \u001b[39mlist\u001b[39m)\n",
      "File \u001b[0;32m/usr/local/lib/python3.9/site-packages/fsspec/spec.py:1578\u001b[0m, in \u001b[0;36mAbstractBufferedFile.read\u001b[0;34m(self, length)\u001b[0m\n\u001b[1;32m   1575\u001b[0m \u001b[39mif\u001b[39;00m length \u001b[39m==\u001b[39m \u001b[39m0\u001b[39m:\n\u001b[1;32m   1576\u001b[0m     \u001b[39m# don't even bother calling fetch\u001b[39;00m\n\u001b[1;32m   1577\u001b[0m     \u001b[39mreturn\u001b[39;00m \u001b[39mb\u001b[39m\u001b[39m\"\u001b[39m\u001b[39m\"\u001b[39m\n\u001b[0;32m-> 1578\u001b[0m out \u001b[39m=\u001b[39m \u001b[39mself\u001b[39;49m\u001b[39m.\u001b[39;49mcache\u001b[39m.\u001b[39;49m_fetch(\u001b[39mself\u001b[39;49m\u001b[39m.\u001b[39;49mloc, \u001b[39mself\u001b[39;49m\u001b[39m.\u001b[39;49mloc \u001b[39m+\u001b[39;49m length)\n\u001b[1;32m   1579\u001b[0m \u001b[39mself\u001b[39m\u001b[39m.\u001b[39mloc \u001b[39m+\u001b[39m\u001b[39m=\u001b[39m \u001b[39mlen\u001b[39m(out)\n\u001b[1;32m   1580\u001b[0m \u001b[39mreturn\u001b[39;00m out\n",
      "File \u001b[0;32m/usr/local/lib/python3.9/site-packages/fsspec/caching.py:377\u001b[0m, in \u001b[0;36mBytesCache._fetch\u001b[0;34m(self, start, end)\u001b[0m\n\u001b[1;32m    371\u001b[0m     \u001b[39mreturn\u001b[39;00m \u001b[39mb\u001b[39m\u001b[39m\"\u001b[39m\u001b[39m\"\u001b[39m\n\u001b[1;32m    373\u001b[0m \u001b[39mif\u001b[39;00m (\u001b[39mself\u001b[39m\u001b[39m.\u001b[39mstart \u001b[39mis\u001b[39;00m \u001b[39mNone\u001b[39;00m \u001b[39mor\u001b[39;00m start \u001b[39m<\u001b[39m \u001b[39mself\u001b[39m\u001b[39m.\u001b[39mstart) \u001b[39mand\u001b[39;00m (\n\u001b[1;32m    374\u001b[0m     \u001b[39mself\u001b[39m\u001b[39m.\u001b[39mend \u001b[39mis\u001b[39;00m \u001b[39mNone\u001b[39;00m \u001b[39mor\u001b[39;00m end \u001b[39m>\u001b[39m \u001b[39mself\u001b[39m\u001b[39m.\u001b[39mend\n\u001b[1;32m    375\u001b[0m ):\n\u001b[1;32m    376\u001b[0m     \u001b[39m# First read, or extending both before and after\u001b[39;00m\n\u001b[0;32m--> 377\u001b[0m     \u001b[39mself\u001b[39m\u001b[39m.\u001b[39mcache \u001b[39m=\u001b[39m \u001b[39mself\u001b[39;49m\u001b[39m.\u001b[39;49mfetcher(start, bend)\n\u001b[1;32m    378\u001b[0m     \u001b[39mself\u001b[39m\u001b[39m.\u001b[39mstart \u001b[39m=\u001b[39m start\n\u001b[1;32m    379\u001b[0m \u001b[39melif\u001b[39;00m start \u001b[39m<\u001b[39m \u001b[39mself\u001b[39m\u001b[39m.\u001b[39mstart:\n",
      "File \u001b[0;32m/usr/local/lib/python3.9/site-packages/s3fs/core.py:2030\u001b[0m, in \u001b[0;36mS3File._fetch_range\u001b[0;34m(self, start, end)\u001b[0m\n\u001b[1;32m   2028\u001b[0m \u001b[39mdef\u001b[39;00m \u001b[39m_fetch_range\u001b[39m(\u001b[39mself\u001b[39m, start, end):\n\u001b[1;32m   2029\u001b[0m     \u001b[39mtry\u001b[39;00m:\n\u001b[0;32m-> 2030\u001b[0m         \u001b[39mreturn\u001b[39;00m _fetch_range(\n\u001b[1;32m   2031\u001b[0m             \u001b[39mself\u001b[39;49m\u001b[39m.\u001b[39;49mfs,\n\u001b[1;32m   2032\u001b[0m             \u001b[39mself\u001b[39;49m\u001b[39m.\u001b[39;49mbucket,\n\u001b[1;32m   2033\u001b[0m             \u001b[39mself\u001b[39;49m\u001b[39m.\u001b[39;49mkey,\n\u001b[1;32m   2034\u001b[0m             \u001b[39mself\u001b[39;49m\u001b[39m.\u001b[39;49mversion_id,\n\u001b[1;32m   2035\u001b[0m             start,\n\u001b[1;32m   2036\u001b[0m             end,\n\u001b[1;32m   2037\u001b[0m             req_kw\u001b[39m=\u001b[39;49m\u001b[39mself\u001b[39;49m\u001b[39m.\u001b[39;49mreq_kw,\n\u001b[1;32m   2038\u001b[0m         )\n\u001b[1;32m   2040\u001b[0m     \u001b[39mexcept\u001b[39;00m \u001b[39mOSError\u001b[39;00m \u001b[39mas\u001b[39;00m ex:\n\u001b[1;32m   2041\u001b[0m         \u001b[39mif\u001b[39;00m ex\u001b[39m.\u001b[39margs[\u001b[39m0\u001b[39m] \u001b[39m==\u001b[39m errno\u001b[39m.\u001b[39mEINVAL \u001b[39mand\u001b[39;00m \u001b[39m\"\u001b[39m\u001b[39mpre-conditions\u001b[39m\u001b[39m\"\u001b[39m \u001b[39min\u001b[39;00m ex\u001b[39m.\u001b[39margs[\u001b[39m1\u001b[39m]:\n",
      "File \u001b[0;32m/usr/local/lib/python3.9/site-packages/s3fs/core.py:2173\u001b[0m, in \u001b[0;36m_fetch_range\u001b[0;34m(fs, bucket, key, version_id, start, end, req_kw)\u001b[0m\n\u001b[1;32m   2171\u001b[0m     \u001b[39mreturn\u001b[39;00m \u001b[39mb\u001b[39m\u001b[39m\"\u001b[39m\u001b[39m\"\u001b[39m\n\u001b[1;32m   2172\u001b[0m logger\u001b[39m.\u001b[39mdebug(\u001b[39m\"\u001b[39m\u001b[39mFetch: \u001b[39m\u001b[39m%s\u001b[39;00m\u001b[39m/\u001b[39m\u001b[39m%s\u001b[39;00m\u001b[39m, \u001b[39m\u001b[39m%s\u001b[39;00m\u001b[39m-\u001b[39m\u001b[39m%s\u001b[39;00m\u001b[39m\"\u001b[39m, bucket, key, start, end)\n\u001b[0;32m-> 2173\u001b[0m resp \u001b[39m=\u001b[39m fs\u001b[39m.\u001b[39;49mcall_s3(\n\u001b[1;32m   2174\u001b[0m     \u001b[39m\"\u001b[39;49m\u001b[39mget_object\u001b[39;49m\u001b[39m\"\u001b[39;49m,\n\u001b[1;32m   2175\u001b[0m     Bucket\u001b[39m=\u001b[39;49mbucket,\n\u001b[1;32m   2176\u001b[0m     Key\u001b[39m=\u001b[39;49mkey,\n\u001b[1;32m   2177\u001b[0m     Range\u001b[39m=\u001b[39;49m\u001b[39m\"\u001b[39;49m\u001b[39mbytes=\u001b[39;49m\u001b[39m%i\u001b[39;49;00m\u001b[39m-\u001b[39;49m\u001b[39m%i\u001b[39;49;00m\u001b[39m\"\u001b[39;49m \u001b[39m%\u001b[39;49m (start, end \u001b[39m-\u001b[39;49m \u001b[39m1\u001b[39;49m),\n\u001b[1;32m   2178\u001b[0m     \u001b[39m*\u001b[39;49m\u001b[39m*\u001b[39;49mversion_id_kw(version_id),\n\u001b[1;32m   2179\u001b[0m     \u001b[39m*\u001b[39;49m\u001b[39m*\u001b[39;49mreq_kw,\n\u001b[1;32m   2180\u001b[0m )\n\u001b[1;32m   2181\u001b[0m \u001b[39mreturn\u001b[39;00m sync(fs\u001b[39m.\u001b[39mloop, resp[\u001b[39m\"\u001b[39m\u001b[39mBody\u001b[39m\u001b[39m\"\u001b[39m]\u001b[39m.\u001b[39mread)\n",
      "File \u001b[0;32m/usr/local/lib/python3.9/site-packages/fsspec/asyn.py:86\u001b[0m, in \u001b[0;36msync_wrapper.<locals>.wrapper\u001b[0;34m(*args, **kwargs)\u001b[0m\n\u001b[1;32m     83\u001b[0m \u001b[39m@functools\u001b[39m\u001b[39m.\u001b[39mwraps(func)\n\u001b[1;32m     84\u001b[0m \u001b[39mdef\u001b[39;00m \u001b[39mwrapper\u001b[39m(\u001b[39m*\u001b[39margs, \u001b[39m*\u001b[39m\u001b[39m*\u001b[39mkwargs):\n\u001b[1;32m     85\u001b[0m     \u001b[39mself\u001b[39m \u001b[39m=\u001b[39m obj \u001b[39mor\u001b[39;00m args[\u001b[39m0\u001b[39m]\n\u001b[0;32m---> 86\u001b[0m     \u001b[39mreturn\u001b[39;00m sync(\u001b[39mself\u001b[39;49m\u001b[39m.\u001b[39;49mloop, func, \u001b[39m*\u001b[39;49margs, \u001b[39m*\u001b[39;49m\u001b[39m*\u001b[39;49mkwargs)\n",
      "File \u001b[0;32m/usr/local/lib/python3.9/site-packages/fsspec/asyn.py:66\u001b[0m, in \u001b[0;36msync\u001b[0;34m(loop, func, timeout, *args, **kwargs)\u001b[0m\n\u001b[1;32m     64\u001b[0m     \u001b[39mraise\u001b[39;00m FSTimeoutError \u001b[39mfrom\u001b[39;00m \u001b[39mreturn_result\u001b[39;00m\n\u001b[1;32m     65\u001b[0m \u001b[39melif\u001b[39;00m \u001b[39misinstance\u001b[39m(return_result, \u001b[39mBaseException\u001b[39;00m):\n\u001b[0;32m---> 66\u001b[0m     \u001b[39mraise\u001b[39;00m return_result\n\u001b[1;32m     67\u001b[0m \u001b[39melse\u001b[39;00m:\n\u001b[1;32m     68\u001b[0m     \u001b[39mreturn\u001b[39;00m return_result\n",
      "File \u001b[0;32m/usr/local/lib/python3.9/site-packages/fsspec/asyn.py:26\u001b[0m, in \u001b[0;36m_runner\u001b[0;34m(event, coro, result, timeout)\u001b[0m\n\u001b[1;32m     24\u001b[0m     coro \u001b[39m=\u001b[39m asyncio\u001b[39m.\u001b[39mwait_for(coro, timeout\u001b[39m=\u001b[39mtimeout)\n\u001b[1;32m     25\u001b[0m \u001b[39mtry\u001b[39;00m:\n\u001b[0;32m---> 26\u001b[0m     result[\u001b[39m0\u001b[39m] \u001b[39m=\u001b[39m \u001b[39mawait\u001b[39;00m coro\n\u001b[1;32m     27\u001b[0m \u001b[39mexcept\u001b[39;00m \u001b[39mException\u001b[39;00m \u001b[39mas\u001b[39;00m ex:\n\u001b[1;32m     28\u001b[0m     result[\u001b[39m0\u001b[39m] \u001b[39m=\u001b[39m ex\n",
      "File \u001b[0;32m/usr/local/lib/python3.9/site-packages/s3fs/core.py:332\u001b[0m, in \u001b[0;36mS3FileSystem._call_s3\u001b[0;34m(self, method, *akwarglist, **kwargs)\u001b[0m\n\u001b[1;32m    330\u001b[0m logger\u001b[39m.\u001b[39mdebug(\u001b[39m\"\u001b[39m\u001b[39mCALL: \u001b[39m\u001b[39m%s\u001b[39;00m\u001b[39m - \u001b[39m\u001b[39m%s\u001b[39;00m\u001b[39m - \u001b[39m\u001b[39m%s\u001b[39;00m\u001b[39m\"\u001b[39m, method\u001b[39m.\u001b[39m\u001b[39m__name__\u001b[39m, akwarglist, kw2)\n\u001b[1;32m    331\u001b[0m additional_kwargs \u001b[39m=\u001b[39m \u001b[39mself\u001b[39m\u001b[39m.\u001b[39m_get_s3_method_kwargs(method, \u001b[39m*\u001b[39makwarglist, \u001b[39m*\u001b[39m\u001b[39m*\u001b[39mkwargs)\n\u001b[0;32m--> 332\u001b[0m \u001b[39mreturn\u001b[39;00m \u001b[39mawait\u001b[39;00m _error_wrapper(\n\u001b[1;32m    333\u001b[0m     method, kwargs\u001b[39m=\u001b[39madditional_kwargs, retries\u001b[39m=\u001b[39m\u001b[39mself\u001b[39m\u001b[39m.\u001b[39mretries\n\u001b[1;32m    334\u001b[0m )\n",
      "File \u001b[0;32m/usr/local/lib/python3.9/site-packages/s3fs/core.py:137\u001b[0m, in \u001b[0;36m_error_wrapper\u001b[0;34m(func, args, kwargs, retries)\u001b[0m\n\u001b[1;32m    135\u001b[0m         err \u001b[39m=\u001b[39m e\n\u001b[1;32m    136\u001b[0m err \u001b[39m=\u001b[39m translate_boto_error(err)\n\u001b[0;32m--> 137\u001b[0m \u001b[39mraise\u001b[39;00m err\n",
      "\u001b[0;31mPermissionError\u001b[0m: The provided token has expired."
     ]
    }
   ],
   "source": [
    "client = Elasticsearch(\n",
    "    \"https://foss4g-workshop.es.europe-west3.gcp.cloud.es.io\",\n",
    "    http_auth=(\"elastic\", os.environ.get(\"ES_KEY\", \"\")),\n",
    ")\n",
    "\n",
    "# client.indices.create(\n",
    "#     \"soop_xbt\",\n",
    "#     ignore=400,\n",
    "#     body={\"mappings\": {\"properties\": {\"location\": {\"type\": \"geo_point\"}}}},\n",
    "# )\n",
    "\n",
    "for file in files:\n",
    "    print(f\"Processing file {file}\")\n",
    "    bulk(client, process_file(file))\n",
    "    # break\n",
    "\n"
   ]
  },
  {
   "cell_type": "code",
   "execution_count": 2,
   "metadata": {},
   "outputs": [
    {
     "ename": "ClientError",
     "evalue": "An error occurred (ExpiredToken) when calling the ListObjectsV2 operation: The provided token has expired.",
     "output_type": "error",
     "traceback": [
      "\u001b[0;31m---------------------------------------------------------------------------\u001b[0m",
      "\u001b[0;31mClientError\u001b[0m                               Traceback (most recent call last)",
      "\u001b[1;32m/Users/alex/git/aodn/harvest-db/csv_to_parquet.ipynb Cell 6\u001b[0m in \u001b[0;36m<cell line: 1>\u001b[0;34m()\u001b[0m\n\u001b[0;32m----> <a href='vscode-notebook-cell:/Users/alex/git/aodn/harvest-db/csv_to_parquet.ipynb#ch0000005?line=0'>1</a>\u001b[0m wr\u001b[39m.\u001b[39;49ms3\u001b[39m.\u001b[39;49mread_parquet(\u001b[39m\"\u001b[39;49m\u001b[39ms3://imos-data-lab-optimised/TEST_DATA/XBT-WRANGLER/\u001b[39;49m\u001b[39m\"\u001b[39;49m)\u001b[39m.\u001b[39mquery()\n\u001b[1;32m      <a href='vscode-notebook-cell:/Users/alex/git/aodn/harvest-db/csv_to_parquet.ipynb#ch0000005?line=3'>4</a>\u001b[0m wr\u001b[39m.\u001b[39ms3\u001b[39m.\u001b[39mread_partu\n",
      "File \u001b[0;32m~/Library/Python/3.9/lib/python/site-packages/awswrangler/s3/_read_parquet.py:733\u001b[0m, in \u001b[0;36mread_parquet\u001b[0;34m(path, path_root, path_suffix, path_ignore_suffix, version_id, ignore_empty, ignore_index, partition_filter, columns, validate_schema, chunked, dataset, categories, safe, map_types, use_threads, last_modified_begin, last_modified_end, boto3_session, s3_additional_kwargs, pyarrow_additional_kwargs)\u001b[0m\n\u001b[1;32m    585\u001b[0m \u001b[39m\"\"\"Read Apache Parquet file(s) from a received S3 prefix or list of S3 objects paths.\u001b[39;00m\n\u001b[1;32m    586\u001b[0m \n\u001b[1;32m    587\u001b[0m \u001b[39mThe concept of Dataset goes beyond the simple idea of files and enable more\u001b[39;00m\n\u001b[0;32m   (...)\u001b[0m\n\u001b[1;32m    730\u001b[0m \n\u001b[1;32m    731\u001b[0m \u001b[39m\"\"\"\u001b[39;00m\n\u001b[1;32m    732\u001b[0m session: boto3\u001b[39m.\u001b[39mSession \u001b[39m=\u001b[39m _utils\u001b[39m.\u001b[39mensure_session(session\u001b[39m=\u001b[39mboto3_session)\n\u001b[0;32m--> 733\u001b[0m paths: List[\u001b[39mstr\u001b[39m] \u001b[39m=\u001b[39m _path2list(\n\u001b[1;32m    734\u001b[0m     path\u001b[39m=\u001b[39;49mpath,\n\u001b[1;32m    735\u001b[0m     boto3_session\u001b[39m=\u001b[39;49msession,\n\u001b[1;32m    736\u001b[0m     suffix\u001b[39m=\u001b[39;49mpath_suffix,\n\u001b[1;32m    737\u001b[0m     ignore_suffix\u001b[39m=\u001b[39;49m_get_path_ignore_suffix(path_ignore_suffix\u001b[39m=\u001b[39;49mpath_ignore_suffix),\n\u001b[1;32m    738\u001b[0m     last_modified_begin\u001b[39m=\u001b[39;49mlast_modified_begin,\n\u001b[1;32m    739\u001b[0m     last_modified_end\u001b[39m=\u001b[39;49mlast_modified_end,\n\u001b[1;32m    740\u001b[0m     ignore_empty\u001b[39m=\u001b[39;49mignore_empty,\n\u001b[1;32m    741\u001b[0m     s3_additional_kwargs\u001b[39m=\u001b[39;49ms3_additional_kwargs,\n\u001b[1;32m    742\u001b[0m )\n\u001b[1;32m    743\u001b[0m versions: Optional[Dict[\u001b[39mstr\u001b[39m, \u001b[39mstr\u001b[39m]] \u001b[39m=\u001b[39m (\n\u001b[1;32m    744\u001b[0m     version_id \u001b[39mif\u001b[39;00m \u001b[39misinstance\u001b[39m(version_id, \u001b[39mdict\u001b[39m) \u001b[39melse\u001b[39;00m {paths[\u001b[39m0\u001b[39m]: version_id} \u001b[39mif\u001b[39;00m \u001b[39misinstance\u001b[39m(version_id, \u001b[39mstr\u001b[39m) \u001b[39melse\u001b[39;00m \u001b[39mNone\u001b[39;00m\n\u001b[1;32m    745\u001b[0m )\n\u001b[1;32m    746\u001b[0m \u001b[39mif\u001b[39;00m path_root \u001b[39mis\u001b[39;00m \u001b[39mNone\u001b[39;00m:\n",
      "File \u001b[0;32m~/Library/Python/3.9/lib/python/site-packages/awswrangler/s3/_list.py:31\u001b[0m, in \u001b[0;36m_path2list\u001b[0;34m(path, boto3_session, s3_additional_kwargs, last_modified_begin, last_modified_end, suffix, ignore_suffix, ignore_empty)\u001b[0m\n\u001b[1;32m     29\u001b[0m _ignore_suffix: Optional[List[\u001b[39mstr\u001b[39m]] \u001b[39m=\u001b[39m [ignore_suffix] \u001b[39mif\u001b[39;00m \u001b[39misinstance\u001b[39m(ignore_suffix, \u001b[39mstr\u001b[39m) \u001b[39melse\u001b[39;00m ignore_suffix\n\u001b[1;32m     30\u001b[0m \u001b[39mif\u001b[39;00m \u001b[39misinstance\u001b[39m(path, \u001b[39mstr\u001b[39m):  \u001b[39m# prefix\u001b[39;00m\n\u001b[0;32m---> 31\u001b[0m     paths: List[\u001b[39mstr\u001b[39m] \u001b[39m=\u001b[39m list_objects(  \u001b[39m# type: ignore\u001b[39;49;00m\n\u001b[1;32m     32\u001b[0m         path\u001b[39m=\u001b[39;49mpath,\n\u001b[1;32m     33\u001b[0m         suffix\u001b[39m=\u001b[39;49m_suffix,\n\u001b[1;32m     34\u001b[0m         ignore_suffix\u001b[39m=\u001b[39;49m_ignore_suffix,\n\u001b[1;32m     35\u001b[0m         boto3_session\u001b[39m=\u001b[39;49mboto3_session,\n\u001b[1;32m     36\u001b[0m         last_modified_begin\u001b[39m=\u001b[39;49mlast_modified_begin,\n\u001b[1;32m     37\u001b[0m         last_modified_end\u001b[39m=\u001b[39;49mlast_modified_end,\n\u001b[1;32m     38\u001b[0m         ignore_empty\u001b[39m=\u001b[39;49mignore_empty,\n\u001b[1;32m     39\u001b[0m         s3_additional_kwargs\u001b[39m=\u001b[39;49ms3_additional_kwargs,\n\u001b[1;32m     40\u001b[0m     )\n\u001b[1;32m     41\u001b[0m \u001b[39melif\u001b[39;00m \u001b[39misinstance\u001b[39m(path, \u001b[39mlist\u001b[39m):\n\u001b[1;32m     42\u001b[0m     \u001b[39mif\u001b[39;00m last_modified_begin \u001b[39mor\u001b[39;00m last_modified_end:\n",
      "File \u001b[0;32m~/Library/Python/3.9/lib/python/site-packages/awswrangler/s3/_list.py:358\u001b[0m, in \u001b[0;36mlist_objects\u001b[0;34m(path, suffix, ignore_suffix, last_modified_begin, last_modified_end, ignore_empty, chunked, s3_additional_kwargs, boto3_session)\u001b[0m\n\u001b[1;32m    356\u001b[0m \u001b[39mif\u001b[39;00m chunked:\n\u001b[1;32m    357\u001b[0m     \u001b[39mreturn\u001b[39;00m result_iterator\n\u001b[0;32m--> 358\u001b[0m \u001b[39mreturn\u001b[39;00m [path \u001b[39mfor\u001b[39;00m paths \u001b[39min\u001b[39;00m result_iterator \u001b[39mfor\u001b[39;00m path \u001b[39min\u001b[39;00m paths]\n",
      "File \u001b[0;32m~/Library/Python/3.9/lib/python/site-packages/awswrangler/s3/_list.py:358\u001b[0m, in \u001b[0;36m<listcomp>\u001b[0;34m(.0)\u001b[0m\n\u001b[1;32m    356\u001b[0m \u001b[39mif\u001b[39;00m chunked:\n\u001b[1;32m    357\u001b[0m     \u001b[39mreturn\u001b[39;00m result_iterator\n\u001b[0;32m--> 358\u001b[0m \u001b[39mreturn\u001b[39;00m [path \u001b[39mfor\u001b[39;00m paths \u001b[39min\u001b[39;00m result_iterator \u001b[39mfor\u001b[39;00m path \u001b[39min\u001b[39;00m paths]\n",
      "File \u001b[0;32m~/Library/Python/3.9/lib/python/site-packages/awswrangler/s3/_list.py:110\u001b[0m, in \u001b[0;36m_list_objects\u001b[0;34m(path, s3_additional_kwargs, delimiter, suffix, ignore_suffix, last_modified_begin, last_modified_end, boto3_session, ignore_empty)\u001b[0m\n\u001b[1;32m    107\u001b[0m paths: List[\u001b[39mstr\u001b[39m] \u001b[39m=\u001b[39m []\n\u001b[1;32m    108\u001b[0m _validate_datetimes(last_modified_begin\u001b[39m=\u001b[39mlast_modified_begin, last_modified_end\u001b[39m=\u001b[39mlast_modified_end)\n\u001b[0;32m--> 110\u001b[0m \u001b[39mfor\u001b[39;00m page \u001b[39min\u001b[39;00m response_iterator:  \u001b[39m# pylint: disable=too-many-nested-blocks\u001b[39;00m\n\u001b[1;32m    111\u001b[0m     \u001b[39mif\u001b[39;00m delimiter \u001b[39mis\u001b[39;00m \u001b[39mNone\u001b[39;00m:\n\u001b[1;32m    112\u001b[0m         contents: Optional[List[Dict[\u001b[39mstr\u001b[39m, Any]]] \u001b[39m=\u001b[39m page\u001b[39m.\u001b[39mget(\u001b[39m\"\u001b[39m\u001b[39mContents\u001b[39m\u001b[39m\"\u001b[39m)\n",
      "File \u001b[0;32m/usr/local/lib/python3.9/site-packages/botocore/paginate.py:255\u001b[0m, in \u001b[0;36mPageIterator.__iter__\u001b[0;34m(self)\u001b[0m\n\u001b[1;32m    253\u001b[0m \u001b[39mself\u001b[39m\u001b[39m.\u001b[39m_inject_starting_params(current_kwargs)\n\u001b[1;32m    254\u001b[0m \u001b[39mwhile\u001b[39;00m \u001b[39mTrue\u001b[39;00m:\n\u001b[0;32m--> 255\u001b[0m     response \u001b[39m=\u001b[39m \u001b[39mself\u001b[39;49m\u001b[39m.\u001b[39;49m_make_request(current_kwargs)\n\u001b[1;32m    256\u001b[0m     parsed \u001b[39m=\u001b[39m \u001b[39mself\u001b[39m\u001b[39m.\u001b[39m_extract_parsed_response(response)\n\u001b[1;32m    257\u001b[0m     \u001b[39mif\u001b[39;00m first_request:\n\u001b[1;32m    258\u001b[0m         \u001b[39m# The first request is handled differently.  We could\u001b[39;00m\n\u001b[1;32m    259\u001b[0m         \u001b[39m# possibly have a resume/starting token that tells us where\u001b[39;00m\n\u001b[1;32m    260\u001b[0m         \u001b[39m# to index into the retrieved page.\u001b[39;00m\n",
      "File \u001b[0;32m/usr/local/lib/python3.9/site-packages/botocore/paginate.py:334\u001b[0m, in \u001b[0;36mPageIterator._make_request\u001b[0;34m(self, current_kwargs)\u001b[0m\n\u001b[1;32m    333\u001b[0m \u001b[39mdef\u001b[39;00m \u001b[39m_make_request\u001b[39m(\u001b[39mself\u001b[39m, current_kwargs):\n\u001b[0;32m--> 334\u001b[0m     \u001b[39mreturn\u001b[39;00m \u001b[39mself\u001b[39;49m\u001b[39m.\u001b[39;49m_method(\u001b[39m*\u001b[39;49m\u001b[39m*\u001b[39;49mcurrent_kwargs)\n",
      "File \u001b[0;32m/usr/local/lib/python3.9/site-packages/botocore/client.py:395\u001b[0m, in \u001b[0;36mClientCreator._create_api_method.<locals>._api_call\u001b[0;34m(self, *args, **kwargs)\u001b[0m\n\u001b[1;32m    392\u001b[0m     \u001b[39mraise\u001b[39;00m \u001b[39mTypeError\u001b[39;00m(\n\u001b[1;32m    393\u001b[0m         \u001b[39m\"\u001b[39m\u001b[39m%s\u001b[39;00m\u001b[39m() only accepts keyword arguments.\u001b[39m\u001b[39m\"\u001b[39m \u001b[39m%\u001b[39m py_operation_name)\n\u001b[1;32m    394\u001b[0m \u001b[39m# The \"self\" in this scope is referring to the BaseClient.\u001b[39;00m\n\u001b[0;32m--> 395\u001b[0m \u001b[39mreturn\u001b[39;00m \u001b[39mself\u001b[39;49m\u001b[39m.\u001b[39;49m_make_api_call(operation_name, kwargs)\n",
      "File \u001b[0;32m/usr/local/lib/python3.9/site-packages/botocore/client.py:725\u001b[0m, in \u001b[0;36mBaseClient._make_api_call\u001b[0;34m(self, operation_name, api_params)\u001b[0m\n\u001b[1;32m    723\u001b[0m     error_code \u001b[39m=\u001b[39m parsed_response\u001b[39m.\u001b[39mget(\u001b[39m\"\u001b[39m\u001b[39mError\u001b[39m\u001b[39m\"\u001b[39m, {})\u001b[39m.\u001b[39mget(\u001b[39m\"\u001b[39m\u001b[39mCode\u001b[39m\u001b[39m\"\u001b[39m)\n\u001b[1;32m    724\u001b[0m     error_class \u001b[39m=\u001b[39m \u001b[39mself\u001b[39m\u001b[39m.\u001b[39mexceptions\u001b[39m.\u001b[39mfrom_code(error_code)\n\u001b[0;32m--> 725\u001b[0m     \u001b[39mraise\u001b[39;00m error_class(parsed_response, operation_name)\n\u001b[1;32m    726\u001b[0m \u001b[39melse\u001b[39;00m:\n\u001b[1;32m    727\u001b[0m     \u001b[39mreturn\u001b[39;00m parsed_response\n",
      "\u001b[0;31mClientError\u001b[0m: An error occurred (ExpiredToken) when calling the ListObjectsV2 operation: The provided token has expired."
     ]
    }
   ],
   "source": [
    "wr.s3.read_parquet(\"s3://imos-data-lab-optimised/TEST_DATA/XBT-WRANGLER/\").query()\n",
    "\n",
    "\n",
    "wr.s3.read_partu"
   ]
  },
  {
   "cell_type": "code",
   "execution_count": 3,
   "metadata": {},
   "outputs": [],
   "source": [
    "import awswrangler as wr\n",
    "\n",
    "table = wr.athena.read_sql_query(\"select * from soop_xbt_nrt limit 5\", \"profile\")\n"
   ]
  },
  {
   "cell_type": "code",
   "execution_count": 5,
   "metadata": {},
   "outputs": [
    {
     "data": {
      "text/plain": [
       "pandas.core.frame.DataFrame"
      ]
     },
     "execution_count": 5,
     "metadata": {},
     "output_type": "execute_result"
    }
   ],
   "source": [
    "type(table)"
   ]
  },
  {
   "cell_type": "code",
   "execution_count": 6,
   "metadata": {},
   "outputs": [
    {
     "name": "stderr",
     "output_type": "stream",
     "text": [
      "/usr/local/lib/python3.9/site-packages/dask/dataframe/utils.py:374: FutureWarning: pandas.Int64Index is deprecated and will be removed from pandas in a future version. Use pandas.Index with the appropriate dtype instead.\n",
      "  _numeric_index_types = (pd.Int64Index, pd.Float64Index, pd.UInt64Index)\n",
      "/usr/local/lib/python3.9/site-packages/dask/dataframe/utils.py:374: FutureWarning: pandas.Float64Index is deprecated and will be removed from pandas in a future version. Use pandas.Index with the appropriate dtype instead.\n",
      "  _numeric_index_types = (pd.Int64Index, pd.Float64Index, pd.UInt64Index)\n",
      "/usr/local/lib/python3.9/site-packages/dask/dataframe/utils.py:374: FutureWarning: pandas.UInt64Index is deprecated and will be removed from pandas in a future version. Use pandas.Index with the appropriate dtype instead.\n",
      "  _numeric_index_types = (pd.Int64Index, pd.Float64Index, pd.UInt64Index)\n"
     ]
    }
   ],
   "source": [
    "import dask.dataframe as dd\n"
   ]
  },
  {
   "cell_type": "code",
   "execution_count": 9,
   "metadata": {},
   "outputs": [
    {
     "name": "stdout",
     "output_type": "stream",
     "text": [
      "CPU times: user 1.84 s, sys: 269 ms, total: 2.11 s\n",
      "Wall time: 2.17 s\n"
     ]
    },
    {
     "data": {
      "text/plain": [
       "8.40091803179103"
      ]
     },
     "execution_count": 9,
     "metadata": {},
     "output_type": "execute_result"
    }
   ],
   "source": [
    "%%time\n",
    "\n",
    "import dask.dataframe as dd\n",
    "df = dd.read_parquet('s3://imos-data-lab-optimised/parquet/xbt/', columns=['temp'], engine='pyarrow')\n",
    "df.temp.mean().compute()"
   ]
  },
  {
   "cell_type": "code",
   "execution_count": null,
   "metadata": {},
   "outputs": [],
   "source": []
  }
 ],
 "metadata": {
  "kernelspec": {
   "display_name": "Python 3.9.13 64-bit",
   "language": "python",
   "name": "python3"
  },
  "language_info": {
   "codemirror_mode": {
    "name": "ipython",
    "version": 3
   },
   "file_extension": ".py",
   "mimetype": "text/x-python",
   "name": "python",
   "nbconvert_exporter": "python",
   "pygments_lexer": "ipython3",
   "version": "3.9.13"
  },
  "orig_nbformat": 4,
  "vscode": {
   "interpreter": {
    "hash": "aee8b7b246df8f9039afb4144a1f6fd8d2ca17a180786b69acc140d282b71a49"
   }
  }
 },
 "nbformat": 4,
 "nbformat_minor": 2
}
